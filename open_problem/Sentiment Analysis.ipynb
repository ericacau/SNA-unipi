{
 "cells": [
  {
   "cell_type": "markdown",
   "metadata": {},
   "source": [
    "# Sentiment Analysis"
   ]
  },
  {
   "cell_type": "markdown",
   "metadata": {},
   "source": [
    "## Import libraries"
   ]
  },
  {
   "cell_type": "code",
   "execution_count": 2,
   "metadata": {},
   "outputs": [],
   "source": [
    "import pandas as pd\n",
    "import matplotlib.pyplot as plt\n",
    "import seaborn as sns\n",
    "from vaderSentiment.vaderSentiment import SentimentIntensityAnalyzer\n",
    "import numpy as np\n",
    "%matplotlib inline\n"
   ]
  },
  {
   "cell_type": "markdown",
   "metadata": {},
   "source": [
    "## Read the NLP dataset tagged with communities"
   ]
  },
  {
   "cell_type": "code",
   "execution_count": 4,
   "metadata": {},
   "outputs": [],
   "source": [
    "df = pd.read_csv(\"../network_analysis/df_nlp_louvain.csv\")"
   ]
  },
  {
   "cell_type": "code",
   "execution_count": 5,
   "metadata": {},
   "outputs": [],
   "source": [
    "df_filter = df.loc[(df[\"likes_count\"]>=5) & (df[\"retweets_count\"]>= 3)]\n",
    "df = df_filter"
   ]
  },
  {
   "cell_type": "code",
   "execution_count": 6,
   "metadata": {},
   "outputs": [
    {
     "name": "stdout",
     "output_type": "stream",
     "text": [
      "<class 'pandas.core.frame.DataFrame'>\n",
      "Int64Index: 11908 entries, 6 to 174219\n",
      "Data columns (total 11 columns):\n",
      " #   Column                        Non-Null Count  Dtype \n",
      "---  ------                        --------------  ----- \n",
      " 0   date                          11908 non-null  object\n",
      " 1   time                          11908 non-null  object\n",
      " 2   name                          11908 non-null  object\n",
      " 3   tweet                         11908 non-null  object\n",
      " 4   mentions                      4470 non-null   object\n",
      " 5   replies_count                 11908 non-null  int64 \n",
      " 6   retweets_count                11908 non-null  int64 \n",
      " 7   likes_count                   11908 non-null  int64 \n",
      " 8   hashtags                      11763 non-null  object\n",
      " 9   community                     11908 non-null  object\n",
      " 10  original_community_extension  11908 non-null  int64 \n",
      "dtypes: int64(4), object(7)\n",
      "memory usage: 1.1+ MB\n"
     ]
    }
   ],
   "source": [
    "df.info()"
   ]
  },
  {
   "cell_type": "code",
   "execution_count": 7,
   "metadata": {},
   "outputs": [
    {
     "data": {
      "text/plain": [
       "community_1      1853\n",
       "community_0      1649\n",
       "community_2      1402\n",
       "community_5       773\n",
       "community_3       756\n",
       "                 ... \n",
       "community_42        1\n",
       "community_31        1\n",
       "community_96        1\n",
       "community_54        1\n",
       "community_112       1\n",
       "Name: community, Length: 87, dtype: int64"
      ]
     },
     "execution_count": 7,
     "metadata": {},
     "output_type": "execute_result"
    }
   ],
   "source": [
    "df.community.value_counts()"
   ]
  },
  {
   "cell_type": "markdown",
   "metadata": {},
   "source": [
    "## Sentiment Analysis"
   ]
  },
  {
   "cell_type": "code",
   "execution_count": 13,
   "metadata": {},
   "outputs": [],
   "source": [
    "analyser = SentimentIntensityAnalyzer()\n"
   ]
  },
  {
   "cell_type": "code",
   "execution_count": 14,
   "metadata": {
    "tags": []
   },
   "outputs": [],
   "source": [
    "pol = lambda x: analyser.polarity_scores(x)"
   ]
  },
  {
   "cell_type": "code",
   "execution_count": 15,
   "metadata": {},
   "outputs": [],
   "source": [
    "df['compound'] = [analyser.polarity_scores(x)['compound'] for x in df['tweet']]\n",
    "df['neg'] = [analyser.polarity_scores(x)['neg'] for x in df['tweet']]\n",
    "df['neu'] = [analyser.polarity_scores(x)['neu'] for x in df['tweet']]\n",
    "df['pos'] = [analyser.polarity_scores(x)['pos'] for x in df['tweet']]"
   ]
  },
  {
   "cell_type": "code",
   "execution_count": 24,
   "metadata": {},
   "outputs": [],
   "source": [
    "df['sentiment_type']=''\n",
    "df.loc[df.compound==0.05,'sentiment_type']='POSITIVE'\n",
    "df.loc[df.compound==0,'sentiment_type']='NEUTRAL'\n",
    "df.loc[df.compound<= - 0.05,'sentiment_type']='NEGATIVE'"
   ]
  },
  {
   "cell_type": "code",
   "execution_count": 25,
   "metadata": {},
   "outputs": [
    {
     "data": {
      "text/plain": [
       "([<matplotlib.axis.XTick at 0x1a82d566760>,\n",
       "  <matplotlib.axis.XTick at 0x1a82d566730>,\n",
       "  <matplotlib.axis.XTick at 0x1a82d56b6a0>],\n",
       " [Text(0, 0, 'Negative'), Text(1, 0, 'Positive'), Text(2, 0, 'Neutral')])"
      ]
     },
     "execution_count": 25,
     "metadata": {},
     "output_type": "execute_result"
    },
    {
     "data": {
      "image/png": "[encoded data removed]",
      "text/plain": [
       "<Figure size 432x288 with 1 Axes>"
      ]
     },
     "metadata": {
      "needs_background": "light"
     },
     "output_type": "display_data"
    }
   ],
   "source": [
    "df.sentiment_type.value_counts().plot(kind='bar',title=\"sentiment analysis\", color = \"#BCE4D7\")\n",
    "plt.title(\"Sentiment Analysis\")\n",
    "plt.xticks(np.arange(3),[\"Negative\", \"Positive\", \"Neutral\"], rotation = 0)"
   ]
  },
  {
   "cell_type": "code",
   "execution_count": 26,
   "metadata": {},
   "outputs": [
    {
     "data": {
      "text/plain": [
       "NEGATIVE    5593\n",
       "            4730\n",
       "NEUTRAL     1585\n",
       "Name: sentiment_type, dtype: int64"
      ]
     },
     "execution_count": 26,
     "metadata": {},
     "output_type": "execute_result"
    }
   ],
   "source": [
    "df.sentiment_type.value_counts()"
   ]
  },
  {
   "cell_type": "code",
   "execution_count": 28,
   "metadata": {},
   "outputs": [],
   "source": [
    "com5 = df_filter[df_filter[\"community\"]==\"community_5\"]\n",
    "com8 = df_filter[df_filter[\"community\"]==\"community_8\"]\n",
    "com3 = df_filter[df_filter[\"community\"]==\"community_3\"]\n",
    "com2 = df_filter[df_filter[\"community\"]==\"community_2\"]\n",
    "\n",
    "\n"
   ]
  },
  {
   "cell_type": "code",
   "execution_count": 29,
   "metadata": {},
   "outputs": [
    {
     "data": {
      "text/plain": [
       "([<matplotlib.axis.XTick at 0x1a836ea5d90>,\n",
       "  <matplotlib.axis.XTick at 0x1a836ea5d60>,\n",
       "  <matplotlib.axis.XTick at 0x1a836e9acd0>],\n",
       " [Text(0, 0, 'Negative'), Text(1, 0, 'Positive'), Text(2, 0, 'Neutral')])"
      ]
     },
     "execution_count": 29,
     "metadata": {},
     "output_type": "execute_result"
    },
    {
     "data": {
      "image/png": "[encoded data removed]",
      "text/plain": [
       "<Figure size 432x288 with 1 Axes>"
      ]
     },
     "metadata": {
      "needs_background": "light"
     },
     "output_type": "display_data"
    }
   ],
   "source": [
    "com5.sentiment_type.value_counts().plot(kind='bar',title=\"sentiment analysis\", color = \"#BCE4D7\")\n",
    "plt.title(\"Sentiment Analysis community_5\")\n",
    "plt.xticks(np.arange(3),[\"Negative\", \"Positive\", \"Neutral\"], rotation = 0)"
   ]
  },
  {
   "cell_type": "code",
   "execution_count": 30,
   "metadata": {},
   "outputs": [
    {
     "data": {
      "text/plain": [
       "([<matplotlib.axis.XTick at 0x1a8305c26a0>,\n",
       "  <matplotlib.axis.XTick at 0x1a8305c2670>,\n",
       "  <matplotlib.axis.XTick at 0x1a8305b75e0>],\n",
       " [Text(0, 0, 'Negative'), Text(1, 0, 'Positive'), Text(2, 0, 'Neutral')])"
      ]
     },
     "execution_count": 30,
     "metadata": {},
     "output_type": "execute_result"
    },
    {
     "data": {
      "image/png": "[encoded data removed]",
      "text/plain": [
       "<Figure size 432x288 with 1 Axes>"
      ]
     },
     "metadata": {
      "needs_background": "light"
     },
     "output_type": "display_data"
    }
   ],
   "source": [
    "com8.sentiment_type.value_counts().plot(kind='bar',title=\"sentiment analysis\", color = \"#BCE4D7\")\n",
    "plt.title(\"Sentiment Analysis community_8\")\n",
    "plt.xticks(np.arange(3),[\"Negative\", \"Positive\", \"Neutral\"], rotation = 0)"
   ]
  },
  {
   "cell_type": "code",
   "execution_count": 26,
   "metadata": {},
   "outputs": [
    {
     "data": {
      "text/plain": [
       "([<matplotlib.axis.XTick at 0x2ca28593880>,\n",
       "  <matplotlib.axis.XTick at 0x2ca2d8a7310>,\n",
       "  <matplotlib.axis.XTick at 0x2ca2859d100>],\n",
       " [Text(0, 0, 'Negative'), Text(1, 0, 'Positive'), Text(2, 0, 'Neutral')])"
      ]
     },
     "execution_count": 26,
     "metadata": {},
     "output_type": "execute_result"
    },
    {
     "data": {
      "image/png": "[encoded data removed]",
      "text/plain": [
       "<Figure size 432x288 with 1 Axes>"
      ]
     },
     "metadata": {
      "needs_background": "light"
     },
     "output_type": "display_data"
    }
   ],
   "source": [
    "com3.sentiment_type.value_counts().plot(kind='bar',title=\"sentiment analysis\", color = \"#BCE4D7\")\n",
    "plt.title(\"Sentiment Analysis community_3\")\n",
    "plt.xticks(np.arange(3),[\"Negative\", \"Positive\", \"Neutral\"], rotation = 0)"
   ]
  },
  {
   "cell_type": "code",
   "execution_count": 27,
   "metadata": {},
   "outputs": [
    {
     "data": {
      "text/plain": [
       "([<matplotlib.axis.XTick at 0x2ca2707bb80>,\n",
       "  <matplotlib.axis.XTick at 0x2ca2707bb50>,\n",
       "  <matplotlib.axis.XTick at 0x2ca2f22c220>],\n",
       " [Text(0, 0, 'Negative'), Text(1, 0, 'Positive'), Text(2, 0, 'Neutral')])"
      ]
     },
     "execution_count": 27,
     "metadata": {},
     "output_type": "execute_result"
    },
    {
     "data": {
      "image/png": "[encoded data removed]",
      "text/plain": [
       "<Figure size 432x288 with 1 Axes>"
      ]
     },
     "metadata": {
      "needs_background": "light"
     },
     "output_type": "display_data"
    }
   ],
   "source": [
    "com2.sentiment_type.value_counts().plot(kind='bar',title=\"sentiment analysis\", color = \"#BCE4D7\")\n",
    "plt.title(\"Sentiment Analysis community_2\")\n",
    "plt.xticks(np.arange(3),[\"Negative\", \"Positive\", \"Neutral\"], rotation = 0)"
   ]
  }
 ],
 "metadata": {
  "kernelspec": {
   "display_name": "Python 3",
   "language": "python",
   "name": "python3"
  },
  "language_info": {
   "codemirror_mode": {
    "name": "ipython",
    "version": 3
   },
   "file_extension": ".py",
   "mimetype": "text/x-python",
   "name": "python",
   "nbconvert_exporter": "python",
   "pygments_lexer": "ipython3",
   "version": "3.8.5"
  }
 },
 "nbformat": 4,
 "nbformat_minor": 4
}
