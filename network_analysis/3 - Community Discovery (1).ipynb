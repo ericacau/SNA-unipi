{
 "cells": [
  {
   "cell_type": "markdown",
   "metadata": {},
   "source": [
    "# Community Discovery \n",
    "* K-Clique\n",
    "* Label Propagation\n",
    "* Demon\n",
    "* Angel\n"
   ]
  },
  {
   "cell_type": "code",
   "execution_count": 2,
   "metadata": {
    "colab": {
     "base_uri": "https://localhost:8080/",
     "height": 367
    },
    "executionInfo": {
     "elapsed": 2270,
     "status": "error",
     "timestamp": 1634822773485,
     "user": {
      "displayName": "Erica Cau",
      "photoUrl": "https://lh3.googleusercontent.com/a-/AOh14GgaHAm9eb7IEPH3gg3F8-B7BnNNHRInIVeLzqUivA=s64",
      "userId": "14542953089584718764"
     },
     "user_tz": -120
    },
    "id": "86e32f35",
    "outputId": "2fb4fc50-5e28-46ea-d5e9-bdb412fb8baa"
   },
   "outputs": [],
   "source": [
    "import warnings\n",
    "import pandas as pd\n",
    "import numpy as np\n",
    "import cdlib\n",
    "import networkx as nx\n",
    "import matplotlib.pyplot as plt \n",
    "from cdlib import algorithms, evaluation, viz, ensemble\n",
    "from collections import Counter\n",
    "\n",
    "warnings.filterwarnings('ignore')\n"
   ]
  },
  {
   "cell_type": "markdown",
   "metadata": {},
   "source": [
    "### Functions"
   ]
  },
  {
   "cell_type": "code",
   "execution_count": 3,
   "metadata": {
    "id": "d19af77d"
   },
   "outputs": [],
   "source": [
    "list_size = []"
   ]
  },
  {
   "cell_type": "code",
   "execution_count": 10,
   "metadata": {
    "id": "26fb3511"
   },
   "outputs": [],
   "source": [
    "def print_results(metodo, nome):\n",
    "    '''Internal eval of communities'''\n",
    "    print(\"Node coverage: \", metodo.node_coverage)\n",
    "    print(\"Number of nodes: \", metodo.size())\n",
    "    print(\"Average internal degree: \", metodo.average_internal_degree())\n",
    "    print(\"Internal edge density: \", metodo.internal_edge_density())\n",
    "    print(\"Conductance: \", metodo.conductance())\n",
    "    print(\"Cut ratio: \", metodo.cut_ratio())\n",
    "    print(\"Link modularity: \", metodo.link_modularity())\n",
    "    \n",
    "    list_size.append((nome, metodo.size(summary = False)))\n",
    "    \n",
    "\n",
    "def stampaCommunity (metodo):\n",
    "    '''Print coms dimensions'''\n",
    "    print(\"Comunita' totali: %d\"%len(metodo.communities))\n",
    "    nodes_l = []\n",
    "    for i in metodo.communities:\n",
    "        nodes_l += i\n",
    "    nodes_l = list(set(nodes_l))\n",
    "    print(\"Nodi: %d\"%len(nodes_l))\n",
    "    ù\n",
    "    \n",
    "def read_net_w(filename):\n",
    "    g = nx.Graph()\n",
    "    with open(filename) as f:\n",
    "        f.readline()\n",
    "        for l in f:\n",
    "            l = l.split(\",\")\n",
    "            g.add_edge(l[1], l[2], weight=int(float(l[3].rstrip('\\n'))))\n",
    "    return g\n",
    "\n",
    "\n",
    "def plot_boxplot(list_size):\n",
    "    dati = []\n",
    "    labels = []\n",
    "    \n",
    "    for i in range(len(list_size)):\n",
    "        labels.append(list_size[i][0])\n",
    "        dati.append(list_size[i][1])\n",
    "    fig = plt.figure(figsize=(16,8), dpi= 300)\n",
    "    ax = fig.add_subplot(111)\n",
    "    plt.boxplot(dati, labels=labels)\n",
    "    \n",
    "    \n",
    "    plt.xlabel('Algoritmi')\n",
    "    plt.ylabel(\"Size\")\n",
    "    plt.grid(axis='both', alpha=.3)\n",
    "    plt.title(\"Boxplot size\")\n",
    "    plt.yscale(\"log\")\n",
    "\n",
    "    plt.show()"
   ]
  },
  {
   "cell_type": "markdown",
   "metadata": {},
   "source": [
    "### Data import"
   ]
  },
  {
   "cell_type": "code",
   "execution_count": 5,
   "metadata": {
    "id": "f149a337"
   },
   "outputs": [],
   "source": [
    "df = pd.read_csv(\"../data_collection/data/df_nickname.csv\", skipinitialspace=True, na_values='?', keep_default_na=True)   \n",
    "g = read_net_w(\"../data_collection/data/df_nickname.csv\")"
   ]
  },
  {
   "cell_type": "markdown",
   "metadata": {
    "id": "bce19874"
   },
   "source": [
    "## K-cliques"
   ]
  },
  {
   "cell_type": "markdown",
   "metadata": {},
   "source": [
    "### Parameter tuning\n",
    "\n",
    "* k – Size of smallest clique"
   ]
  },
  {
   "cell_type": "code",
   "execution_count": 8,
   "metadata": {},
   "outputs": [
    {
     "name": "stdout",
     "output_type": "stream",
     "text": [
      "Configuration: {'k': 2} \n",
      "Scoring: FitnessResult(min=None, max=None, score=0.4696379288696644, std=None)\n"
     ]
    }
   ],
   "source": [
    "n_k = ensemble.Parameter(name=\"k\", start=2, end=10, step=1)\n",
    "\n",
    "communities_k, scoring_k = ensemble.random_search(graph=g, method=algorithms.kclique,\n",
    "                                              parameters=[n_k],\n",
    "                                              quality_score=evaluation.erdos_renyi_modularity,\n",
    "                                              instances = 3, aggregate=max)\n",
    "\n",
    "print(\"Configuration: %s \\nScoring: %s\" %(communities_k.method_parameters, scoring_k))\n"
   ]
  },
  {
   "cell_type": "markdown",
   "metadata": {},
   "source": [
    "### Algorithm"
   ]
  },
  {
   "cell_type": "code",
   "execution_count": 7,
   "metadata": {
    "id": "2e5c51e3"
   },
   "outputs": [],
   "source": [
    "kclique_coms = algorithms.kclique(g, k=6)"
   ]
  },
  {
   "cell_type": "code",
   "execution_count": 7,
   "metadata": {
    "colab": {
     "base_uri": "https://localhost:8080/"
    },
    "executionInfo": {
     "elapsed": 380,
     "status": "ok",
     "timestamp": 1633789580719,
     "user": {
      "displayName": "Erica Cau",
      "photoUrl": "https://lh3.googleusercontent.com/a-/AOh14GgaHAm9eb7IEPH3gg3F8-B7BnNNHRInIVeLzqUivA=s64",
      "userId": "14542953089584718764"
     },
     "user_tz": -120
    },
    "id": "68ff5350",
    "outputId": "8c4b4f1e-a0e0-467f-8a27-ee04da1e7e8b"
   },
   "outputs": [
    {
     "data": {
      "text/plain": [
       "True"
      ]
     },
     "execution_count": 7,
     "metadata": {},
     "output_type": "execute_result"
    }
   ],
   "source": [
    "kclique_coms.overlap "
   ]
  },
  {
   "cell_type": "markdown",
   "metadata": {},
   "source": [
    "### Evaluation"
   ]
  },
  {
   "cell_type": "code",
   "execution_count": 8,
   "metadata": {
    "colab": {
     "base_uri": "https://localhost:8080/"
    },
    "executionInfo": {
     "elapsed": 1259,
     "status": "ok",
     "timestamp": 1633789583215,
     "user": {
      "displayName": "Erica Cau",
      "photoUrl": "https://lh3.googleusercontent.com/a-/AOh14GgaHAm9eb7IEPH3gg3F8-B7BnNNHRInIVeLzqUivA=s64",
      "userId": "14542953089584718764"
     },
     "user_tz": -120
    },
    "id": "83fca092",
    "outputId": "98414b0c-bd63-4c96-dc55-e0da8e45f1f3"
   },
   "outputs": [
    {
     "name": "stdout",
     "output_type": "stream",
     "text": [
      "Node coverage:  0.0007576475044985321\n",
      "Number of nodes:  FitnessResult(min=8, max=23, score=13.333333333333334, std=6.847546194724712)\n",
      "Average internal degree:  FitnessResult(min=6.25, max=8.695652173913043, score=7.204106280193237, std=1.068311640731015)\n",
      "Internal edge density:  FitnessResult(min=0.3952569169960474, max=0.8928571428571429, score=0.7071491310621746, std=0.2218758449694481)\n",
      "Conductance:  FitnessResult(min=0.441340782122905, max=0.5041322314049587, score=0.47666969866736353, std=0.026231044220958746)\n",
      "Cut ratio:  FitnessResult(min=0.00011129634190236232, max=0.00013017443374121324, score=0.00012329060824776492, std=8.51207151227067e-06)\n",
      "Link modularity:  FitnessResult(min=None, max=None, score=0.0002766867558366552, std=None)\n"
     ]
    }
   ],
   "source": [
    "print_results(kclique_coms, \"K-cliques\")"
   ]
  },
  {
   "cell_type": "markdown",
   "metadata": {
    "id": "9e11c5ef"
   },
   "source": [
    "## Label propagation"
   ]
  },
  {
   "cell_type": "code",
   "execution_count": 10,
   "metadata": {
    "id": "a1009489"
   },
   "outputs": [],
   "source": [
    "label_coms = algorithms.label_propagation(g)"
   ]
  },
  {
   "cell_type": "code",
   "execution_count": 11,
   "metadata": {
    "colab": {
     "base_uri": "https://localhost:8080/"
    },
    "executionInfo": {
     "elapsed": 9,
     "status": "ok",
     "timestamp": 1633789593398,
     "user": {
      "displayName": "Erica Cau",
      "photoUrl": "https://lh3.googleusercontent.com/a-/AOh14GgaHAm9eb7IEPH3gg3F8-B7BnNNHRInIVeLzqUivA=s64",
      "userId": "14542953089584718764"
     },
     "user_tz": -120
    },
    "id": "7ecd4578",
    "outputId": "63ffa57a-9bc8-42b2-ed3e-4346181b59ab"
   },
   "outputs": [
    {
     "data": {
      "text/plain": [
       "False"
      ]
     },
     "execution_count": 11,
     "metadata": {},
     "output_type": "execute_result"
    }
   ],
   "source": [
    "label_coms.overlap"
   ]
  },
  {
   "cell_type": "code",
   "execution_count": 108,
   "metadata": {
    "colab": {
     "base_uri": "https://localhost:8080/"
    },
    "executionInfo": {
     "elapsed": 8000,
     "status": "ok",
     "timestamp": 1633789611487,
     "user": {
      "displayName": "Erica Cau",
      "photoUrl": "https://lh3.googleusercontent.com/a-/AOh14GgaHAm9eb7IEPH3gg3F8-B7BnNNHRInIVeLzqUivA=s64",
      "userId": "14542953089584718764"
     },
     "user_tz": -120
    },
    "id": "65410346",
    "outputId": "97f862dc-03e0-4f1d-9b2f-fd148a33d93b"
   },
   "outputs": [
    {
     "name": "stdout",
     "output_type": "stream",
     "text": [
      "Node coverage:  1.0\n",
      "Number of nodes:  FitnessResult(min=2, max=916, score=6.300871225683256, std=19.30429966705665)\n",
      "Average internal degree:  FitnessResult(min=1.0, max=20.83582089552239, score=1.4050708321348455, std=0.7835020701132581)\n",
      "Internal edge density:  FitnessResult(min=0.002283628033502756, max=1.0, score=0.6832459851846769, std=0.3207008168565289)\n",
      "Conductance:  FitnessResult(min=0.0, max=0.9285714285714286, score=0.2390133634871359, std=0.2335127354159985)\n",
      "Cut ratio:  FitnessResult(min=0.0, max=0.0002462447672986949, score=1.287068745038726e-05, std=1.8591388511278523e-05)\n",
      "Link modularity:  FitnessResult(min=None, max=None, score=0.10980358531857101, std=None)\n"
     ]
    }
   ],
   "source": [
    "print_results(label_coms, \"Label propagation\")"
   ]
  },
  {
   "cell_type": "markdown",
   "metadata": {
    "id": "4b71de0e"
   },
   "source": [
    "## Louvain con grafo con pesi"
   ]
  },
  {
   "cell_type": "markdown",
   "metadata": {},
   "source": [
    "### Parameter tuning"
   ]
  },
  {
   "cell_type": "code",
   "execution_count": 12,
   "metadata": {},
   "outputs": [
    {
     "name": "stdout",
     "output_type": "stream",
     "text": [
      "Configuration: {'weight': 'weight', 'resolution': 0.6, 'randomize': True} \n",
      "Scoring: FitnessResult(min=None, max=None, score=2.467906230559608e-05, std=None)\n"
     ]
    }
   ],
   "source": [
    "resolution_lp = ensemble.Parameter(name=\"resolution\", start=0.1, end=0.7, step=0.1)\n",
    "randomize_lp = ensemble.BoolParameter(name=\"randomize\")\n",
    "\n",
    "communities_lp, scoring_lp = ensemble.random_search(graph=g, method=algorithms.louvain,\n",
    "                                              parameters=[resolution_lp, randomize_lp],\n",
    "                                              quality_score=evaluation.erdos_renyi_modularity,\n",
    "                                              instances = 3, aggregate=max)\n",
    "\n",
    "print(\"Configuration: %s \\nScoring: %s\" %(communities_lp.method_parameters, scoring_lp))\n"
   ]
  },
  {
   "cell_type": "markdown",
   "metadata": {},
   "source": [
    "### Algorithm"
   ]
  },
  {
   "cell_type": "code",
   "execution_count": 103,
   "metadata": {
    "colab": {
     "base_uri": "https://localhost:8080/",
     "height": 282
    },
    "executionInfo": {
     "elapsed": 1657,
     "status": "error",
     "timestamp": 1633795158106,
     "user": {
      "displayName": "Erica Cau",
      "photoUrl": "https://lh3.googleusercontent.com/a-/AOh14GgaHAm9eb7IEPH3gg3F8-B7BnNNHRInIVeLzqUivA=s64",
      "userId": "14542953089584718764"
     },
     "user_tz": -120
    },
    "id": "70e72efc",
    "outputId": "767b1254-491b-4a65-f60c-1e3ef15333da"
   },
   "outputs": [],
   "source": [
    "louvain_coms = algorithms.louvain(g, resolution=0.8, randomize=True, weight = \"weights\")"
   ]
  },
  {
   "cell_type": "code",
   "execution_count": 104,
   "metadata": {
    "id": "aa60ca18"
   },
   "outputs": [
    {
     "data": {
      "text/plain": [
       "False"
      ]
     },
     "execution_count": 104,
     "metadata": {},
     "output_type": "execute_result"
    }
   ],
   "source": [
    "louvain_coms.overlap"
   ]
  },
  {
   "cell_type": "markdown",
   "metadata": {},
   "source": [
    "### Evaluation"
   ]
  },
  {
   "cell_type": "code",
   "execution_count": 105,
   "metadata": {
    "id": "1252e77c"
   },
   "outputs": [
    {
     "name": "stdout",
     "output_type": "stream",
     "text": [
      "Node coverage:  1.0\n",
      "Number of nodes:  FitnessResult(min=2, max=9097, score=16.08622790981109, std=191.45738456072698)\n",
      "Average internal degree:  FitnessResult(min=1.0, max=18.151898734177216, score=1.347258374073941, std=0.8223023030464576)\n",
      "Internal edge density:  FitnessResult(min=0.00034599729351079717, max=1.0, score=0.748102478383508, std=0.31085221467907526)\n",
      "Conductance:  FitnessResult(min=0.0, max=0.19548872180451127, score=0.0032466350890698647, std=0.01847495771679614)\n",
      "Cut ratio:  FitnessResult(min=0.0, max=9.399090818715035e-06, score=1.3319241685070917e-07, std=7.516898370933337e-07)\n",
      "Link modularity:  FitnessResult(min=None, max=None, score=0.13664755571882573, std=None)\n"
     ]
    }
   ],
   "source": [
    "print_results(louvain_coms, \"Louvain\")"
   ]
  },
  {
   "cell_type": "code",
   "execution_count": 66,
   "metadata": {},
   "outputs": [
    {
     "name": "stdout",
     "output_type": "stream",
     "text": [
      "Comunita' totali: 3282\n",
      "Nodi: 52795\n"
     ]
    }
   ],
   "source": [
    "stampaCommunity(louvain_coms)"
   ]
  },
  {
   "cell_type": "markdown",
   "metadata": {
    "id": "c209020a"
   },
   "source": [
    "# Louvain con grafo non pesato"
   ]
  },
  {
   "cell_type": "code",
   "execution_count": 25,
   "metadata": {
    "colab": {
     "base_uri": "https://localhost:8080/",
     "height": 282
    },
    "executionInfo": {
     "elapsed": 1348,
     "status": "error",
     "timestamp": 1633794729262,
     "user": {
      "displayName": "Erica Cau",
      "photoUrl": "https://lh3.googleusercontent.com/a-/AOh14GgaHAm9eb7IEPH3gg3F8-B7BnNNHRInIVeLzqUivA=s64",
      "userId": "14542953089584718764"
     },
     "user_tz": -120
    },
    "id": "28fe9824",
    "outputId": "39b46804-76b3-466b-93da-858e041a5105"
   },
   "outputs": [],
   "source": [
    "louvain_coms_senzapesi = algorithms.louvain(g.to_undirected(), resolution=1., randomize=42)"
   ]
  },
  {
   "cell_type": "code",
   "execution_count": 26,
   "metadata": {
    "id": "4abe01f7",
    "outputId": "7366dfe1-ae69-4325-df69-6fa60bc5f39a"
   },
   "outputs": [
    {
     "data": {
      "text/plain": [
       "False"
      ]
     },
     "execution_count": 26,
     "metadata": {},
     "output_type": "execute_result"
    }
   ],
   "source": [
    "louvain_coms_senzapesi.overlap"
   ]
  },
  {
   "cell_type": "code",
   "execution_count": 27,
   "metadata": {
    "id": "0b99b625",
    "outputId": "811b7254-86d2-43e0-bed6-01edad21c8c5"
   },
   "outputs": [
    {
     "name": "stdout",
     "output_type": "stream",
     "text": [
      "Node coverage:  1.0\n",
      "Number of nodes:  FitnessResult(min=1, max=2, score=1.0000189415463878, std=0.004352147470579042)\n",
      "Average internal degree:  FitnessResult(min=0.0, max=2.0, score=5.682463916354131e-05, std=0.009731623857281962)\n",
      "Internal edge density:  FitnessResult(min=0, max=1.0, score=1.8941546387847104e-05, std=0.004352147470579042)\n",
      "Conductance:  FitnessResult(min=0.9259259259259259, max=1.0, score=0.9999984606523719, std=0.00032389760479560175)\n",
      "Cut ratio:  FitnessResult(min=1.8941546387847104e-05, max=0.0179755275220669, score=5.809903440319944e-05, std=0.00021064401968302096)\n",
      "Link modularity:  FitnessResult(min=None, max=None, score=1.7850758441350195e-06, std=None)\n"
     ]
    }
   ],
   "source": [
    "print_results(louvain_coms_senzapesi, \"Louvain grafo non pesato\")"
   ]
  },
  {
   "cell_type": "markdown",
   "metadata": {
    "id": "2be097a0"
   },
   "source": [
    "# Demon"
   ]
  },
  {
   "cell_type": "markdown",
   "metadata": {},
   "source": [
    "### Parameter Tuning\n",
    "\n",
    "* epsilon – merging threshold in [0,1], default 0.25.\n",
    "* min com dimension"
   ]
  },
  {
   "cell_type": "code",
   "execution_count": null,
   "metadata": {},
   "outputs": [],
   "source": [
    "eps = ensemble.Parameter(name=\"epsilon\", start=0.1, end=0.6, step=0.1)\n",
    "size = ensemble.Parameter(name=\"min_com_size\", start=3, end=5,step=1)\n",
    "\n",
    "coms_demon, scoring = ensemble.random_search(graph=g, method=algorithms.demon,\n",
    "                                                       parameters=[eps, size],\n",
    "                                                       quality_score=evaluation.newman_girvan_modularity,\n",
    "                                                        aggregate=max)\n",
    "\n",
    "print(\"Configuration: %s \\nScoring: %s\" %(coms_demon.method_parameters, scoring))"
   ]
  },
  {
   "cell_type": "markdown",
   "metadata": {},
   "source": [
    "### algorithm"
   ]
  },
  {
   "cell_type": "code",
   "execution_count": 16,
   "metadata": {
    "id": "8332c5da"
   },
   "outputs": [],
   "source": [
    "demon_coms = algorithms.demon(g.to_undirected(), min_com_size=4, epsilon=0.5)"
   ]
  },
  {
   "cell_type": "markdown",
   "metadata": {},
   "source": [
    "### evaluation"
   ]
  },
  {
   "cell_type": "code",
   "execution_count": 106,
   "metadata": {
    "id": "15201d66",
    "outputId": "fb52612d-1dec-47bc-a097-fa3606e1bbd5"
   },
   "outputs": [
    {
     "name": "stdout",
     "output_type": "stream",
     "text": [
      "Node coverage:  0.06360450800265177\n",
      "Number of nodes:  FitnessResult(min=5, max=87, score=25.743589743589745, std=15.394334536825218)\n",
      "Average internal degree:  FitnessResult(min=2.8, max=18.772727272727273, score=5.512254816906037, std=3.0553170941086623)\n",
      "Internal edge density:  FitnessResult(min=0.0582731889869019, max=0.8, score=0.29812937923408556, std=0.1713182037673018)\n",
      "Conductance:  FitnessResult(min=0.0, max=0.9853777416734363, score=0.39572842943061204, std=0.28821541893495156)\n",
      "Cut ratio:  FitnessResult(min=0.0, max=0.0038297119980804082, score=0.00021609334358590625, std=0.0004593777471230093)\n",
      "Link modularity:  FitnessResult(min=None, max=None, score=0.017854397693585156, std=None)\n"
     ]
    }
   ],
   "source": [
    "print_results(demon_coms, \"Demon\")"
   ]
  },
  {
   "cell_type": "markdown",
   "metadata": {},
   "source": [
    "# Angel\n"
   ]
  },
  {
   "cell_type": "markdown",
   "metadata": {},
   "source": [
    "### Parameter Tuning \n",
    "\n",
    "* threshold – merging threshold in [0,1].\n"
   ]
  },
  {
   "cell_type": "code",
   "execution_count": null,
   "metadata": {},
   "outputs": [],
   "source": [
    "threshold = ensemble.Parameter(name=\"threshold\", start=0, end=1, step=0.1)\n",
    "size = ensemble.Parameter(name=\"min_community_size\", start=3, end=5,step=1)\n",
    "\n",
    "coms_angel, scoring_angel = ensemble.random_search(graph=g, method=algorithms.angel,\n",
    "                                                       parameters=[threshold, size],\n",
    "                                                       quality_score=evaluation.newman_girvan_modularity,\n",
    "                                                        aggregate=max)\n",
    "\n",
    "print(\"Configuration: %s \\nScoring: %s\" %(coms_angel.method_parameters, scoring_angel))"
   ]
  },
  {
   "cell_type": "markdown",
   "metadata": {},
   "source": [
    "### Algorithms"
   ]
  },
  {
   "cell_type": "code",
   "execution_count": 21,
   "metadata": {},
   "outputs": [],
   "source": [
    "angel_coms = algorithms.angel(g.to_undirected(), min_community_size = 4, threshold=0.1)"
   ]
  },
  {
   "cell_type": "markdown",
   "metadata": {},
   "source": [
    "### Evaluation"
   ]
  },
  {
   "cell_type": "code",
   "execution_count": 107,
   "metadata": {},
   "outputs": [
    {
     "name": "stdout",
     "output_type": "stream",
     "text": [
      "Node coverage:  0.06349086087697699\n",
      "Number of nodes:  FitnessResult(min=5, max=284, score=31.839622641509433, std=33.30763887466013)\n",
      "Average internal degree:  FitnessResult(min=1.75, max=18.444444444444443, score=5.396579084720981, std=2.8382262075727835)\n",
      "Internal edge density:  FitnessResult(min=0.02806947693226497, max=0.7333333333333333, score=0.2621833223391592, std=0.16127573099950887)\n",
      "Conductance:  FitnessResult(min=0.0, max=0.953125, score=0.27096054702162753, std=0.2307356107431143)\n",
      "Cut ratio:  FitnessResult(min=0.0, max=0.0011872142711921944, score=7.498116194828148e-05, std=0.0001755039177498925)\n",
      "Link modularity:  FitnessResult(min=None, max=None, score=0.019570464775790438, std=None)\n"
     ]
    }
   ],
   "source": [
    "print_results(angel_coms, \"Angel\")"
   ]
  },
  {
   "cell_type": "markdown",
   "metadata": {
    "id": "85c13f1d"
   },
   "source": [
    "## External evaluation"
   ]
  },
  {
   "cell_type": "markdown",
   "metadata": {},
   "source": [
    "* size"
   ]
  },
  {
   "cell_type": "code",
   "execution_count": 35,
   "metadata": {
    "id": "19c7173d",
    "outputId": "5d99630e-cbe1-4a7e-dd39-c78d7850d506"
   },
   "outputs": [
    {
     "name": "stdout",
     "output_type": "stream",
     "text": [
      "Comunita' totali: 3258\n",
      "Nodi: 52795\n"
     ]
    }
   ],
   "source": [
    "stampaCommunity(louvain_coms)"
   ]
  },
  {
   "cell_type": "code",
   "execution_count": 36,
   "metadata": {
    "id": "2684e2f2",
    "outputId": "681fa9ee-e4be-43a5-a751-3f85c3fa2932"
   },
   "outputs": [
    {
     "name": "stdout",
     "output_type": "stream",
     "text": [
      "Comunita' totali: 8379\n",
      "Nodi: 52795\n"
     ]
    }
   ],
   "source": [
    "stampaCommunity(label_coms)"
   ]
  },
  {
   "cell_type": "code",
   "execution_count": 37,
   "metadata": {
    "id": "a8504aa3",
    "outputId": "bef1df19-6cdf-461c-dc49-7a07d2f6cb59"
   },
   "outputs": [
    {
     "name": "stdout",
     "output_type": "stream",
     "text": [
      "Comunita' totali: 3\n",
      "Nodi: 40\n"
     ]
    }
   ],
   "source": [
    "stampaCommunity(kclique_coms)"
   ]
  },
  {
   "cell_type": "code",
   "execution_count": 38,
   "metadata": {
    "id": "e8e2193d",
    "outputId": "89417e6e-b4c3-45e7-f789-f535fca8741e"
   },
   "outputs": [
    {
     "name": "stdout",
     "output_type": "stream",
     "text": [
      "Comunita' totali: 157\n",
      "Nodi: 3359\n"
     ]
    }
   ],
   "source": [
    "stampaCommunity(demon_coms)"
   ]
  },
  {
   "cell_type": "code",
   "execution_count": 39,
   "metadata": {},
   "outputs": [
    {
     "name": "stdout",
     "output_type": "stream",
     "text": [
      "Comunita' totali: 106\n",
      "Nodi: 3353\n"
     ]
    }
   ],
   "source": [
    "stampaCommunity(angel_coms)"
   ]
  },
  {
   "cell_type": "markdown",
   "metadata": {
    "id": "dc1632c7"
   },
   "source": [
    "* Boxplot"
   ]
  },
  {
   "cell_type": "code",
   "execution_count": 110,
   "metadata": {
    "id": "b269353f"
   },
   "outputs": [
    {
     "data": {
      "image/png": "[encoded data removed]",
      "text/plain": [
       "<Figure size 4800x2400 with 1 Axes>"
      ]
     },
     "metadata": {
      "needs_background": "light"
     },
     "output_type": "display_data"
    }
   ],
   "source": [
    "plot_boxplot(list_size)"
   ]
  },
  {
   "cell_type": "markdown",
   "metadata": {},
   "source": [
    "* Evaluation: Sim. Matrix + NF1"
   ]
  },
  {
   "cell_type": "code",
   "execution_count": 51,
   "metadata": {},
   "outputs": [
    {
     "data": {
      "image/png": "[encoded data removed]",
      "text/plain": [
       "<Figure size 720x720 with 4 Axes>"
      ]
     },
     "metadata": {
      "needs_background": "light"
     },
     "output_type": "display_data"
    }
   ],
   "source": [
    "clustermap = viz.plot_sim_matrix([louvain_coms, label_coms],evaluation.nf1)"
   ]
  },
  {
   "cell_type": "code",
   "execution_count": 48,
   "metadata": {},
   "outputs": [
    {
     "data": {
      "image/png": "[encoded data removed]",
      "text/plain": [
       "<Figure size 720x720 with 4 Axes>"
      ]
     },
     "metadata": {
      "needs_background": "light"
     },
     "output_type": "display_data"
    }
   ],
   "source": [
    "clustermap = viz.plot_sim_matrix([demon_coms, angel_coms],evaluation.nf1)"
   ]
  },
  {
   "cell_type": "code",
   "execution_count": 23,
   "metadata": {},
   "outputs": [
    {
     "data": {
      "image/png": "[encoded data removed]",
      "text/plain": [
       "<Figure size 720x720 with 4 Axes>"
      ]
     },
     "metadata": {
      "needs_background": "light"
     },
     "output_type": "display_data"
    }
   ],
   "source": [
    "clustermap = viz.plot_sim_matrix([demon_coms, louvain_coms],evaluation.nf1)"
   ]
  },
  {
   "cell_type": "code",
   "execution_count": 24,
   "metadata": {},
   "outputs": [
    {
     "data": {
      "image/png": "[encoded data removed]",
      "text/plain": [
       "<Figure size 720x720 with 4 Axes>"
      ]
     },
     "metadata": {
      "needs_background": "light"
     },
     "output_type": "display_data"
    }
   ],
   "source": [
    "clustermap = viz.plot_sim_matrix([demon_coms, angel_coms],evaluation.overlapping_normalized_mutual_information_LFK)"
   ]
  },
  {
   "cell_type": "markdown",
   "metadata": {},
   "source": [
    "* Evaluation: size + violin plot"
   ]
  },
  {
   "cell_type": "code",
   "execution_count": 48,
   "metadata": {},
   "outputs": [
    {
     "data": {
      "image/png": "[encoded data removed]",
      "text/plain": [
       "<Figure size 432x288 with 1 Axes>"
      ]
     },
     "metadata": {
      "needs_background": "light"
     },
     "output_type": "display_data"
    }
   ],
   "source": [
    "    violinplot = viz.plot_com_stat([demon_coms,kclique_coms],evaluation.size)"
   ]
  },
  {
   "cell_type": "code",
   "execution_count": 98,
   "metadata": {},
   "outputs": [
    {
     "data": {
      "image/png": "[encoded data removed]",
      "text/plain": [
       "<Figure size 432x288 with 1 Axes>"
      ]
     },
     "metadata": {
      "needs_background": "light"
     },
     "output_type": "display_data"
    }
   ],
   "source": [
    "violinplot = viz.plot_com_stat([demon_coms,kclique_coms],evaluation.size)"
   ]
  },
  {
   "cell_type": "code",
   "execution_count": 100,
   "metadata": {},
   "outputs": [
    {
     "data": {
      "image/png": "[encoded data removed]",
      "text/plain": [
       "<Figure size 432x288 with 1 Axes>"
      ]
     },
     "metadata": {
      "needs_background": "light"
     },
     "output_type": "display_data"
    }
   ],
   "source": [
    "violinplot = viz.plot_com_stat([demon_coms, louvain_coms],evaluation.internal_edge_density)"
   ]
  },
  {
   "cell_type": "code",
   "execution_count": 27,
   "metadata": {},
   "outputs": [
    {
     "data": {
      "image/png": "[encoded data removed]",
      "text/plain": [
       "<Figure size 360x360 with 1 Axes>"
      ]
     },
     "metadata": {
      "needs_background": "light"
     },
     "output_type": "display_data"
    }
   ],
   "source": [
    "plot_prova = viz.plot_com_properties_relation([louvain_coms,demon_coms],evaluation.size,evaluation.internal_edge_density)\n"
   ]
  },
  {
   "cell_type": "markdown",
   "metadata": {
    "id": "d4ce96c8"
   },
   "source": [
    "# Evaluation con NMI"
   ]
  },
  {
   "cell_type": "code",
   "execution_count": 58,
   "metadata": {
    "id": "ff47522f",
    "outputId": "d00c72d7-bed7-4d3c-843c-f2f9de67190c"
   },
   "outputs": [
    {
     "data": {
      "text/plain": [
       "MatchingResult(score=0.7867608629787328, std=None)"
      ]
     },
     "execution_count": 58,
     "metadata": {},
     "output_type": "execute_result"
    }
   ],
   "source": [
    "louvain_coms.normalized_mutual_information(label_coms)"
   ]
  },
  {
   "cell_type": "markdown",
   "metadata": {
    "id": "a0de2d20"
   },
   "source": [
    "* External evaluation: NF1 score"
   ]
  },
  {
   "cell_type": "code",
   "execution_count": 84,
   "metadata": {
    "id": "0bbb106b",
    "outputId": "eb06ff2d-72be-42b5-bdb1-a14b331f687a"
   },
   "outputs": [
    {
     "data": {
      "text/plain": [
       "MatchingResult(score=0.010692405578196834, std=None)"
      ]
     },
     "execution_count": 84,
     "metadata": {},
     "output_type": "execute_result"
    }
   ],
   "source": [
    "kclique_coms.nf1(label_coms)"
   ]
  },
  {
   "cell_type": "code",
   "execution_count": 85,
   "metadata": {
    "id": "3172fdb8",
    "outputId": "e4d74a14-a436-4e18-cc23-e91320f9a51e"
   },
   "outputs": [
    {
     "data": {
      "text/plain": [
       "MatchingResult(score=0.015719894049758768, std=None)"
      ]
     },
     "execution_count": 85,
     "metadata": {},
     "output_type": "execute_result"
    }
   ],
   "source": [
    "kclique_coms.nf1(louvain_coms)"
   ]
  },
  {
   "cell_type": "code",
   "execution_count": 86,
   "metadata": {
    "id": "f5a6c8e3",
    "outputId": "e1cf849d-8795-4b78-f6ff-ef8ded1c337a"
   },
   "outputs": [
    {
     "data": {
      "text/plain": [
       "MatchingResult(score=0.42982078853046596, std=None)"
      ]
     },
     "execution_count": 86,
     "metadata": {},
     "output_type": "execute_result"
    }
   ],
   "source": [
    "kclique_coms.nf1(demon_coms)"
   ]
  },
  {
   "cell_type": "code",
   "execution_count": 87,
   "metadata": {
    "id": "989a1491",
    "outputId": "c0e4ed9c-6a82-4cae-f204-510c232feb0e"
   },
   "outputs": [
    {
     "data": {
      "text/plain": [
       "MatchingResult(score=0.015655567117585846, std=None)"
      ]
     },
     "execution_count": 87,
     "metadata": {},
     "output_type": "execute_result"
    }
   ],
   "source": [
    "kclique_coms.nf1(louvain_coms_senzapesi)"
   ]
  },
  {
   "cell_type": "code",
   "execution_count": 88,
   "metadata": {
    "id": "3b82ce90",
    "outputId": "284786b1-19ec-41ee-e2d0-d6cc0ddd38d0"
   },
   "outputs": [
    {
     "data": {
      "text/plain": [
       "MatchingResult(score=0.011679709298552983, std=None)"
      ]
     },
     "execution_count": 88,
     "metadata": {},
     "output_type": "execute_result"
    }
   ],
   "source": [
    "louvain_coms.nf1(label_coms)"
   ]
  },
  {
   "cell_type": "code",
   "execution_count": 89,
   "metadata": {
    "id": "e9a27bdf",
    "outputId": "c7ce6379-60f2-47a2-ea25-7c2213f6819c"
   },
   "outputs": [
    {
     "data": {
      "text/plain": [
       "MatchingResult(score=0.013630935886131755, std=None)"
      ]
     },
     "execution_count": 89,
     "metadata": {},
     "output_type": "execute_result"
    }
   ],
   "source": [
    "louvain_coms_senzapesi.nf1(label_coms)"
   ]
  },
  {
   "cell_type": "code",
   "execution_count": 90,
   "metadata": {
    "id": "65af81ec",
    "outputId": "4ab4b25c-e118-4a2c-da77-a1b301057306"
   },
   "outputs": [
    {
     "data": {
      "text/plain": [
       "MatchingResult(score=0.0018778076449952165, std=None)"
      ]
     },
     "execution_count": 90,
     "metadata": {},
     "output_type": "execute_result"
    }
   ],
   "source": [
    "label_coms.nf1(demon_coms)"
   ]
  },
  {
   "cell_type": "code",
   "execution_count": 91,
   "metadata": {
    "id": "244eab42",
    "outputId": "85b9aab1-2636-4fad-b518-1102a0042c45",
    "tags": []
   },
   "outputs": [
    {
     "data": {
      "text/plain": [
       "MatchingResult(score=0.022486979166666664, std=None)"
      ]
     },
     "execution_count": 91,
     "metadata": {},
     "output_type": "execute_result"
    }
   ],
   "source": [
    "demon_coms.nf1(louvain_coms)"
   ]
  },
  {
   "cell_type": "code",
   "execution_count": 92,
   "metadata": {
    "id": "f2478166",
    "outputId": "8833b0c3-1445-424e-edaa-ac511ea12e0d"
   },
   "outputs": [
    {
     "data": {
      "text/plain": [
       "MatchingResult(score=0.021756089154411764, std=None)"
      ]
     },
     "execution_count": 92,
     "metadata": {},
     "output_type": "execute_result"
    }
   ],
   "source": [
    "demon_coms.nf1(louvain_coms_senzapesi)"
   ]
  },
  {
   "cell_type": "code",
   "execution_count": null,
   "metadata": {
    "id": "84af153d"
   },
   "outputs": [],
   "source": [
    "clustermap = viz.plot_sim_matrix([louvain_coms, label_coms],evaluation.adjusted_mutual_information)"
   ]
  },
  {
   "cell_type": "markdown",
   "metadata": {},
   "source": [
    "# Export of Louvain communities"
   ]
  },
  {
   "cell_type": "code",
   "execution_count": 67,
   "metadata": {},
   "outputs": [],
   "source": [
    "from cdlib import readwrite\n"
   ]
  },
  {
   "cell_type": "code",
   "execution_count": 68,
   "metadata": {},
   "outputs": [],
   "source": [
    "readwrite.write_community_csv(louvain_coms, \"../data_collection/data/CD_louvain.csv\", \",\")"
   ]
  },
  {
   "cell_type": "code",
   "execution_count": 140,
   "metadata": {},
   "outputs": [],
   "source": [
    "readwrite.write_community_csv(demon_coms, \"../data_collection/data/CD_demon.csv\", \",\")"
   ]
  },
  {
   "cell_type": "code",
   "execution_count": 147,
   "metadata": {},
   "outputs": [],
   "source": [
    "df_coms = pd.read_csv(\"../data_collection/data/CD_demon.csv\")"
   ]
  },
  {
   "cell_type": "code",
   "execution_count": 86,
   "metadata": {},
   "outputs": [],
   "source": [
    "df_coms = pd.read_csv(\"../data_collection/data/CD_louvain.csv\")"
   ]
  },
  {
   "cell_type": "code",
   "execution_count": 87,
   "metadata": {},
   "outputs": [],
   "source": [
    "df_coms_filtered = df_coms.iloc[0:125] "
   ]
  },
  {
   "cell_type": "code",
   "execution_count": 88,
   "metadata": {},
   "outputs": [],
   "source": [
    "df_coms_T = df_coms_filtered.transpose()"
   ]
  },
  {
   "cell_type": "code",
   "execution_count": 89,
   "metadata": {},
   "outputs": [
    {
     "data": {
      "text/html": [
       "<div>\n",
       "<style scoped>\n",
       "    .dataframe tbody tr th:only-of-type {\n",
       "        vertical-align: middle;\n",
       "    }\n",
       "\n",
       "    .dataframe tbody tr th {\n",
       "        vertical-align: top;\n",
       "    }\n",
       "\n",
       "    .dataframe thead th {\n",
       "        text-align: right;\n",
       "    }\n",
       "</style>\n",
       "<table border=\"1\" class=\"dataframe\">\n",
       "  <thead>\n",
       "    <tr style=\"text-align: right;\">\n",
       "      <th></th>\n",
       "      <th>0</th>\n",
       "      <th>1</th>\n",
       "      <th>2</th>\n",
       "      <th>3</th>\n",
       "      <th>4</th>\n",
       "      <th>5</th>\n",
       "      <th>6</th>\n",
       "      <th>7</th>\n",
       "      <th>8</th>\n",
       "      <th>9</th>\n",
       "      <th>...</th>\n",
       "      <th>115</th>\n",
       "      <th>116</th>\n",
       "      <th>117</th>\n",
       "      <th>118</th>\n",
       "      <th>119</th>\n",
       "      <th>120</th>\n",
       "      <th>121</th>\n",
       "      <th>122</th>\n",
       "      <th>123</th>\n",
       "      <th>124</th>\n",
       "    </tr>\n",
       "  </thead>\n",
       "  <tbody>\n",
       "    <tr>\n",
       "      <th>info4u2know</th>\n",
       "      <td>JoeBiden</td>\n",
       "      <td>PPVSRB</td>\n",
       "      <td>cnkamngo</td>\n",
       "      <td>whok95</td>\n",
       "      <td>patricklillis2</td>\n",
       "      <td>djblackzitoun</td>\n",
       "      <td>spicoli_69</td>\n",
       "      <td>piersmorgan</td>\n",
       "      <td>jean46055280</td>\n",
       "      <td>maxwelllongsha1</td>\n",
       "      <td>...</td>\n",
       "      <td>rename_u</td>\n",
       "      <td>insane_voice</td>\n",
       "      <td>itsraychellrose</td>\n",
       "      <td>darlingchn</td>\n",
       "      <td>educatorwalker</td>\n",
       "      <td>c4fernandez</td>\n",
       "      <td>fruitytomaz</td>\n",
       "      <td>iamgtf</td>\n",
       "      <td>titaniabird</td>\n",
       "      <td>indydevoe</td>\n",
       "    </tr>\n",
       "    <tr>\n",
       "      <th>thehill</th>\n",
       "      <td>KamalaHarris</td>\n",
       "      <td>armada_jasonv</td>\n",
       "      <td>pabiedu1</td>\n",
       "      <td>ladya</td>\n",
       "      <td>MayorofLondon</td>\n",
       "      <td>PetalsTm</td>\n",
       "      <td>NFL</td>\n",
       "      <td>erberriez</td>\n",
       "      <td>squawk7kdotnet</td>\n",
       "      <td>JoeBriggsEsq</td>\n",
       "      <td>...</td>\n",
       "      <td>univmiami</td>\n",
       "      <td>SimonPearson961</td>\n",
       "      <td>Da_Mysterious_Q</td>\n",
       "      <td>chanlix</td>\n",
       "      <td>EducatorShorts</td>\n",
       "      <td>nataliearley</td>\n",
       "      <td>wtfmarcy</td>\n",
       "      <td>YoungMace22</td>\n",
       "      <td>notyourguts</td>\n",
       "      <td>cpearsall</td>\n",
       "    </tr>\n",
       "    <tr>\n",
       "      <th>soloyochapin</th>\n",
       "      <td>jenniferclmn</td>\n",
       "      <td>katibug817</td>\n",
       "      <td>LindaT_G</td>\n",
       "      <td>ayrinweloveyou</td>\n",
       "      <td>protest_nyc</td>\n",
       "      <td>Wewillrocku66</td>\n",
       "      <td>XXL</td>\n",
       "      <td>ProtestAccess</td>\n",
       "      <td>_ratioed_rebel</td>\n",
       "      <td>MatthewACherry</td>\n",
       "      <td>...</td>\n",
       "      <td>julio_frenk</td>\n",
       "      <td>dense_evi</td>\n",
       "      <td>Daley_Kong</td>\n",
       "      <td>candylino</td>\n",
       "      <td>EReedSpeaks</td>\n",
       "      <td>yourgirlvicks</td>\n",
       "      <td>roobxs</td>\n",
       "      <td>tallguy951</td>\n",
       "      <td>misskittyf</td>\n",
       "      <td>WhyKelly2</td>\n",
       "    </tr>\n",
       "    <tr>\n",
       "      <th>realDonaldTrump</th>\n",
       "      <td>redwood75746520</td>\n",
       "      <td>nathaliejacoby1</td>\n",
       "      <td>ABlinken</td>\n",
       "      <td>TMZ</td>\n",
       "      <td>willireallyam1</td>\n",
       "      <td>insaurraldeh</td>\n",
       "      <td>capnamerica18</td>\n",
       "      <td>nowthisnews</td>\n",
       "      <td>LFC</td>\n",
       "      <td>412champs</td>\n",
       "      <td>...</td>\n",
       "      <td>MiamiLawSchool</td>\n",
       "      <td>cheryl1492</td>\n",
       "      <td>DebGuerrieri</td>\n",
       "      <td>JisungsVoices</td>\n",
       "      <td>DrADM75</td>\n",
       "      <td>sarahgogs</td>\n",
       "      <td>trouxaexistindo</td>\n",
       "      <td>mavus15</td>\n",
       "      <td>TheGreatSG</td>\n",
       "      <td>ThePeteEffect</td>\n",
       "    </tr>\n",
       "    <tr>\n",
       "      <th>joseph2482f</th>\n",
       "      <td>ABC</td>\n",
       "      <td>sweet_iced_T</td>\n",
       "      <td>meklittn</td>\n",
       "      <td>PopCrave</td>\n",
       "      <td>cute_ares</td>\n",
       "      <td>RosaTrunk</td>\n",
       "      <td>arimek29</td>\n",
       "      <td>karinapdx</td>\n",
       "      <td>jetcitystar</td>\n",
       "      <td>considerthecash</td>\n",
       "      <td>...</td>\n",
       "      <td>umiamimedicine</td>\n",
       "      <td>ammocrypta</td>\n",
       "      <td>DirtyAndyDalton</td>\n",
       "      <td>Iev9nter</td>\n",
       "      <td>Doewhitbit</td>\n",
       "      <td>robbiefellover</td>\n",
       "      <td>supereigncorp</td>\n",
       "      <td>lakeshow_wess</td>\n",
       "      <td>Rosen_Thorne</td>\n",
       "      <td>StauferTrish</td>\n",
       "    </tr>\n",
       "    <tr>\n",
       "      <th>...</th>\n",
       "      <td>...</td>\n",
       "      <td>...</td>\n",
       "      <td>...</td>\n",
       "      <td>...</td>\n",
       "      <td>...</td>\n",
       "      <td>...</td>\n",
       "      <td>...</td>\n",
       "      <td>...</td>\n",
       "      <td>...</td>\n",
       "      <td>...</td>\n",
       "      <td>...</td>\n",
       "      <td>...</td>\n",
       "      <td>...</td>\n",
       "      <td>...</td>\n",
       "      <td>...</td>\n",
       "      <td>...</td>\n",
       "      <td>...</td>\n",
       "      <td>...</td>\n",
       "      <td>...</td>\n",
       "      <td>...</td>\n",
       "      <td>...</td>\n",
       "    </tr>\n",
       "    <tr>\n",
       "      <th>mrtweeterverse</th>\n",
       "      <td>NaN</td>\n",
       "      <td>NaN</td>\n",
       "      <td>NaN</td>\n",
       "      <td>NaN</td>\n",
       "      <td>NaN</td>\n",
       "      <td>NaN</td>\n",
       "      <td>NaN</td>\n",
       "      <td>NaN</td>\n",
       "      <td>NaN</td>\n",
       "      <td>NaN</td>\n",
       "      <td>...</td>\n",
       "      <td>NaN</td>\n",
       "      <td>NaN</td>\n",
       "      <td>NaN</td>\n",
       "      <td>NaN</td>\n",
       "      <td>NaN</td>\n",
       "      <td>NaN</td>\n",
       "      <td>NaN</td>\n",
       "      <td>NaN</td>\n",
       "      <td>NaN</td>\n",
       "      <td>NaN</td>\n",
       "    </tr>\n",
       "    <tr>\n",
       "      <th>mrthollo</th>\n",
       "      <td>NaN</td>\n",
       "      <td>NaN</td>\n",
       "      <td>NaN</td>\n",
       "      <td>NaN</td>\n",
       "      <td>NaN</td>\n",
       "      <td>NaN</td>\n",
       "      <td>NaN</td>\n",
       "      <td>NaN</td>\n",
       "      <td>NaN</td>\n",
       "      <td>NaN</td>\n",
       "      <td>...</td>\n",
       "      <td>NaN</td>\n",
       "      <td>NaN</td>\n",
       "      <td>NaN</td>\n",
       "      <td>NaN</td>\n",
       "      <td>NaN</td>\n",
       "      <td>NaN</td>\n",
       "      <td>NaN</td>\n",
       "      <td>NaN</td>\n",
       "      <td>NaN</td>\n",
       "      <td>NaN</td>\n",
       "    </tr>\n",
       "    <tr>\n",
       "      <th>mrsmud1928</th>\n",
       "      <td>NaN</td>\n",
       "      <td>NaN</td>\n",
       "      <td>NaN</td>\n",
       "      <td>NaN</td>\n",
       "      <td>NaN</td>\n",
       "      <td>NaN</td>\n",
       "      <td>NaN</td>\n",
       "      <td>NaN</td>\n",
       "      <td>NaN</td>\n",
       "      <td>NaN</td>\n",
       "      <td>...</td>\n",
       "      <td>NaN</td>\n",
       "      <td>NaN</td>\n",
       "      <td>NaN</td>\n",
       "      <td>NaN</td>\n",
       "      <td>NaN</td>\n",
       "      <td>NaN</td>\n",
       "      <td>NaN</td>\n",
       "      <td>NaN</td>\n",
       "      <td>NaN</td>\n",
       "      <td>NaN</td>\n",
       "    </tr>\n",
       "    <tr>\n",
       "      <th>mrshhjones</th>\n",
       "      <td>NaN</td>\n",
       "      <td>NaN</td>\n",
       "      <td>NaN</td>\n",
       "      <td>NaN</td>\n",
       "      <td>NaN</td>\n",
       "      <td>NaN</td>\n",
       "      <td>NaN</td>\n",
       "      <td>NaN</td>\n",
       "      <td>NaN</td>\n",
       "      <td>NaN</td>\n",
       "      <td>...</td>\n",
       "      <td>NaN</td>\n",
       "      <td>NaN</td>\n",
       "      <td>NaN</td>\n",
       "      <td>NaN</td>\n",
       "      <td>NaN</td>\n",
       "      <td>NaN</td>\n",
       "      <td>NaN</td>\n",
       "      <td>NaN</td>\n",
       "      <td>NaN</td>\n",
       "      <td>NaN</td>\n",
       "    </tr>\n",
       "    <tr>\n",
       "      <th>SarahAnthony517</th>\n",
       "      <td>NaN</td>\n",
       "      <td>NaN</td>\n",
       "      <td>NaN</td>\n",
       "      <td>NaN</td>\n",
       "      <td>NaN</td>\n",
       "      <td>NaN</td>\n",
       "      <td>NaN</td>\n",
       "      <td>NaN</td>\n",
       "      <td>NaN</td>\n",
       "      <td>NaN</td>\n",
       "      <td>...</td>\n",
       "      <td>NaN</td>\n",
       "      <td>NaN</td>\n",
       "      <td>NaN</td>\n",
       "      <td>NaN</td>\n",
       "      <td>NaN</td>\n",
       "      <td>NaN</td>\n",
       "      <td>NaN</td>\n",
       "      <td>NaN</td>\n",
       "      <td>NaN</td>\n",
       "      <td>NaN</td>\n",
       "    </tr>\n",
       "  </tbody>\n",
       "</table>\n",
       "<p>4506 rows × 125 columns</p>\n",
       "</div>"
      ],
      "text/plain": [
       "                             0                1         2               3    \\\n",
       "info4u2know             JoeBiden           PPVSRB  cnkamngo          whok95   \n",
       "thehill             KamalaHarris    armada_jasonv  pabiedu1           ladya   \n",
       "soloyochapin        jenniferclmn       katibug817  LindaT_G  ayrinweloveyou   \n",
       "realDonaldTrump  redwood75746520  nathaliejacoby1  ABlinken             TMZ   \n",
       "joseph2482f                  ABC     sweet_iced_T  meklittn        PopCrave   \n",
       "...                          ...              ...       ...             ...   \n",
       "mrtweeterverse               NaN              NaN       NaN             NaN   \n",
       "mrthollo                     NaN              NaN       NaN             NaN   \n",
       "mrsmud1928                   NaN              NaN       NaN             NaN   \n",
       "mrshhjones                   NaN              NaN       NaN             NaN   \n",
       "SarahAnthony517              NaN              NaN       NaN             NaN   \n",
       "\n",
       "                            4              5              6              7    \\\n",
       "info4u2know      patricklillis2  djblackzitoun     spicoli_69    piersmorgan   \n",
       "thehill           MayorofLondon       PetalsTm            NFL      erberriez   \n",
       "soloyochapin        protest_nyc  Wewillrocku66            XXL  ProtestAccess   \n",
       "realDonaldTrump  willireallyam1   insaurraldeh  capnamerica18    nowthisnews   \n",
       "joseph2482f           cute_ares      RosaTrunk       arimek29      karinapdx   \n",
       "...                         ...            ...            ...            ...   \n",
       "mrtweeterverse              NaN            NaN            NaN            NaN   \n",
       "mrthollo                    NaN            NaN            NaN            NaN   \n",
       "mrsmud1928                  NaN            NaN            NaN            NaN   \n",
       "mrshhjones                  NaN            NaN            NaN            NaN   \n",
       "SarahAnthony517             NaN            NaN            NaN            NaN   \n",
       "\n",
       "                            8                9    ...             115  \\\n",
       "info4u2know        jean46055280  maxwelllongsha1  ...        rename_u   \n",
       "thehill          squawk7kdotnet     JoeBriggsEsq  ...       univmiami   \n",
       "soloyochapin     _ratioed_rebel   MatthewACherry  ...     julio_frenk   \n",
       "realDonaldTrump             LFC        412champs  ...  MiamiLawSchool   \n",
       "joseph2482f         jetcitystar  considerthecash  ...  umiamimedicine   \n",
       "...                         ...              ...  ...             ...   \n",
       "mrtweeterverse              NaN              NaN  ...             NaN   \n",
       "mrthollo                    NaN              NaN  ...             NaN   \n",
       "mrsmud1928                  NaN              NaN  ...             NaN   \n",
       "mrshhjones                  NaN              NaN  ...             NaN   \n",
       "SarahAnthony517             NaN              NaN  ...             NaN   \n",
       "\n",
       "                             116              117            118  \\\n",
       "info4u2know         insane_voice  itsraychellrose     darlingchn   \n",
       "thehill          SimonPearson961  Da_Mysterious_Q        chanlix   \n",
       "soloyochapin           dense_evi       Daley_Kong      candylino   \n",
       "realDonaldTrump       cheryl1492     DebGuerrieri  JisungsVoices   \n",
       "joseph2482f           ammocrypta  DirtyAndyDalton       Iev9nter   \n",
       "...                          ...              ...            ...   \n",
       "mrtweeterverse               NaN              NaN            NaN   \n",
       "mrthollo                     NaN              NaN            NaN   \n",
       "mrsmud1928                   NaN              NaN            NaN   \n",
       "mrshhjones                   NaN              NaN            NaN   \n",
       "SarahAnthony517              NaN              NaN            NaN   \n",
       "\n",
       "                            119             120              121  \\\n",
       "info4u2know      educatorwalker     c4fernandez      fruitytomaz   \n",
       "thehill          EducatorShorts    nataliearley         wtfmarcy   \n",
       "soloyochapin        EReedSpeaks   yourgirlvicks           roobxs   \n",
       "realDonaldTrump         DrADM75       sarahgogs  trouxaexistindo   \n",
       "joseph2482f          Doewhitbit  robbiefellover    supereigncorp   \n",
       "...                         ...             ...              ...   \n",
       "mrtweeterverse              NaN             NaN              NaN   \n",
       "mrthollo                    NaN             NaN              NaN   \n",
       "mrsmud1928                  NaN             NaN              NaN   \n",
       "mrshhjones                  NaN             NaN              NaN   \n",
       "SarahAnthony517             NaN             NaN              NaN   \n",
       "\n",
       "                           122           123            124  \n",
       "info4u2know             iamgtf   titaniabird      indydevoe  \n",
       "thehill            YoungMace22   notyourguts      cpearsall  \n",
       "soloyochapin        tallguy951    misskittyf      WhyKelly2  \n",
       "realDonaldTrump        mavus15    TheGreatSG  ThePeteEffect  \n",
       "joseph2482f      lakeshow_wess  Rosen_Thorne   StauferTrish  \n",
       "...                        ...           ...            ...  \n",
       "mrtweeterverse             NaN           NaN            NaN  \n",
       "mrthollo                   NaN           NaN            NaN  \n",
       "mrsmud1928                 NaN           NaN            NaN  \n",
       "mrshhjones                 NaN           NaN            NaN  \n",
       "SarahAnthony517            NaN           NaN            NaN  \n",
       "\n",
       "[4506 rows x 125 columns]"
      ]
     },
     "execution_count": 89,
     "metadata": {},
     "output_type": "execute_result"
    }
   ],
   "source": [
    "df_coms_T"
   ]
  },
  {
   "cell_type": "code",
   "execution_count": 90,
   "metadata": {},
   "outputs": [],
   "source": [
    "df_coms = df_coms_T.rename_axis('community_0').reset_index()"
   ]
  },
  {
   "cell_type": "code",
   "execution_count": 91,
   "metadata": {},
   "outputs": [
    {
     "data": {
      "text/html": [
       "<div>\n",
       "<style scoped>\n",
       "    .dataframe tbody tr th:only-of-type {\n",
       "        vertical-align: middle;\n",
       "    }\n",
       "\n",
       "    .dataframe tbody tr th {\n",
       "        vertical-align: top;\n",
       "    }\n",
       "\n",
       "    .dataframe thead th {\n",
       "        text-align: right;\n",
       "    }\n",
       "</style>\n",
       "<table border=\"1\" class=\"dataframe\">\n",
       "  <thead>\n",
       "    <tr style=\"text-align: right;\">\n",
       "      <th></th>\n",
       "      <th>community_0</th>\n",
       "      <th>0</th>\n",
       "      <th>1</th>\n",
       "      <th>2</th>\n",
       "      <th>3</th>\n",
       "      <th>4</th>\n",
       "      <th>5</th>\n",
       "      <th>6</th>\n",
       "      <th>7</th>\n",
       "      <th>8</th>\n",
       "      <th>...</th>\n",
       "      <th>115</th>\n",
       "      <th>116</th>\n",
       "      <th>117</th>\n",
       "      <th>118</th>\n",
       "      <th>119</th>\n",
       "      <th>120</th>\n",
       "      <th>121</th>\n",
       "      <th>122</th>\n",
       "      <th>123</th>\n",
       "      <th>124</th>\n",
       "    </tr>\n",
       "  </thead>\n",
       "  <tbody>\n",
       "    <tr>\n",
       "      <th>0</th>\n",
       "      <td>info4u2know</td>\n",
       "      <td>JoeBiden</td>\n",
       "      <td>PPVSRB</td>\n",
       "      <td>cnkamngo</td>\n",
       "      <td>whok95</td>\n",
       "      <td>patricklillis2</td>\n",
       "      <td>djblackzitoun</td>\n",
       "      <td>spicoli_69</td>\n",
       "      <td>piersmorgan</td>\n",
       "      <td>jean46055280</td>\n",
       "      <td>...</td>\n",
       "      <td>rename_u</td>\n",
       "      <td>insane_voice</td>\n",
       "      <td>itsraychellrose</td>\n",
       "      <td>darlingchn</td>\n",
       "      <td>educatorwalker</td>\n",
       "      <td>c4fernandez</td>\n",
       "      <td>fruitytomaz</td>\n",
       "      <td>iamgtf</td>\n",
       "      <td>titaniabird</td>\n",
       "      <td>indydevoe</td>\n",
       "    </tr>\n",
       "    <tr>\n",
       "      <th>1</th>\n",
       "      <td>thehill</td>\n",
       "      <td>KamalaHarris</td>\n",
       "      <td>armada_jasonv</td>\n",
       "      <td>pabiedu1</td>\n",
       "      <td>ladya</td>\n",
       "      <td>MayorofLondon</td>\n",
       "      <td>PetalsTm</td>\n",
       "      <td>NFL</td>\n",
       "      <td>erberriez</td>\n",
       "      <td>squawk7kdotnet</td>\n",
       "      <td>...</td>\n",
       "      <td>univmiami</td>\n",
       "      <td>SimonPearson961</td>\n",
       "      <td>Da_Mysterious_Q</td>\n",
       "      <td>chanlix</td>\n",
       "      <td>EducatorShorts</td>\n",
       "      <td>nataliearley</td>\n",
       "      <td>wtfmarcy</td>\n",
       "      <td>YoungMace22</td>\n",
       "      <td>notyourguts</td>\n",
       "      <td>cpearsall</td>\n",
       "    </tr>\n",
       "    <tr>\n",
       "      <th>2</th>\n",
       "      <td>soloyochapin</td>\n",
       "      <td>jenniferclmn</td>\n",
       "      <td>katibug817</td>\n",
       "      <td>LindaT_G</td>\n",
       "      <td>ayrinweloveyou</td>\n",
       "      <td>protest_nyc</td>\n",
       "      <td>Wewillrocku66</td>\n",
       "      <td>XXL</td>\n",
       "      <td>ProtestAccess</td>\n",
       "      <td>_ratioed_rebel</td>\n",
       "      <td>...</td>\n",
       "      <td>julio_frenk</td>\n",
       "      <td>dense_evi</td>\n",
       "      <td>Daley_Kong</td>\n",
       "      <td>candylino</td>\n",
       "      <td>EReedSpeaks</td>\n",
       "      <td>yourgirlvicks</td>\n",
       "      <td>roobxs</td>\n",
       "      <td>tallguy951</td>\n",
       "      <td>misskittyf</td>\n",
       "      <td>WhyKelly2</td>\n",
       "    </tr>\n",
       "    <tr>\n",
       "      <th>3</th>\n",
       "      <td>realDonaldTrump</td>\n",
       "      <td>redwood75746520</td>\n",
       "      <td>nathaliejacoby1</td>\n",
       "      <td>ABlinken</td>\n",
       "      <td>TMZ</td>\n",
       "      <td>willireallyam1</td>\n",
       "      <td>insaurraldeh</td>\n",
       "      <td>capnamerica18</td>\n",
       "      <td>nowthisnews</td>\n",
       "      <td>LFC</td>\n",
       "      <td>...</td>\n",
       "      <td>MiamiLawSchool</td>\n",
       "      <td>cheryl1492</td>\n",
       "      <td>DebGuerrieri</td>\n",
       "      <td>JisungsVoices</td>\n",
       "      <td>DrADM75</td>\n",
       "      <td>sarahgogs</td>\n",
       "      <td>trouxaexistindo</td>\n",
       "      <td>mavus15</td>\n",
       "      <td>TheGreatSG</td>\n",
       "      <td>ThePeteEffect</td>\n",
       "    </tr>\n",
       "    <tr>\n",
       "      <th>4</th>\n",
       "      <td>joseph2482f</td>\n",
       "      <td>ABC</td>\n",
       "      <td>sweet_iced_T</td>\n",
       "      <td>meklittn</td>\n",
       "      <td>PopCrave</td>\n",
       "      <td>cute_ares</td>\n",
       "      <td>RosaTrunk</td>\n",
       "      <td>arimek29</td>\n",
       "      <td>karinapdx</td>\n",
       "      <td>jetcitystar</td>\n",
       "      <td>...</td>\n",
       "      <td>umiamimedicine</td>\n",
       "      <td>ammocrypta</td>\n",
       "      <td>DirtyAndyDalton</td>\n",
       "      <td>Iev9nter</td>\n",
       "      <td>Doewhitbit</td>\n",
       "      <td>robbiefellover</td>\n",
       "      <td>supereigncorp</td>\n",
       "      <td>lakeshow_wess</td>\n",
       "      <td>Rosen_Thorne</td>\n",
       "      <td>StauferTrish</td>\n",
       "    </tr>\n",
       "    <tr>\n",
       "      <th>...</th>\n",
       "      <td>...</td>\n",
       "      <td>...</td>\n",
       "      <td>...</td>\n",
       "      <td>...</td>\n",
       "      <td>...</td>\n",
       "      <td>...</td>\n",
       "      <td>...</td>\n",
       "      <td>...</td>\n",
       "      <td>...</td>\n",
       "      <td>...</td>\n",
       "      <td>...</td>\n",
       "      <td>...</td>\n",
       "      <td>...</td>\n",
       "      <td>...</td>\n",
       "      <td>...</td>\n",
       "      <td>...</td>\n",
       "      <td>...</td>\n",
       "      <td>...</td>\n",
       "      <td>...</td>\n",
       "      <td>...</td>\n",
       "      <td>...</td>\n",
       "    </tr>\n",
       "    <tr>\n",
       "      <th>4501</th>\n",
       "      <td>mrtweeterverse</td>\n",
       "      <td>NaN</td>\n",
       "      <td>NaN</td>\n",
       "      <td>NaN</td>\n",
       "      <td>NaN</td>\n",
       "      <td>NaN</td>\n",
       "      <td>NaN</td>\n",
       "      <td>NaN</td>\n",
       "      <td>NaN</td>\n",
       "      <td>NaN</td>\n",
       "      <td>...</td>\n",
       "      <td>NaN</td>\n",
       "      <td>NaN</td>\n",
       "      <td>NaN</td>\n",
       "      <td>NaN</td>\n",
       "      <td>NaN</td>\n",
       "      <td>NaN</td>\n",
       "      <td>NaN</td>\n",
       "      <td>NaN</td>\n",
       "      <td>NaN</td>\n",
       "      <td>NaN</td>\n",
       "    </tr>\n",
       "    <tr>\n",
       "      <th>4502</th>\n",
       "      <td>mrthollo</td>\n",
       "      <td>NaN</td>\n",
       "      <td>NaN</td>\n",
       "      <td>NaN</td>\n",
       "      <td>NaN</td>\n",
       "      <td>NaN</td>\n",
       "      <td>NaN</td>\n",
       "      <td>NaN</td>\n",
       "      <td>NaN</td>\n",
       "      <td>NaN</td>\n",
       "      <td>...</td>\n",
       "      <td>NaN</td>\n",
       "      <td>NaN</td>\n",
       "      <td>NaN</td>\n",
       "      <td>NaN</td>\n",
       "      <td>NaN</td>\n",
       "      <td>NaN</td>\n",
       "      <td>NaN</td>\n",
       "      <td>NaN</td>\n",
       "      <td>NaN</td>\n",
       "      <td>NaN</td>\n",
       "    </tr>\n",
       "    <tr>\n",
       "      <th>4503</th>\n",
       "      <td>mrsmud1928</td>\n",
       "      <td>NaN</td>\n",
       "      <td>NaN</td>\n",
       "      <td>NaN</td>\n",
       "      <td>NaN</td>\n",
       "      <td>NaN</td>\n",
       "      <td>NaN</td>\n",
       "      <td>NaN</td>\n",
       "      <td>NaN</td>\n",
       "      <td>NaN</td>\n",
       "      <td>...</td>\n",
       "      <td>NaN</td>\n",
       "      <td>NaN</td>\n",
       "      <td>NaN</td>\n",
       "      <td>NaN</td>\n",
       "      <td>NaN</td>\n",
       "      <td>NaN</td>\n",
       "      <td>NaN</td>\n",
       "      <td>NaN</td>\n",
       "      <td>NaN</td>\n",
       "      <td>NaN</td>\n",
       "    </tr>\n",
       "    <tr>\n",
       "      <th>4504</th>\n",
       "      <td>mrshhjones</td>\n",
       "      <td>NaN</td>\n",
       "      <td>NaN</td>\n",
       "      <td>NaN</td>\n",
       "      <td>NaN</td>\n",
       "      <td>NaN</td>\n",
       "      <td>NaN</td>\n",
       "      <td>NaN</td>\n",
       "      <td>NaN</td>\n",
       "      <td>NaN</td>\n",
       "      <td>...</td>\n",
       "      <td>NaN</td>\n",
       "      <td>NaN</td>\n",
       "      <td>NaN</td>\n",
       "      <td>NaN</td>\n",
       "      <td>NaN</td>\n",
       "      <td>NaN</td>\n",
       "      <td>NaN</td>\n",
       "      <td>NaN</td>\n",
       "      <td>NaN</td>\n",
       "      <td>NaN</td>\n",
       "    </tr>\n",
       "    <tr>\n",
       "      <th>4505</th>\n",
       "      <td>SarahAnthony517</td>\n",
       "      <td>NaN</td>\n",
       "      <td>NaN</td>\n",
       "      <td>NaN</td>\n",
       "      <td>NaN</td>\n",
       "      <td>NaN</td>\n",
       "      <td>NaN</td>\n",
       "      <td>NaN</td>\n",
       "      <td>NaN</td>\n",
       "      <td>NaN</td>\n",
       "      <td>...</td>\n",
       "      <td>NaN</td>\n",
       "      <td>NaN</td>\n",
       "      <td>NaN</td>\n",
       "      <td>NaN</td>\n",
       "      <td>NaN</td>\n",
       "      <td>NaN</td>\n",
       "      <td>NaN</td>\n",
       "      <td>NaN</td>\n",
       "      <td>NaN</td>\n",
       "      <td>NaN</td>\n",
       "    </tr>\n",
       "  </tbody>\n",
       "</table>\n",
       "<p>4506 rows × 126 columns</p>\n",
       "</div>"
      ],
      "text/plain": [
       "          community_0                0                1         2  \\\n",
       "0         info4u2know         JoeBiden           PPVSRB  cnkamngo   \n",
       "1             thehill     KamalaHarris    armada_jasonv  pabiedu1   \n",
       "2        soloyochapin     jenniferclmn       katibug817  LindaT_G   \n",
       "3     realDonaldTrump  redwood75746520  nathaliejacoby1  ABlinken   \n",
       "4         joseph2482f              ABC     sweet_iced_T  meklittn   \n",
       "...               ...              ...              ...       ...   \n",
       "4501   mrtweeterverse              NaN              NaN       NaN   \n",
       "4502         mrthollo              NaN              NaN       NaN   \n",
       "4503       mrsmud1928              NaN              NaN       NaN   \n",
       "4504       mrshhjones              NaN              NaN       NaN   \n",
       "4505  SarahAnthony517              NaN              NaN       NaN   \n",
       "\n",
       "                   3               4              5              6  \\\n",
       "0             whok95  patricklillis2  djblackzitoun     spicoli_69   \n",
       "1              ladya   MayorofLondon       PetalsTm            NFL   \n",
       "2     ayrinweloveyou     protest_nyc  Wewillrocku66            XXL   \n",
       "3                TMZ  willireallyam1   insaurraldeh  capnamerica18   \n",
       "4           PopCrave       cute_ares      RosaTrunk       arimek29   \n",
       "...              ...             ...            ...            ...   \n",
       "4501             NaN             NaN            NaN            NaN   \n",
       "4502             NaN             NaN            NaN            NaN   \n",
       "4503             NaN             NaN            NaN            NaN   \n",
       "4504             NaN             NaN            NaN            NaN   \n",
       "4505             NaN             NaN            NaN            NaN   \n",
       "\n",
       "                  7               8  ...             115              116  \\\n",
       "0       piersmorgan    jean46055280  ...        rename_u     insane_voice   \n",
       "1         erberriez  squawk7kdotnet  ...       univmiami  SimonPearson961   \n",
       "2     ProtestAccess  _ratioed_rebel  ...     julio_frenk        dense_evi   \n",
       "3       nowthisnews             LFC  ...  MiamiLawSchool       cheryl1492   \n",
       "4         karinapdx     jetcitystar  ...  umiamimedicine       ammocrypta   \n",
       "...             ...             ...  ...             ...              ...   \n",
       "4501            NaN             NaN  ...             NaN              NaN   \n",
       "4502            NaN             NaN  ...             NaN              NaN   \n",
       "4503            NaN             NaN  ...             NaN              NaN   \n",
       "4504            NaN             NaN  ...             NaN              NaN   \n",
       "4505            NaN             NaN  ...             NaN              NaN   \n",
       "\n",
       "                  117            118             119             120  \\\n",
       "0     itsraychellrose     darlingchn  educatorwalker     c4fernandez   \n",
       "1     Da_Mysterious_Q        chanlix  EducatorShorts    nataliearley   \n",
       "2          Daley_Kong      candylino     EReedSpeaks   yourgirlvicks   \n",
       "3        DebGuerrieri  JisungsVoices         DrADM75       sarahgogs   \n",
       "4     DirtyAndyDalton       Iev9nter      Doewhitbit  robbiefellover   \n",
       "...               ...            ...             ...             ...   \n",
       "4501              NaN            NaN             NaN             NaN   \n",
       "4502              NaN            NaN             NaN             NaN   \n",
       "4503              NaN            NaN             NaN             NaN   \n",
       "4504              NaN            NaN             NaN             NaN   \n",
       "4505              NaN            NaN             NaN             NaN   \n",
       "\n",
       "                  121            122           123            124  \n",
       "0         fruitytomaz         iamgtf   titaniabird      indydevoe  \n",
       "1            wtfmarcy    YoungMace22   notyourguts      cpearsall  \n",
       "2              roobxs     tallguy951    misskittyf      WhyKelly2  \n",
       "3     trouxaexistindo        mavus15    TheGreatSG  ThePeteEffect  \n",
       "4       supereigncorp  lakeshow_wess  Rosen_Thorne   StauferTrish  \n",
       "...               ...            ...           ...            ...  \n",
       "4501              NaN            NaN           NaN            NaN  \n",
       "4502              NaN            NaN           NaN            NaN  \n",
       "4503              NaN            NaN           NaN            NaN  \n",
       "4504              NaN            NaN           NaN            NaN  \n",
       "4505              NaN            NaN           NaN            NaN  \n",
       "\n",
       "[4506 rows x 126 columns]"
      ]
     },
     "execution_count": 91,
     "metadata": {},
     "output_type": "execute_result"
    }
   ],
   "source": [
    "df_coms"
   ]
  },
  {
   "cell_type": "code",
   "execution_count": 92,
   "metadata": {},
   "outputs": [],
   "source": [
    "lista_nomi_colonne = []"
   ]
  },
  {
   "cell_type": "code",
   "execution_count": 93,
   "metadata": {},
   "outputs": [],
   "source": [
    "for i in range(len(df_coms.columns)):\n",
    "    stringa_nome_col = \"community_\" + str(i)\n",
    "    lista_nomi_colonne.append(stringa_nome_col)"
   ]
  },
  {
   "cell_type": "code",
   "execution_count": 94,
   "metadata": {},
   "outputs": [],
   "source": [
    "df_coms.columns = lista_nomi_colonne"
   ]
  },
  {
   "cell_type": "code",
   "execution_count": 95,
   "metadata": {},
   "outputs": [
    {
     "data": {
      "text/html": [
       "<div>\n",
       "<style scoped>\n",
       "    .dataframe tbody tr th:only-of-type {\n",
       "        vertical-align: middle;\n",
       "    }\n",
       "\n",
       "    .dataframe tbody tr th {\n",
       "        vertical-align: top;\n",
       "    }\n",
       "\n",
       "    .dataframe thead th {\n",
       "        text-align: right;\n",
       "    }\n",
       "</style>\n",
       "<table border=\"1\" class=\"dataframe\">\n",
       "  <thead>\n",
       "    <tr style=\"text-align: right;\">\n",
       "      <th></th>\n",
       "      <th>community_0</th>\n",
       "      <th>community_1</th>\n",
       "      <th>community_2</th>\n",
       "      <th>community_3</th>\n",
       "      <th>community_4</th>\n",
       "      <th>community_5</th>\n",
       "      <th>community_6</th>\n",
       "      <th>community_7</th>\n",
       "      <th>community_8</th>\n",
       "      <th>community_9</th>\n",
       "      <th>...</th>\n",
       "      <th>community_116</th>\n",
       "      <th>community_117</th>\n",
       "      <th>community_118</th>\n",
       "      <th>community_119</th>\n",
       "      <th>community_120</th>\n",
       "      <th>community_121</th>\n",
       "      <th>community_122</th>\n",
       "      <th>community_123</th>\n",
       "      <th>community_124</th>\n",
       "      <th>community_125</th>\n",
       "    </tr>\n",
       "  </thead>\n",
       "  <tbody>\n",
       "    <tr>\n",
       "      <th>0</th>\n",
       "      <td>info4u2know</td>\n",
       "      <td>JoeBiden</td>\n",
       "      <td>PPVSRB</td>\n",
       "      <td>cnkamngo</td>\n",
       "      <td>whok95</td>\n",
       "      <td>patricklillis2</td>\n",
       "      <td>djblackzitoun</td>\n",
       "      <td>spicoli_69</td>\n",
       "      <td>piersmorgan</td>\n",
       "      <td>jean46055280</td>\n",
       "      <td>...</td>\n",
       "      <td>rename_u</td>\n",
       "      <td>insane_voice</td>\n",
       "      <td>itsraychellrose</td>\n",
       "      <td>darlingchn</td>\n",
       "      <td>educatorwalker</td>\n",
       "      <td>c4fernandez</td>\n",
       "      <td>fruitytomaz</td>\n",
       "      <td>iamgtf</td>\n",
       "      <td>titaniabird</td>\n",
       "      <td>indydevoe</td>\n",
       "    </tr>\n",
       "    <tr>\n",
       "      <th>1</th>\n",
       "      <td>thehill</td>\n",
       "      <td>KamalaHarris</td>\n",
       "      <td>armada_jasonv</td>\n",
       "      <td>pabiedu1</td>\n",
       "      <td>ladya</td>\n",
       "      <td>MayorofLondon</td>\n",
       "      <td>PetalsTm</td>\n",
       "      <td>NFL</td>\n",
       "      <td>erberriez</td>\n",
       "      <td>squawk7kdotnet</td>\n",
       "      <td>...</td>\n",
       "      <td>univmiami</td>\n",
       "      <td>SimonPearson961</td>\n",
       "      <td>Da_Mysterious_Q</td>\n",
       "      <td>chanlix</td>\n",
       "      <td>EducatorShorts</td>\n",
       "      <td>nataliearley</td>\n",
       "      <td>wtfmarcy</td>\n",
       "      <td>YoungMace22</td>\n",
       "      <td>notyourguts</td>\n",
       "      <td>cpearsall</td>\n",
       "    </tr>\n",
       "    <tr>\n",
       "      <th>2</th>\n",
       "      <td>soloyochapin</td>\n",
       "      <td>jenniferclmn</td>\n",
       "      <td>katibug817</td>\n",
       "      <td>LindaT_G</td>\n",
       "      <td>ayrinweloveyou</td>\n",
       "      <td>protest_nyc</td>\n",
       "      <td>Wewillrocku66</td>\n",
       "      <td>XXL</td>\n",
       "      <td>ProtestAccess</td>\n",
       "      <td>_ratioed_rebel</td>\n",
       "      <td>...</td>\n",
       "      <td>julio_frenk</td>\n",
       "      <td>dense_evi</td>\n",
       "      <td>Daley_Kong</td>\n",
       "      <td>candylino</td>\n",
       "      <td>EReedSpeaks</td>\n",
       "      <td>yourgirlvicks</td>\n",
       "      <td>roobxs</td>\n",
       "      <td>tallguy951</td>\n",
       "      <td>misskittyf</td>\n",
       "      <td>WhyKelly2</td>\n",
       "    </tr>\n",
       "    <tr>\n",
       "      <th>3</th>\n",
       "      <td>realDonaldTrump</td>\n",
       "      <td>redwood75746520</td>\n",
       "      <td>nathaliejacoby1</td>\n",
       "      <td>ABlinken</td>\n",
       "      <td>TMZ</td>\n",
       "      <td>willireallyam1</td>\n",
       "      <td>insaurraldeh</td>\n",
       "      <td>capnamerica18</td>\n",
       "      <td>nowthisnews</td>\n",
       "      <td>LFC</td>\n",
       "      <td>...</td>\n",
       "      <td>MiamiLawSchool</td>\n",
       "      <td>cheryl1492</td>\n",
       "      <td>DebGuerrieri</td>\n",
       "      <td>JisungsVoices</td>\n",
       "      <td>DrADM75</td>\n",
       "      <td>sarahgogs</td>\n",
       "      <td>trouxaexistindo</td>\n",
       "      <td>mavus15</td>\n",
       "      <td>TheGreatSG</td>\n",
       "      <td>ThePeteEffect</td>\n",
       "    </tr>\n",
       "    <tr>\n",
       "      <th>4</th>\n",
       "      <td>joseph2482f</td>\n",
       "      <td>ABC</td>\n",
       "      <td>sweet_iced_T</td>\n",
       "      <td>meklittn</td>\n",
       "      <td>PopCrave</td>\n",
       "      <td>cute_ares</td>\n",
       "      <td>RosaTrunk</td>\n",
       "      <td>arimek29</td>\n",
       "      <td>karinapdx</td>\n",
       "      <td>jetcitystar</td>\n",
       "      <td>...</td>\n",
       "      <td>umiamimedicine</td>\n",
       "      <td>ammocrypta</td>\n",
       "      <td>DirtyAndyDalton</td>\n",
       "      <td>Iev9nter</td>\n",
       "      <td>Doewhitbit</td>\n",
       "      <td>robbiefellover</td>\n",
       "      <td>supereigncorp</td>\n",
       "      <td>lakeshow_wess</td>\n",
       "      <td>Rosen_Thorne</td>\n",
       "      <td>StauferTrish</td>\n",
       "    </tr>\n",
       "    <tr>\n",
       "      <th>...</th>\n",
       "      <td>...</td>\n",
       "      <td>...</td>\n",
       "      <td>...</td>\n",
       "      <td>...</td>\n",
       "      <td>...</td>\n",
       "      <td>...</td>\n",
       "      <td>...</td>\n",
       "      <td>...</td>\n",
       "      <td>...</td>\n",
       "      <td>...</td>\n",
       "      <td>...</td>\n",
       "      <td>...</td>\n",
       "      <td>...</td>\n",
       "      <td>...</td>\n",
       "      <td>...</td>\n",
       "      <td>...</td>\n",
       "      <td>...</td>\n",
       "      <td>...</td>\n",
       "      <td>...</td>\n",
       "      <td>...</td>\n",
       "      <td>...</td>\n",
       "    </tr>\n",
       "    <tr>\n",
       "      <th>4501</th>\n",
       "      <td>mrtweeterverse</td>\n",
       "      <td>NaN</td>\n",
       "      <td>NaN</td>\n",
       "      <td>NaN</td>\n",
       "      <td>NaN</td>\n",
       "      <td>NaN</td>\n",
       "      <td>NaN</td>\n",
       "      <td>NaN</td>\n",
       "      <td>NaN</td>\n",
       "      <td>NaN</td>\n",
       "      <td>...</td>\n",
       "      <td>NaN</td>\n",
       "      <td>NaN</td>\n",
       "      <td>NaN</td>\n",
       "      <td>NaN</td>\n",
       "      <td>NaN</td>\n",
       "      <td>NaN</td>\n",
       "      <td>NaN</td>\n",
       "      <td>NaN</td>\n",
       "      <td>NaN</td>\n",
       "      <td>NaN</td>\n",
       "    </tr>\n",
       "    <tr>\n",
       "      <th>4502</th>\n",
       "      <td>mrthollo</td>\n",
       "      <td>NaN</td>\n",
       "      <td>NaN</td>\n",
       "      <td>NaN</td>\n",
       "      <td>NaN</td>\n",
       "      <td>NaN</td>\n",
       "      <td>NaN</td>\n",
       "      <td>NaN</td>\n",
       "      <td>NaN</td>\n",
       "      <td>NaN</td>\n",
       "      <td>...</td>\n",
       "      <td>NaN</td>\n",
       "      <td>NaN</td>\n",
       "      <td>NaN</td>\n",
       "      <td>NaN</td>\n",
       "      <td>NaN</td>\n",
       "      <td>NaN</td>\n",
       "      <td>NaN</td>\n",
       "      <td>NaN</td>\n",
       "      <td>NaN</td>\n",
       "      <td>NaN</td>\n",
       "    </tr>\n",
       "    <tr>\n",
       "      <th>4503</th>\n",
       "      <td>mrsmud1928</td>\n",
       "      <td>NaN</td>\n",
       "      <td>NaN</td>\n",
       "      <td>NaN</td>\n",
       "      <td>NaN</td>\n",
       "      <td>NaN</td>\n",
       "      <td>NaN</td>\n",
       "      <td>NaN</td>\n",
       "      <td>NaN</td>\n",
       "      <td>NaN</td>\n",
       "      <td>...</td>\n",
       "      <td>NaN</td>\n",
       "      <td>NaN</td>\n",
       "      <td>NaN</td>\n",
       "      <td>NaN</td>\n",
       "      <td>NaN</td>\n",
       "      <td>NaN</td>\n",
       "      <td>NaN</td>\n",
       "      <td>NaN</td>\n",
       "      <td>NaN</td>\n",
       "      <td>NaN</td>\n",
       "    </tr>\n",
       "    <tr>\n",
       "      <th>4504</th>\n",
       "      <td>mrshhjones</td>\n",
       "      <td>NaN</td>\n",
       "      <td>NaN</td>\n",
       "      <td>NaN</td>\n",
       "      <td>NaN</td>\n",
       "      <td>NaN</td>\n",
       "      <td>NaN</td>\n",
       "      <td>NaN</td>\n",
       "      <td>NaN</td>\n",
       "      <td>NaN</td>\n",
       "      <td>...</td>\n",
       "      <td>NaN</td>\n",
       "      <td>NaN</td>\n",
       "      <td>NaN</td>\n",
       "      <td>NaN</td>\n",
       "      <td>NaN</td>\n",
       "      <td>NaN</td>\n",
       "      <td>NaN</td>\n",
       "      <td>NaN</td>\n",
       "      <td>NaN</td>\n",
       "      <td>NaN</td>\n",
       "    </tr>\n",
       "    <tr>\n",
       "      <th>4505</th>\n",
       "      <td>SarahAnthony517</td>\n",
       "      <td>NaN</td>\n",
       "      <td>NaN</td>\n",
       "      <td>NaN</td>\n",
       "      <td>NaN</td>\n",
       "      <td>NaN</td>\n",
       "      <td>NaN</td>\n",
       "      <td>NaN</td>\n",
       "      <td>NaN</td>\n",
       "      <td>NaN</td>\n",
       "      <td>...</td>\n",
       "      <td>NaN</td>\n",
       "      <td>NaN</td>\n",
       "      <td>NaN</td>\n",
       "      <td>NaN</td>\n",
       "      <td>NaN</td>\n",
       "      <td>NaN</td>\n",
       "      <td>NaN</td>\n",
       "      <td>NaN</td>\n",
       "      <td>NaN</td>\n",
       "      <td>NaN</td>\n",
       "    </tr>\n",
       "  </tbody>\n",
       "</table>\n",
       "<p>4506 rows × 126 columns</p>\n",
       "</div>"
      ],
      "text/plain": [
       "          community_0      community_1      community_2 community_3  \\\n",
       "0         info4u2know         JoeBiden           PPVSRB    cnkamngo   \n",
       "1             thehill     KamalaHarris    armada_jasonv    pabiedu1   \n",
       "2        soloyochapin     jenniferclmn       katibug817    LindaT_G   \n",
       "3     realDonaldTrump  redwood75746520  nathaliejacoby1    ABlinken   \n",
       "4         joseph2482f              ABC     sweet_iced_T    meklittn   \n",
       "...               ...              ...              ...         ...   \n",
       "4501   mrtweeterverse              NaN              NaN         NaN   \n",
       "4502         mrthollo              NaN              NaN         NaN   \n",
       "4503       mrsmud1928              NaN              NaN         NaN   \n",
       "4504       mrshhjones              NaN              NaN         NaN   \n",
       "4505  SarahAnthony517              NaN              NaN         NaN   \n",
       "\n",
       "         community_4     community_5    community_6    community_7  \\\n",
       "0             whok95  patricklillis2  djblackzitoun     spicoli_69   \n",
       "1              ladya   MayorofLondon       PetalsTm            NFL   \n",
       "2     ayrinweloveyou     protest_nyc  Wewillrocku66            XXL   \n",
       "3                TMZ  willireallyam1   insaurraldeh  capnamerica18   \n",
       "4           PopCrave       cute_ares      RosaTrunk       arimek29   \n",
       "...              ...             ...            ...            ...   \n",
       "4501             NaN             NaN            NaN            NaN   \n",
       "4502             NaN             NaN            NaN            NaN   \n",
       "4503             NaN             NaN            NaN            NaN   \n",
       "4504             NaN             NaN            NaN            NaN   \n",
       "4505             NaN             NaN            NaN            NaN   \n",
       "\n",
       "        community_8     community_9  ...   community_116    community_117  \\\n",
       "0       piersmorgan    jean46055280  ...        rename_u     insane_voice   \n",
       "1         erberriez  squawk7kdotnet  ...       univmiami  SimonPearson961   \n",
       "2     ProtestAccess  _ratioed_rebel  ...     julio_frenk        dense_evi   \n",
       "3       nowthisnews             LFC  ...  MiamiLawSchool       cheryl1492   \n",
       "4         karinapdx     jetcitystar  ...  umiamimedicine       ammocrypta   \n",
       "...             ...             ...  ...             ...              ...   \n",
       "4501            NaN             NaN  ...             NaN              NaN   \n",
       "4502            NaN             NaN  ...             NaN              NaN   \n",
       "4503            NaN             NaN  ...             NaN              NaN   \n",
       "4504            NaN             NaN  ...             NaN              NaN   \n",
       "4505            NaN             NaN  ...             NaN              NaN   \n",
       "\n",
       "        community_118  community_119   community_120   community_121  \\\n",
       "0     itsraychellrose     darlingchn  educatorwalker     c4fernandez   \n",
       "1     Da_Mysterious_Q        chanlix  EducatorShorts    nataliearley   \n",
       "2          Daley_Kong      candylino     EReedSpeaks   yourgirlvicks   \n",
       "3        DebGuerrieri  JisungsVoices         DrADM75       sarahgogs   \n",
       "4     DirtyAndyDalton       Iev9nter      Doewhitbit  robbiefellover   \n",
       "...               ...            ...             ...             ...   \n",
       "4501              NaN            NaN             NaN             NaN   \n",
       "4502              NaN            NaN             NaN             NaN   \n",
       "4503              NaN            NaN             NaN             NaN   \n",
       "4504              NaN            NaN             NaN             NaN   \n",
       "4505              NaN            NaN             NaN             NaN   \n",
       "\n",
       "        community_122  community_123 community_124  community_125  \n",
       "0         fruitytomaz         iamgtf   titaniabird      indydevoe  \n",
       "1            wtfmarcy    YoungMace22   notyourguts      cpearsall  \n",
       "2              roobxs     tallguy951    misskittyf      WhyKelly2  \n",
       "3     trouxaexistindo        mavus15    TheGreatSG  ThePeteEffect  \n",
       "4       supereigncorp  lakeshow_wess  Rosen_Thorne   StauferTrish  \n",
       "...               ...            ...           ...            ...  \n",
       "4501              NaN            NaN           NaN            NaN  \n",
       "4502              NaN            NaN           NaN            NaN  \n",
       "4503              NaN            NaN           NaN            NaN  \n",
       "4504              NaN            NaN           NaN            NaN  \n",
       "4505              NaN            NaN           NaN            NaN  \n",
       "\n",
       "[4506 rows x 126 columns]"
      ]
     },
     "execution_count": 95,
     "metadata": {},
     "output_type": "execute_result"
    }
   ],
   "source": [
    "df_coms"
   ]
  },
  {
   "cell_type": "code",
   "execution_count": 251,
   "metadata": {},
   "outputs": [],
   "source": [
    "df_coms.to_csv(\"../data_collection/data/Community_Louvain.csv\",  index=False)"
   ]
  },
  {
   "cell_type": "code",
   "execution_count": 97,
   "metadata": {},
   "outputs": [
    {
     "data": {
      "text/plain": [
       "4464"
      ]
     },
     "execution_count": 97,
     "metadata": {},
     "output_type": "execute_result"
    }
   ],
   "source": [
    "df_coms[\"community_125\"].isna().sum()"
   ]
  }
 ],
 "metadata": {
  "colab": {
   "collapsed_sections": [],
   "name": "3 - Community Discovery.ipynb",
   "provenance": []
  },
  "kernelspec": {
   "display_name": "Python 3",
   "language": "python",
   "name": "python3"
  },
  "language_info": {
   "codemirror_mode": {
    "name": "ipython",
    "version": 3
   },
   "file_extension": ".py",
   "mimetype": "text/x-python",
   "name": "python",
   "nbconvert_exporter": "python",
   "pygments_lexer": "ipython3",
   "version": "3.8.5"
  }
 },
 "nbformat": 4,
 "nbformat_minor": 5
}
