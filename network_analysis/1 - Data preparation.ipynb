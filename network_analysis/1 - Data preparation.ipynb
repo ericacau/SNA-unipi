{
 "cells": [
  {
   "cell_type": "markdown",
   "metadata": {},
   "source": [
    "# Data Preparation"
   ]
  },
  {
   "cell_type": "code",
   "execution_count": 3,
   "metadata": {
    "executionInfo": {
     "elapsed": 5,
     "status": "ok",
     "timestamp": 1633795561370,
     "user": {
      "displayName": "Erica Cau",
      "photoUrl": "https://lh3.googleusercontent.com/a-/AOh14GgaHAm9eb7IEPH3gg3F8-B7BnNNHRInIVeLzqUivA=s64",
      "userId": "14542953089584718764"
     },
     "user_tz": -120
    },
    "id": "Qg4ntyuzBlqh"
   },
   "outputs": [],
   "source": [
    "import os\n",
    "import pandas as pd\n",
    "import numpy as np\n",
    "import matplotlib.pyplot as plt\n",
    "import networkx as nx\n",
    "import warnings\n",
    "import powerlaw\n",
    "import matplotlib.colors as mcolors\n",
    "import ast\n",
    "import time\n",
    "\n",
    "warnings.filterwarnings('ignore')\n",
    "pd.options.display.float_format = '{:.0f}'.format\n"
   ]
  },
  {
   "cell_type": "markdown",
   "metadata": {
    "id": "4gvUlrvEB8Wc"
   },
   "source": [
    "## Import .csv files + (very) basic EDA and data preparation\n",
    "In this section we:\n",
    "* read the four csv files (one per quarter)\n",
    "* concat all the four csv into a single one\n",
    "* drop useless features\n"
   ]
  },
  {
   "cell_type": "code",
   "execution_count": 4,
   "metadata": {
    "id": "osekPf7QBlql"
   },
   "outputs": [],
   "source": [
    "df_primo = pd.read_csv(\"../data_collection/data/prima-parte.csv\", na_filter=True, na_values='[]')\n",
    "df_secondo = pd.read_csv(\"../data_collection/data/SecondaParte.csv\", na_filter=True, na_values='[]')\n",
    "df_terzo = pd.read_csv(\"../data_collection/data/terza-parte.csv\", na_filter=True, na_values='[]')\n",
    "df_quarto = pd.read_csv(\"../data_collection/data/quarta_parte.csv\", na_filter=True, na_values='[]')"
   ]
  },
  {
   "cell_type": "code",
   "execution_count": 5,
   "metadata": {},
   "outputs": [
    {
     "name": "stdout",
     "output_type": "stream",
     "text": [
      "<class 'pandas.core.frame.DataFrame'>\n",
      "RangeIndex: 46327 entries, 0 to 46326\n",
      "Data columns (total 37 columns):\n",
      " #   Column           Non-Null Count  Dtype  \n",
      "---  ------           --------------  -----  \n",
      " 0   Unnamed: 0       46327 non-null  int64  \n",
      " 1   id               46327 non-null  int64  \n",
      " 2   conversation_id  46327 non-null  int64  \n",
      " 3   created_at       46327 non-null  object \n",
      " 4   date             46327 non-null  object \n",
      " 5   time             46327 non-null  object \n",
      " 6   timezone         46327 non-null  int64  \n",
      " 7   user_id          46327 non-null  int64  \n",
      " 8   username         46327 non-null  object \n",
      " 9   name             46322 non-null  object \n",
      " 10  place            267 non-null    object \n",
      " 11  tweet            46327 non-null  object \n",
      " 12  language         46327 non-null  object \n",
      " 13  mentions         9809 non-null   object \n",
      " 14  urls             12494 non-null  object \n",
      " 15  photos           7526 non-null   object \n",
      " 16  replies_count    46327 non-null  int64  \n",
      " 17  retweets_count   46327 non-null  int64  \n",
      " 18  likes_count      46327 non-null  int64  \n",
      " 19  hashtags         42873 non-null  object \n",
      " 20  cashtags         12 non-null     object \n",
      " 21  link             46327 non-null  object \n",
      " 22  retweet          46327 non-null  bool   \n",
      " 23  quote_url        8162 non-null   object \n",
      " 24  video            46327 non-null  int64  \n",
      " 25  thumbnail        8873 non-null   object \n",
      " 26  near             0 non-null      float64\n",
      " 27  geo              0 non-null      float64\n",
      " 28  source           0 non-null      float64\n",
      " 29  user_rt_id       0 non-null      float64\n",
      " 30  user_rt          0 non-null      float64\n",
      " 31  retweet_id       0 non-null      float64\n",
      " 32  reply_to         8976 non-null   object \n",
      " 33  retweet_date     0 non-null      float64\n",
      " 34  translate        0 non-null      float64\n",
      " 35  trans_src        0 non-null      float64\n",
      " 36  trans_dest       0 non-null      float64\n",
      "dtypes: bool(1), float64(10), int64(9), object(17)\n",
      "memory usage: 12.8+ MB\n"
     ]
    }
   ],
   "source": [
    "df_primo.info()"
   ]
  },
  {
   "cell_type": "code",
   "execution_count": 6,
   "metadata": {},
   "outputs": [
    {
     "name": "stdout",
     "output_type": "stream",
     "text": [
      "<class 'pandas.core.frame.DataFrame'>\n",
      "RangeIndex: 346969 entries, 0 to 346968\n",
      "Data columns (total 37 columns):\n",
      " #   Column           Non-Null Count   Dtype  \n",
      "---  ------           --------------   -----  \n",
      " 0   Unnamed: 0       346969 non-null  int64  \n",
      " 1   id               346969 non-null  int64  \n",
      " 2   conversation_id  346969 non-null  int64  \n",
      " 3   created_at       346969 non-null  object \n",
      " 4   date             346969 non-null  object \n",
      " 5   time             346969 non-null  object \n",
      " 6   timezone         346969 non-null  int64  \n",
      " 7   user_id          346969 non-null  int64  \n",
      " 8   username         346969 non-null  object \n",
      " 9   name             346935 non-null  object \n",
      " 10  place            3396 non-null    object \n",
      " 11  tweet            346969 non-null  object \n",
      " 12  language         346969 non-null  object \n",
      " 13  mentions         74932 non-null   object \n",
      " 14  urls             94345 non-null   object \n",
      " 15  photos           65703 non-null   object \n",
      " 16  replies_count    346969 non-null  int64  \n",
      " 17  retweets_count   346969 non-null  int64  \n",
      " 18  likes_count      346969 non-null  int64  \n",
      " 19  hashtags         331427 non-null  object \n",
      " 20  cashtags         124 non-null     object \n",
      " 21  link             346969 non-null  object \n",
      " 22  retweet          346969 non-null  bool   \n",
      " 23  quote_url        64153 non-null   object \n",
      " 24  video            346969 non-null  int64  \n",
      " 25  thumbnail        79464 non-null   object \n",
      " 26  near             0 non-null       float64\n",
      " 27  geo              0 non-null       float64\n",
      " 28  source           0 non-null       float64\n",
      " 29  user_rt_id       0 non-null       float64\n",
      " 30  user_rt          0 non-null       float64\n",
      " 31  retweet_id       0 non-null       float64\n",
      " 32  reply_to         70334 non-null   object \n",
      " 33  retweet_date     0 non-null       float64\n",
      " 34  translate        0 non-null       float64\n",
      " 35  trans_src        0 non-null       float64\n",
      " 36  trans_dest       0 non-null       float64\n",
      "dtypes: bool(1), float64(10), int64(9), object(17)\n",
      "memory usage: 95.6+ MB\n"
     ]
    }
   ],
   "source": [
    "df_secondo.info()"
   ]
  },
  {
   "cell_type": "code",
   "execution_count": 7,
   "metadata": {},
   "outputs": [
    {
     "name": "stdout",
     "output_type": "stream",
     "text": [
      "<class 'pandas.core.frame.DataFrame'>\n",
      "RangeIndex: 339622 entries, 0 to 339621\n",
      "Data columns (total 37 columns):\n",
      " #   Column           Non-Null Count   Dtype  \n",
      "---  ------           --------------   -----  \n",
      " 0   Unnamed: 0       339622 non-null  int64  \n",
      " 1   id               339622 non-null  int64  \n",
      " 2   conversation_id  339622 non-null  int64  \n",
      " 3   created_at       339622 non-null  object \n",
      " 4   date             339622 non-null  object \n",
      " 5   time             339622 non-null  object \n",
      " 6   timezone         339622 non-null  int64  \n",
      " 7   user_id          339622 non-null  int64  \n",
      " 8   username         339622 non-null  object \n",
      " 9   name             339585 non-null  object \n",
      " 10  place            1782 non-null    object \n",
      " 11  tweet            339622 non-null  object \n",
      " 12  language         339622 non-null  object \n",
      " 13  mentions         83997 non-null   object \n",
      " 14  urls             95047 non-null   object \n",
      " 15  photos           70553 non-null   object \n",
      " 16  replies_count    339622 non-null  int64  \n",
      " 17  retweets_count   339622 non-null  int64  \n",
      " 18  likes_count      339622 non-null  int64  \n",
      " 19  hashtags         323004 non-null  object \n",
      " 20  cashtags         95 non-null      object \n",
      " 21  link             339622 non-null  object \n",
      " 22  retweet          339622 non-null  bool   \n",
      " 23  quote_url        64151 non-null   object \n",
      " 24  video            339622 non-null  int64  \n",
      " 25  thumbnail        83967 non-null   object \n",
      " 26  near             0 non-null       float64\n",
      " 27  geo              0 non-null       float64\n",
      " 28  source           0 non-null       float64\n",
      " 29  user_rt_id       0 non-null       float64\n",
      " 30  user_rt          0 non-null       float64\n",
      " 31  retweet_id       0 non-null       float64\n",
      " 32  reply_to         68651 non-null   object \n",
      " 33  retweet_date     0 non-null       float64\n",
      " 34  translate        0 non-null       float64\n",
      " 35  trans_src        0 non-null       float64\n",
      " 36  trans_dest       0 non-null       float64\n",
      "dtypes: bool(1), float64(10), int64(9), object(17)\n",
      "memory usage: 93.6+ MB\n"
     ]
    }
   ],
   "source": [
    "df_terzo.info()"
   ]
  },
  {
   "cell_type": "code",
   "execution_count": 8,
   "metadata": {},
   "outputs": [
    {
     "name": "stdout",
     "output_type": "stream",
     "text": [
      "<class 'pandas.core.frame.DataFrame'>\n",
      "RangeIndex: 528017 entries, 0 to 528016\n",
      "Data columns (total 37 columns):\n",
      " #   Column           Non-Null Count   Dtype  \n",
      "---  ------           --------------   -----  \n",
      " 0   Unnamed: 0       528017 non-null  int64  \n",
      " 1   id               528017 non-null  int64  \n",
      " 2   conversation_id  528017 non-null  int64  \n",
      " 3   created_at       528017 non-null  object \n",
      " 4   date             528017 non-null  object \n",
      " 5   time             528017 non-null  object \n",
      " 6   timezone         528017 non-null  int64  \n",
      " 7   user_id          528017 non-null  int64  \n",
      " 8   username         528017 non-null  object \n",
      " 9   name             527967 non-null  object \n",
      " 10  place            1244 non-null    object \n",
      " 11  tweet            528017 non-null  object \n",
      " 12  language         528017 non-null  object \n",
      " 13  mentions         143075 non-null  object \n",
      " 14  urls             146605 non-null  object \n",
      " 15  photos           107944 non-null  object \n",
      " 16  replies_count    528017 non-null  int64  \n",
      " 17  retweets_count   528017 non-null  int64  \n",
      " 18  likes_count      528017 non-null  int64  \n",
      " 19  hashtags         475650 non-null  object \n",
      " 20  cashtags         240 non-null     object \n",
      " 21  link             528017 non-null  object \n",
      " 22  retweet          528017 non-null  bool   \n",
      " 23  quote_url        84315 non-null   object \n",
      " 24  video            528017 non-null  int64  \n",
      " 25  thumbnail        126890 non-null  object \n",
      " 26  near             0 non-null       float64\n",
      " 27  geo              0 non-null       float64\n",
      " 28  source           0 non-null       float64\n",
      " 29  user_rt_id       0 non-null       float64\n",
      " 30  user_rt          0 non-null       float64\n",
      " 31  retweet_id       0 non-null       float64\n",
      " 32  reply_to         115548 non-null  object \n",
      " 33  retweet_date     0 non-null       float64\n",
      " 34  translate        0 non-null       float64\n",
      " 35  trans_src        0 non-null       float64\n",
      " 36  trans_dest       0 non-null       float64\n",
      "dtypes: bool(1), float64(10), int64(9), object(17)\n",
      "memory usage: 145.5+ MB\n"
     ]
    }
   ],
   "source": [
    "df_quarto.info()"
   ]
  },
  {
   "cell_type": "code",
   "execution_count": 9,
   "metadata": {
    "id": "CuGxbN5MBlql"
   },
   "outputs": [],
   "source": [
    "joinDF = [df_primo, df_secondo, df_terzo, df_quarto]"
   ]
  },
  {
   "cell_type": "code",
   "execution_count": 10,
   "metadata": {
    "id": "iNkOn6mpBlqm"
   },
   "outputs": [],
   "source": [
    "df = pd.concat(joinDF)\n"
   ]
  },
  {
   "cell_type": "code",
   "execution_count": 11,
   "metadata": {
    "colab": {
     "base_uri": "https://localhost:8080/",
     "height": 1000
    },
    "executionInfo": {
     "elapsed": 277,
     "status": "ok",
     "timestamp": 1633685130220,
     "user": {
      "displayName": "Erica Cau",
      "photoUrl": "https://lh3.googleusercontent.com/a-/AOh14GgaHAm9eb7IEPH3gg3F8-B7BnNNHRInIVeLzqUivA=s64",
      "userId": "14542953089584718764"
     },
     "user_tz": -120
    },
    "id": "rcEIlVYEBlqm",
    "outputId": "4dbde742-f702-4502-8c53-0d4793a997f3",
    "scrolled": true
   },
   "outputs": [
    {
     "data": {
      "text/html": [
       "<div>\n",
       "<style scoped>\n",
       "    .dataframe tbody tr th:only-of-type {\n",
       "        vertical-align: middle;\n",
       "    }\n",
       "\n",
       "    .dataframe tbody tr th {\n",
       "        vertical-align: top;\n",
       "    }\n",
       "\n",
       "    .dataframe thead th {\n",
       "        text-align: right;\n",
       "    }\n",
       "</style>\n",
       "<table border=\"1\" class=\"dataframe\">\n",
       "  <thead>\n",
       "    <tr style=\"text-align: right;\">\n",
       "      <th></th>\n",
       "      <th>Unnamed: 0</th>\n",
       "      <th>id</th>\n",
       "      <th>conversation_id</th>\n",
       "      <th>created_at</th>\n",
       "      <th>date</th>\n",
       "      <th>time</th>\n",
       "      <th>timezone</th>\n",
       "      <th>user_id</th>\n",
       "      <th>username</th>\n",
       "      <th>name</th>\n",
       "      <th>...</th>\n",
       "      <th>geo</th>\n",
       "      <th>source</th>\n",
       "      <th>user_rt_id</th>\n",
       "      <th>user_rt</th>\n",
       "      <th>retweet_id</th>\n",
       "      <th>reply_to</th>\n",
       "      <th>retweet_date</th>\n",
       "      <th>translate</th>\n",
       "      <th>trans_src</th>\n",
       "      <th>trans_dest</th>\n",
       "    </tr>\n",
       "  </thead>\n",
       "  <tbody>\n",
       "    <tr>\n",
       "      <th>0</th>\n",
       "      <td>2</td>\n",
       "      <td>1232453597595439104</td>\n",
       "      <td>1232453597595439104</td>\n",
       "      <td>2020-02-26 00:53:30 ora solare Europa occidentale</td>\n",
       "      <td>2020-02-26</td>\n",
       "      <td>00:53:30</td>\n",
       "      <td>200</td>\n",
       "      <td>543761210</td>\n",
       "      <td>mimitexasangel</td>\n",
       "      <td>BLM ~ Cannabis Food Heals</td>\n",
       "      <td>...</td>\n",
       "      <td>nan</td>\n",
       "      <td>nan</td>\n",
       "      <td>nan</td>\n",
       "      <td>nan</td>\n",
       "      <td>nan</td>\n",
       "      <td>NaN</td>\n",
       "      <td>nan</td>\n",
       "      <td>nan</td>\n",
       "      <td>nan</td>\n",
       "      <td>nan</td>\n",
       "    </tr>\n",
       "    <tr>\n",
       "      <th>1</th>\n",
       "      <td>3</td>\n",
       "      <td>1232453306485657602</td>\n",
       "      <td>1232453306485657600</td>\n",
       "      <td>2020-02-26 00:52:20 ora solare Europa occidentale</td>\n",
       "      <td>2020-02-26</td>\n",
       "      <td>00:52:20</td>\n",
       "      <td>200</td>\n",
       "      <td>2739446098</td>\n",
       "      <td>susankbradford</td>\n",
       "      <td>Susie Bradford</td>\n",
       "      <td>...</td>\n",
       "      <td>nan</td>\n",
       "      <td>nan</td>\n",
       "      <td>nan</td>\n",
       "      <td>nan</td>\n",
       "      <td>nan</td>\n",
       "      <td>NaN</td>\n",
       "      <td>nan</td>\n",
       "      <td>nan</td>\n",
       "      <td>nan</td>\n",
       "      <td>nan</td>\n",
       "    </tr>\n",
       "    <tr>\n",
       "      <th>2</th>\n",
       "      <td>4</td>\n",
       "      <td>1232452916134346754</td>\n",
       "      <td>1232452916134346752</td>\n",
       "      <td>2020-02-26 00:50:47 ora solare Europa occidentale</td>\n",
       "      <td>2020-02-26</td>\n",
       "      <td>00:50:47</td>\n",
       "      <td>200</td>\n",
       "      <td>386642768</td>\n",
       "      <td>harbuckscoffee</td>\n",
       "      <td>Mike Parks</td>\n",
       "      <td>...</td>\n",
       "      <td>nan</td>\n",
       "      <td>nan</td>\n",
       "      <td>nan</td>\n",
       "      <td>nan</td>\n",
       "      <td>nan</td>\n",
       "      <td>NaN</td>\n",
       "      <td>nan</td>\n",
       "      <td>nan</td>\n",
       "      <td>nan</td>\n",
       "      <td>nan</td>\n",
       "    </tr>\n",
       "    <tr>\n",
       "      <th>3</th>\n",
       "      <td>5</td>\n",
       "      <td>1232452856629719040</td>\n",
       "      <td>1232452856629719040</td>\n",
       "      <td>2020-02-26 00:50:33 ora solare Europa occidentale</td>\n",
       "      <td>2020-02-26</td>\n",
       "      <td>00:50:33</td>\n",
       "      <td>200</td>\n",
       "      <td>4035330274</td>\n",
       "      <td>cote_christal</td>\n",
       "      <td>Christal Côté</td>\n",
       "      <td>...</td>\n",
       "      <td>nan</td>\n",
       "      <td>nan</td>\n",
       "      <td>nan</td>\n",
       "      <td>nan</td>\n",
       "      <td>nan</td>\n",
       "      <td>NaN</td>\n",
       "      <td>nan</td>\n",
       "      <td>nan</td>\n",
       "      <td>nan</td>\n",
       "      <td>nan</td>\n",
       "    </tr>\n",
       "    <tr>\n",
       "      <th>4</th>\n",
       "      <td>6</td>\n",
       "      <td>1232450204093206528</td>\n",
       "      <td>1232450204093206528</td>\n",
       "      <td>2020-02-26 00:40:01 ora solare Europa occidentale</td>\n",
       "      <td>2020-02-26</td>\n",
       "      <td>00:40:01</td>\n",
       "      <td>200</td>\n",
       "      <td>532291506</td>\n",
       "      <td>xpressionable</td>\n",
       "      <td>Xpressionable</td>\n",
       "      <td>...</td>\n",
       "      <td>nan</td>\n",
       "      <td>nan</td>\n",
       "      <td>nan</td>\n",
       "      <td>nan</td>\n",
       "      <td>nan</td>\n",
       "      <td>NaN</td>\n",
       "      <td>nan</td>\n",
       "      <td>nan</td>\n",
       "      <td>nan</td>\n",
       "      <td>nan</td>\n",
       "    </tr>\n",
       "    <tr>\n",
       "      <th>...</th>\n",
       "      <td>...</td>\n",
       "      <td>...</td>\n",
       "      <td>...</td>\n",
       "      <td>...</td>\n",
       "      <td>...</td>\n",
       "      <td>...</td>\n",
       "      <td>...</td>\n",
       "      <td>...</td>\n",
       "      <td>...</td>\n",
       "      <td>...</td>\n",
       "      <td>...</td>\n",
       "      <td>...</td>\n",
       "      <td>...</td>\n",
       "      <td>...</td>\n",
       "      <td>...</td>\n",
       "      <td>...</td>\n",
       "      <td>...</td>\n",
       "      <td>...</td>\n",
       "      <td>...</td>\n",
       "      <td>...</td>\n",
       "      <td>...</td>\n",
       "    </tr>\n",
       "    <tr>\n",
       "      <th>528012</th>\n",
       "      <td>5746</td>\n",
       "      <td>1365814283544776705</td>\n",
       "      <td>1365814283544776704</td>\n",
       "      <td>2021-02-28 01:01:15 ora solare Europa occidentale</td>\n",
       "      <td>2021-02-28</td>\n",
       "      <td>01:01:15</td>\n",
       "      <td>200</td>\n",
       "      <td>603051379</td>\n",
       "      <td>supersoccerny</td>\n",
       "      <td>SuperSoccerStarsNY</td>\n",
       "      <td>...</td>\n",
       "      <td>nan</td>\n",
       "      <td>nan</td>\n",
       "      <td>nan</td>\n",
       "      <td>nan</td>\n",
       "      <td>nan</td>\n",
       "      <td>NaN</td>\n",
       "      <td>nan</td>\n",
       "      <td>nan</td>\n",
       "      <td>nan</td>\n",
       "      <td>nan</td>\n",
       "    </tr>\n",
       "    <tr>\n",
       "      <th>528013</th>\n",
       "      <td>5747</td>\n",
       "      <td>1365814159246581761</td>\n",
       "      <td>1365814159246581760</td>\n",
       "      <td>2021-02-28 01:00:45 ora solare Europa occidentale</td>\n",
       "      <td>2021-02-28</td>\n",
       "      <td>01:00:45</td>\n",
       "      <td>200</td>\n",
       "      <td>717301826</td>\n",
       "      <td>smhistorymuseum</td>\n",
       "      <td>SM History Museum</td>\n",
       "      <td>...</td>\n",
       "      <td>nan</td>\n",
       "      <td>nan</td>\n",
       "      <td>nan</td>\n",
       "      <td>nan</td>\n",
       "      <td>nan</td>\n",
       "      <td>NaN</td>\n",
       "      <td>nan</td>\n",
       "      <td>nan</td>\n",
       "      <td>nan</td>\n",
       "      <td>nan</td>\n",
       "    </tr>\n",
       "    <tr>\n",
       "      <th>528014</th>\n",
       "      <td>5748</td>\n",
       "      <td>1365814158520967171</td>\n",
       "      <td>1365814158520967168</td>\n",
       "      <td>2021-02-28 01:00:45 ora solare Europa occidentale</td>\n",
       "      <td>2021-02-28</td>\n",
       "      <td>01:00:45</td>\n",
       "      <td>200</td>\n",
       "      <td>2191413684</td>\n",
       "      <td>txsthonors</td>\n",
       "      <td>Texas State Honors</td>\n",
       "      <td>...</td>\n",
       "      <td>nan</td>\n",
       "      <td>nan</td>\n",
       "      <td>nan</td>\n",
       "      <td>nan</td>\n",
       "      <td>nan</td>\n",
       "      <td>NaN</td>\n",
       "      <td>nan</td>\n",
       "      <td>nan</td>\n",
       "      <td>nan</td>\n",
       "      <td>nan</td>\n",
       "    </tr>\n",
       "    <tr>\n",
       "      <th>528015</th>\n",
       "      <td>5749</td>\n",
       "      <td>1365814155295473665</td>\n",
       "      <td>1365814155295473664</td>\n",
       "      <td>2021-02-28 01:00:44 ora solare Europa occidentale</td>\n",
       "      <td>2021-02-28</td>\n",
       "      <td>01:00:44</td>\n",
       "      <td>200</td>\n",
       "      <td>1217199734982692866</td>\n",
       "      <td>thegr8illusion</td>\n",
       "      <td>Phoenix Wise Ⓥ of the rock band The Resistance ✊🏽</td>\n",
       "      <td>...</td>\n",
       "      <td>nan</td>\n",
       "      <td>nan</td>\n",
       "      <td>nan</td>\n",
       "      <td>nan</td>\n",
       "      <td>nan</td>\n",
       "      <td>NaN</td>\n",
       "      <td>nan</td>\n",
       "      <td>nan</td>\n",
       "      <td>nan</td>\n",
       "      <td>nan</td>\n",
       "    </tr>\n",
       "    <tr>\n",
       "      <th>528016</th>\n",
       "      <td>5750</td>\n",
       "      <td>1365813976483786754</td>\n",
       "      <td>1365813976483786752</td>\n",
       "      <td>2021-02-28 01:00:02 ora solare Europa occidentale</td>\n",
       "      <td>2021-02-28</td>\n",
       "      <td>01:00:02</td>\n",
       "      <td>200</td>\n",
       "      <td>135213588</td>\n",
       "      <td>oldmainbell</td>\n",
       "      <td>OldMainBell</td>\n",
       "      <td>...</td>\n",
       "      <td>nan</td>\n",
       "      <td>nan</td>\n",
       "      <td>nan</td>\n",
       "      <td>nan</td>\n",
       "      <td>nan</td>\n",
       "      <td>NaN</td>\n",
       "      <td>nan</td>\n",
       "      <td>nan</td>\n",
       "      <td>nan</td>\n",
       "      <td>nan</td>\n",
       "    </tr>\n",
       "  </tbody>\n",
       "</table>\n",
       "<p>1260935 rows × 37 columns</p>\n",
       "</div>"
      ],
      "text/plain": [
       "        Unnamed: 0                   id      conversation_id  \\\n",
       "0                2  1232453597595439104  1232453597595439104   \n",
       "1                3  1232453306485657602  1232453306485657600   \n",
       "2                4  1232452916134346754  1232452916134346752   \n",
       "3                5  1232452856629719040  1232452856629719040   \n",
       "4                6  1232450204093206528  1232450204093206528   \n",
       "...            ...                  ...                  ...   \n",
       "528012        5746  1365814283544776705  1365814283544776704   \n",
       "528013        5747  1365814159246581761  1365814159246581760   \n",
       "528014        5748  1365814158520967171  1365814158520967168   \n",
       "528015        5749  1365814155295473665  1365814155295473664   \n",
       "528016        5750  1365813976483786754  1365813976483786752   \n",
       "\n",
       "                                               created_at        date  \\\n",
       "0       2020-02-26 00:53:30 ora solare Europa occidentale  2020-02-26   \n",
       "1       2020-02-26 00:52:20 ora solare Europa occidentale  2020-02-26   \n",
       "2       2020-02-26 00:50:47 ora solare Europa occidentale  2020-02-26   \n",
       "3       2020-02-26 00:50:33 ora solare Europa occidentale  2020-02-26   \n",
       "4       2020-02-26 00:40:01 ora solare Europa occidentale  2020-02-26   \n",
       "...                                                   ...         ...   \n",
       "528012  2021-02-28 01:01:15 ora solare Europa occidentale  2021-02-28   \n",
       "528013  2021-02-28 01:00:45 ora solare Europa occidentale  2021-02-28   \n",
       "528014  2021-02-28 01:00:45 ora solare Europa occidentale  2021-02-28   \n",
       "528015  2021-02-28 01:00:44 ora solare Europa occidentale  2021-02-28   \n",
       "528016  2021-02-28 01:00:02 ora solare Europa occidentale  2021-02-28   \n",
       "\n",
       "            time  timezone              user_id         username  \\\n",
       "0       00:53:30       200            543761210   mimitexasangel   \n",
       "1       00:52:20       200           2739446098   susankbradford   \n",
       "2       00:50:47       200            386642768   harbuckscoffee   \n",
       "3       00:50:33       200           4035330274    cote_christal   \n",
       "4       00:40:01       200            532291506    xpressionable   \n",
       "...          ...       ...                  ...              ...   \n",
       "528012  01:01:15       200            603051379    supersoccerny   \n",
       "528013  01:00:45       200            717301826  smhistorymuseum   \n",
       "528014  01:00:45       200           2191413684       txsthonors   \n",
       "528015  01:00:44       200  1217199734982692866   thegr8illusion   \n",
       "528016  01:00:02       200            135213588      oldmainbell   \n",
       "\n",
       "                                                     name  ... geo source  \\\n",
       "0                               BLM ~ Cannabis Food Heals  ... nan    nan   \n",
       "1                                          Susie Bradford  ... nan    nan   \n",
       "2                                              Mike Parks  ... nan    nan   \n",
       "3                                           Christal Côté  ... nan    nan   \n",
       "4                                           Xpressionable  ... nan    nan   \n",
       "...                                                   ...  ...  ..    ...   \n",
       "528012                                 SuperSoccerStarsNY  ... nan    nan   \n",
       "528013                                  SM History Museum  ... nan    nan   \n",
       "528014                                 Texas State Honors  ... nan    nan   \n",
       "528015  Phoenix Wise Ⓥ of the rock band The Resistance ✊🏽  ... nan    nan   \n",
       "528016                                        OldMainBell  ... nan    nan   \n",
       "\n",
       "       user_rt_id user_rt retweet_id reply_to  retweet_date  translate  \\\n",
       "0             nan     nan        nan      NaN           nan        nan   \n",
       "1             nan     nan        nan      NaN           nan        nan   \n",
       "2             nan     nan        nan      NaN           nan        nan   \n",
       "3             nan     nan        nan      NaN           nan        nan   \n",
       "4             nan     nan        nan      NaN           nan        nan   \n",
       "...           ...     ...        ...      ...           ...        ...   \n",
       "528012        nan     nan        nan      NaN           nan        nan   \n",
       "528013        nan     nan        nan      NaN           nan        nan   \n",
       "528014        nan     nan        nan      NaN           nan        nan   \n",
       "528015        nan     nan        nan      NaN           nan        nan   \n",
       "528016        nan     nan        nan      NaN           nan        nan   \n",
       "\n",
       "        trans_src trans_dest  \n",
       "0             nan        nan  \n",
       "1             nan        nan  \n",
       "2             nan        nan  \n",
       "3             nan        nan  \n",
       "4             nan        nan  \n",
       "...           ...        ...  \n",
       "528012        nan        nan  \n",
       "528013        nan        nan  \n",
       "528014        nan        nan  \n",
       "528015        nan        nan  \n",
       "528016        nan        nan  \n",
       "\n",
       "[1260935 rows x 37 columns]"
      ]
     },
     "execution_count": 11,
     "metadata": {},
     "output_type": "execute_result"
    }
   ],
   "source": [
    "df"
   ]
  },
  {
   "cell_type": "code",
   "execution_count": 12,
   "metadata": {
    "id": "fIPZxsNfBlqm"
   },
   "outputs": [],
   "source": [
    "del df[\"Unnamed: 0\"]"
   ]
  },
  {
   "cell_type": "code",
   "execution_count": 13,
   "metadata": {
    "colab": {
     "base_uri": "https://localhost:8080/"
    },
    "executionInfo": {
     "elapsed": 1794,
     "status": "ok",
     "timestamp": 1633685131978,
     "user": {
      "displayName": "Erica Cau",
      "photoUrl": "https://lh3.googleusercontent.com/a-/AOh14GgaHAm9eb7IEPH3gg3F8-B7BnNNHRInIVeLzqUivA=s64",
      "userId": "14542953089584718764"
     },
     "user_tz": -120
    },
    "id": "fn5PlCPkBlqm",
    "outputId": "54956e0f-deeb-4a28-bfbe-0e8fe0e987b1"
   },
   "outputs": [
    {
     "name": "stdout",
     "output_type": "stream",
     "text": [
      "<class 'pandas.core.frame.DataFrame'>\n",
      "Int64Index: 1260935 entries, 0 to 528016\n",
      "Data columns (total 36 columns):\n",
      " #   Column           Non-Null Count    Dtype  \n",
      "---  ------           --------------    -----  \n",
      " 0   id               1260935 non-null  int64  \n",
      " 1   conversation_id  1260935 non-null  int64  \n",
      " 2   created_at       1260935 non-null  object \n",
      " 3   date             1260935 non-null  object \n",
      " 4   time             1260935 non-null  object \n",
      " 5   timezone         1260935 non-null  int64  \n",
      " 6   user_id          1260935 non-null  int64  \n",
      " 7   username         1260935 non-null  object \n",
      " 8   name             1260809 non-null  object \n",
      " 9   place            6689 non-null     object \n",
      " 10  tweet            1260935 non-null  object \n",
      " 11  language         1260935 non-null  object \n",
      " 12  mentions         311813 non-null   object \n",
      " 13  urls             348491 non-null   object \n",
      " 14  photos           251726 non-null   object \n",
      " 15  replies_count    1260935 non-null  int64  \n",
      " 16  retweets_count   1260935 non-null  int64  \n",
      " 17  likes_count      1260935 non-null  int64  \n",
      " 18  hashtags         1172954 non-null  object \n",
      " 19  cashtags         471 non-null      object \n",
      " 20  link             1260935 non-null  object \n",
      " 21  retweet          1260935 non-null  bool   \n",
      " 22  quote_url        220781 non-null   object \n",
      " 23  video            1260935 non-null  int64  \n",
      " 24  thumbnail        299194 non-null   object \n",
      " 25  near             0 non-null        float64\n",
      " 26  geo              0 non-null        float64\n",
      " 27  source           0 non-null        float64\n",
      " 28  user_rt_id       0 non-null        float64\n",
      " 29  user_rt          0 non-null        float64\n",
      " 30  retweet_id       0 non-null        float64\n",
      " 31  reply_to         263509 non-null   object \n",
      " 32  retweet_date     0 non-null        float64\n",
      " 33  translate        0 non-null        float64\n",
      " 34  trans_src        0 non-null        float64\n",
      " 35  trans_dest       0 non-null        float64\n",
      "dtypes: bool(1), float64(10), int64(8), object(17)\n",
      "memory usage: 347.5+ MB\n"
     ]
    }
   ],
   "source": [
    "df.info()\n"
   ]
  },
  {
   "cell_type": "code",
   "execution_count": 14,
   "metadata": {
    "colab": {
     "base_uri": "https://localhost:8080/"
    },
    "executionInfo": {
     "elapsed": 30,
     "status": "ok",
     "timestamp": 1633685131983,
     "user": {
      "displayName": "Erica Cau",
      "photoUrl": "https://lh3.googleusercontent.com/a-/AOh14GgaHAm9eb7IEPH3gg3F8-B7BnNNHRInIVeLzqUivA=s64",
      "userId": "14542953089584718764"
     },
     "user_tz": -120
    },
    "id": "XuCrrDlvBlqn",
    "outputId": "b2ceca9c-d50a-4f98-d835-fe755de1bc63"
   },
   "outputs": [
    {
     "data": {
      "text/plain": [
       "394558"
      ]
     },
     "execution_count": 14,
     "metadata": {},
     "output_type": "execute_result"
    }
   ],
   "source": [
    "len(df[\"user_id\"].unique())"
   ]
  },
  {
   "cell_type": "code",
   "execution_count": 15,
   "metadata": {
    "colab": {
     "base_uri": "https://localhost:8080/"
    },
    "executionInfo": {
     "elapsed": 53,
     "status": "ok",
     "timestamp": 1633685132355,
     "user": {
      "displayName": "Erica Cau",
      "photoUrl": "https://lh3.googleusercontent.com/a-/AOh14GgaHAm9eb7IEPH3gg3F8-B7BnNNHRInIVeLzqUivA=s64",
      "userId": "14542953089584718764"
     },
     "user_tz": -120
    },
    "id": "DaJC9VP_Blqn",
    "outputId": "954309ce-bcd8-4a08-a454-23031533fd38",
    "scrolled": true
   },
   "outputs": [
    {
     "data": {
      "text/plain": [
       "903397"
      ]
     },
     "execution_count": 15,
     "metadata": {},
     "output_type": "execute_result"
    }
   ],
   "source": [
    "len(df[\"conversation_id\"].value_counts(normalize=True))"
   ]
  },
  {
   "cell_type": "code",
   "execution_count": 16,
   "metadata": {
    "id": "GwloKHmsBlqp"
   },
   "outputs": [],
   "source": [
    "df_definitivo = df.drop([\"retweet_date\", \"translate\", \"trans_src\", \"trans_dest\", \"near\", \"geo\", \"source\", \"user_rt_id\",\"user_rt\", \"retweet_id\", \"place\", \"thumbnail\", \"video\", \"language\", \"photos\" , \"created_at\", \"timezone\", \"cashtags\", \"urls\", \"retweet\", \"quote_url\"], axis=1)"
   ]
  },
  {
   "cell_type": "code",
   "execution_count": 17,
   "metadata": {
    "id": "8zDfiQPYJZGb"
   },
   "outputs": [],
   "source": [
    "df_definitivo.reset_index(inplace=True)"
   ]
  },
  {
   "cell_type": "code",
   "execution_count": 20,
   "metadata": {
    "colab": {
     "base_uri": "https://localhost:8080/",
     "height": 982
    },
    "executionInfo": {
     "elapsed": 14,
     "status": "ok",
     "timestamp": 1633685132564,
     "user": {
      "displayName": "Erica Cau",
      "photoUrl": "https://lh3.googleusercontent.com/a-/AOh14GgaHAm9eb7IEPH3gg3F8-B7BnNNHRInIVeLzqUivA=s64",
      "userId": "14542953089584718764"
     },
     "user_tz": -120
    },
    "id": "7NnET0vnJipl",
    "outputId": "698a4bbb-16a4-4c2d-ae34-d5e8fa4e773d"
   },
   "outputs": [
    {
     "data": {
      "text/html": [
       "<div>\n",
       "<style scoped>\n",
       "    .dataframe tbody tr th:only-of-type {\n",
       "        vertical-align: middle;\n",
       "    }\n",
       "\n",
       "    .dataframe tbody tr th {\n",
       "        vertical-align: top;\n",
       "    }\n",
       "\n",
       "    .dataframe thead th {\n",
       "        text-align: right;\n",
       "    }\n",
       "</style>\n",
       "<table border=\"1\" class=\"dataframe\">\n",
       "  <thead>\n",
       "    <tr style=\"text-align: right;\">\n",
       "      <th></th>\n",
       "      <th>index</th>\n",
       "      <th>id</th>\n",
       "      <th>conversation_id</th>\n",
       "      <th>date</th>\n",
       "      <th>time</th>\n",
       "      <th>user_id</th>\n",
       "      <th>username</th>\n",
       "      <th>name</th>\n",
       "      <th>tweet</th>\n",
       "      <th>mentions</th>\n",
       "      <th>replies_count</th>\n",
       "      <th>retweets_count</th>\n",
       "      <th>likes_count</th>\n",
       "      <th>hashtags</th>\n",
       "      <th>link</th>\n",
       "      <th>reply_to</th>\n",
       "    </tr>\n",
       "  </thead>\n",
       "  <tbody>\n",
       "    <tr>\n",
       "      <th>0</th>\n",
       "      <td>0</td>\n",
       "      <td>1232453597595439104</td>\n",
       "      <td>1232453597595439104</td>\n",
       "      <td>2020-02-26</td>\n",
       "      <td>00:53:30</td>\n",
       "      <td>543761210</td>\n",
       "      <td>mimitexasangel</td>\n",
       "      <td>BLM ~ Cannabis Food Heals</td>\n",
       "      <td>#Billionaires do not want to become #TaxPayers...</td>\n",
       "      <td>NaN</td>\n",
       "      <td>0</td>\n",
       "      <td>0</td>\n",
       "      <td>2</td>\n",
       "      <td>['billionaires', 'taxpayers', 'cannabis', 'god...</td>\n",
       "      <td>https://twitter.com/MimiTexasAngel/status/1232...</td>\n",
       "      <td>NaN</td>\n",
       "    </tr>\n",
       "    <tr>\n",
       "      <th>1</th>\n",
       "      <td>1</td>\n",
       "      <td>1232453306485657602</td>\n",
       "      <td>1232453306485657600</td>\n",
       "      <td>2020-02-26</td>\n",
       "      <td>00:52:20</td>\n",
       "      <td>2739446098</td>\n",
       "      <td>susankbradford</td>\n",
       "      <td>Susie Bradford</td>\n",
       "      <td>The bigots in this admin are equal opportunity...</td>\n",
       "      <td>NaN</td>\n",
       "      <td>0</td>\n",
       "      <td>0</td>\n",
       "      <td>1</td>\n",
       "      <td>['amirite', 'whiteprivilege', 'whitesupremacy'...</td>\n",
       "      <td>https://twitter.com/SusanKBradford/status/1232...</td>\n",
       "      <td>NaN</td>\n",
       "    </tr>\n",
       "    <tr>\n",
       "      <th>2</th>\n",
       "      <td>2</td>\n",
       "      <td>1232452916134346754</td>\n",
       "      <td>1232452916134346752</td>\n",
       "      <td>2020-02-26</td>\n",
       "      <td>00:50:47</td>\n",
       "      <td>386642768</td>\n",
       "      <td>harbuckscoffee</td>\n",
       "      <td>Mike Parks</td>\n",
       "      <td>C’mon @PeteButtigieg stop faking.  You were sc...</td>\n",
       "      <td>[{'screen_name': 'petebuttigieg', 'name': 'pet...</td>\n",
       "      <td>0</td>\n",
       "      <td>0</td>\n",
       "      <td>0</td>\n",
       "      <td>['blacklivesmatter']</td>\n",
       "      <td>https://twitter.com/HarbucksCoffee/status/1232...</td>\n",
       "      <td>NaN</td>\n",
       "    </tr>\n",
       "    <tr>\n",
       "      <th>3</th>\n",
       "      <td>3</td>\n",
       "      <td>1232452856629719040</td>\n",
       "      <td>1232452856629719040</td>\n",
       "      <td>2020-02-26</td>\n",
       "      <td>00:50:33</td>\n",
       "      <td>4035330274</td>\n",
       "      <td>cote_christal</td>\n",
       "      <td>Christal Côté</td>\n",
       "      <td>Dear Public of #Ontario, are these motions in ...</td>\n",
       "      <td>NaN</td>\n",
       "      <td>1</td>\n",
       "      <td>2</td>\n",
       "      <td>2</td>\n",
       "      <td>['ontario', 'lso', 'calltoaction', 'indigenous...</td>\n",
       "      <td>https://twitter.com/cote_christal/status/12324...</td>\n",
       "      <td>NaN</td>\n",
       "    </tr>\n",
       "    <tr>\n",
       "      <th>4</th>\n",
       "      <td>4</td>\n",
       "      <td>1232450204093206528</td>\n",
       "      <td>1232450204093206528</td>\n",
       "      <td>2020-02-26</td>\n",
       "      <td>00:40:01</td>\n",
       "      <td>532291506</td>\n",
       "      <td>xpressionable</td>\n",
       "      <td>Xpressionable</td>\n",
       "      <td>Mum blames 'racism' after boy who pushed son t...</td>\n",
       "      <td>[{'screen_name': 'africamustwake', 'name': 'po...</td>\n",
       "      <td>0</td>\n",
       "      <td>1</td>\n",
       "      <td>0</td>\n",
       "      <td>['racism', 'crimesagainstblackchildren', 'blac...</td>\n",
       "      <td>https://twitter.com/Xpressionable/status/12324...</td>\n",
       "      <td>NaN</td>\n",
       "    </tr>\n",
       "    <tr>\n",
       "      <th>...</th>\n",
       "      <td>...</td>\n",
       "      <td>...</td>\n",
       "      <td>...</td>\n",
       "      <td>...</td>\n",
       "      <td>...</td>\n",
       "      <td>...</td>\n",
       "      <td>...</td>\n",
       "      <td>...</td>\n",
       "      <td>...</td>\n",
       "      <td>...</td>\n",
       "      <td>...</td>\n",
       "      <td>...</td>\n",
       "      <td>...</td>\n",
       "      <td>...</td>\n",
       "      <td>...</td>\n",
       "      <td>...</td>\n",
       "    </tr>\n",
       "    <tr>\n",
       "      <th>1260930</th>\n",
       "      <td>528012</td>\n",
       "      <td>1365814283544776705</td>\n",
       "      <td>1365814283544776704</td>\n",
       "      <td>2021-02-28</td>\n",
       "      <td>01:01:15</td>\n",
       "      <td>603051379</td>\n",
       "      <td>supersoccerny</td>\n",
       "      <td>SuperSoccerStarsNY</td>\n",
       "      <td>Celebrating Black History Month Coach Errol Sp...</td>\n",
       "      <td>NaN</td>\n",
       "      <td>0</td>\n",
       "      <td>0</td>\n",
       "      <td>1</td>\n",
       "      <td>['blackhistory', 'blackhistorymonth', 'blackli...</td>\n",
       "      <td>https://twitter.com/SuperSoccerNY/status/13658...</td>\n",
       "      <td>NaN</td>\n",
       "    </tr>\n",
       "    <tr>\n",
       "      <th>1260931</th>\n",
       "      <td>528013</td>\n",
       "      <td>1365814159246581761</td>\n",
       "      <td>1365814159246581760</td>\n",
       "      <td>2021-02-28</td>\n",
       "      <td>01:00:45</td>\n",
       "      <td>717301826</td>\n",
       "      <td>smhistorymuseum</td>\n",
       "      <td>SM History Museum</td>\n",
       "      <td>Civil Rights protest in front of the Santa Mon...</td>\n",
       "      <td>NaN</td>\n",
       "      <td>1</td>\n",
       "      <td>6</td>\n",
       "      <td>10</td>\n",
       "      <td>['blackhistory', 'civilrights', 'blacklivesmat...</td>\n",
       "      <td>https://twitter.com/SMHistoryMuseum/status/136...</td>\n",
       "      <td>NaN</td>\n",
       "    </tr>\n",
       "    <tr>\n",
       "      <th>1260932</th>\n",
       "      <td>528014</td>\n",
       "      <td>1365814158520967171</td>\n",
       "      <td>1365814158520967168</td>\n",
       "      <td>2021-02-28</td>\n",
       "      <td>01:00:45</td>\n",
       "      <td>2191413684</td>\n",
       "      <td>txsthonors</td>\n",
       "      <td>Texas State Honors</td>\n",
       "      <td>Honors celebrates alumni who have completed th...</td>\n",
       "      <td>NaN</td>\n",
       "      <td>0</td>\n",
       "      <td>0</td>\n",
       "      <td>0</td>\n",
       "      <td>['blacklivesmatter', 'txsthonors']</td>\n",
       "      <td>https://twitter.com/TXSTHonors/status/13658141...</td>\n",
       "      <td>NaN</td>\n",
       "    </tr>\n",
       "    <tr>\n",
       "      <th>1260933</th>\n",
       "      <td>528015</td>\n",
       "      <td>1365814155295473665</td>\n",
       "      <td>1365814155295473664</td>\n",
       "      <td>2021-02-28</td>\n",
       "      <td>01:00:44</td>\n",
       "      <td>1217199734982692866</td>\n",
       "      <td>thegr8illusion</td>\n",
       "      <td>Phoenix Wise Ⓥ of the rock band The Resistance ✊🏽</td>\n",
       "      <td>pre-order new album on Bandcamp! $3.99 for 7 s...</td>\n",
       "      <td>NaN</td>\n",
       "      <td>0</td>\n",
       "      <td>1</td>\n",
       "      <td>1</td>\n",
       "      <td>['ahimsa', 'pacifism', 'progressive', 'lgbtq',...</td>\n",
       "      <td>https://twitter.com/TheGr8Illusion/status/1365...</td>\n",
       "      <td>NaN</td>\n",
       "    </tr>\n",
       "    <tr>\n",
       "      <th>1260934</th>\n",
       "      <td>528016</td>\n",
       "      <td>1365813976483786754</td>\n",
       "      <td>1365813976483786752</td>\n",
       "      <td>2021-02-28</td>\n",
       "      <td>01:00:02</td>\n",
       "      <td>135213588</td>\n",
       "      <td>oldmainbell</td>\n",
       "      <td>OldMainBell</td>\n",
       "      <td>ding! ding Ding Ding ding* ding! ding #PennSta...</td>\n",
       "      <td>NaN</td>\n",
       "      <td>0</td>\n",
       "      <td>0</td>\n",
       "      <td>0</td>\n",
       "      <td>['pennstate', 'blacklivesmatter', 'justicefora...</td>\n",
       "      <td>https://twitter.com/OldMainBell/status/1365813...</td>\n",
       "      <td>NaN</td>\n",
       "    </tr>\n",
       "  </tbody>\n",
       "</table>\n",
       "<p>1260935 rows × 16 columns</p>\n",
       "</div>"
      ],
      "text/plain": [
       "          index                   id      conversation_id        date  \\\n",
       "0             0  1232453597595439104  1232453597595439104  2020-02-26   \n",
       "1             1  1232453306485657602  1232453306485657600  2020-02-26   \n",
       "2             2  1232452916134346754  1232452916134346752  2020-02-26   \n",
       "3             3  1232452856629719040  1232452856629719040  2020-02-26   \n",
       "4             4  1232450204093206528  1232450204093206528  2020-02-26   \n",
       "...         ...                  ...                  ...         ...   \n",
       "1260930  528012  1365814283544776705  1365814283544776704  2021-02-28   \n",
       "1260931  528013  1365814159246581761  1365814159246581760  2021-02-28   \n",
       "1260932  528014  1365814158520967171  1365814158520967168  2021-02-28   \n",
       "1260933  528015  1365814155295473665  1365814155295473664  2021-02-28   \n",
       "1260934  528016  1365813976483786754  1365813976483786752  2021-02-28   \n",
       "\n",
       "             time              user_id         username  \\\n",
       "0        00:53:30            543761210   mimitexasangel   \n",
       "1        00:52:20           2739446098   susankbradford   \n",
       "2        00:50:47            386642768   harbuckscoffee   \n",
       "3        00:50:33           4035330274    cote_christal   \n",
       "4        00:40:01            532291506    xpressionable   \n",
       "...           ...                  ...              ...   \n",
       "1260930  01:01:15            603051379    supersoccerny   \n",
       "1260931  01:00:45            717301826  smhistorymuseum   \n",
       "1260932  01:00:45           2191413684       txsthonors   \n",
       "1260933  01:00:44  1217199734982692866   thegr8illusion   \n",
       "1260934  01:00:02            135213588      oldmainbell   \n",
       "\n",
       "                                                      name  \\\n",
       "0                                BLM ~ Cannabis Food Heals   \n",
       "1                                           Susie Bradford   \n",
       "2                                               Mike Parks   \n",
       "3                                            Christal Côté   \n",
       "4                                            Xpressionable   \n",
       "...                                                    ...   \n",
       "1260930                                 SuperSoccerStarsNY   \n",
       "1260931                                  SM History Museum   \n",
       "1260932                                 Texas State Honors   \n",
       "1260933  Phoenix Wise Ⓥ of the rock band The Resistance ✊🏽   \n",
       "1260934                                        OldMainBell   \n",
       "\n",
       "                                                     tweet  \\\n",
       "0        #Billionaires do not want to become #TaxPayers...   \n",
       "1        The bigots in this admin are equal opportunity...   \n",
       "2        C’mon @PeteButtigieg stop faking.  You were sc...   \n",
       "3        Dear Public of #Ontario, are these motions in ...   \n",
       "4        Mum blames 'racism' after boy who pushed son t...   \n",
       "...                                                    ...   \n",
       "1260930  Celebrating Black History Month Coach Errol Sp...   \n",
       "1260931  Civil Rights protest in front of the Santa Mon...   \n",
       "1260932  Honors celebrates alumni who have completed th...   \n",
       "1260933  pre-order new album on Bandcamp! $3.99 for 7 s...   \n",
       "1260934  ding! ding Ding Ding ding* ding! ding #PennSta...   \n",
       "\n",
       "                                                  mentions  replies_count  \\\n",
       "0                                                      NaN              0   \n",
       "1                                                      NaN              0   \n",
       "2        [{'screen_name': 'petebuttigieg', 'name': 'pet...              0   \n",
       "3                                                      NaN              1   \n",
       "4        [{'screen_name': 'africamustwake', 'name': 'po...              0   \n",
       "...                                                    ...            ...   \n",
       "1260930                                                NaN              0   \n",
       "1260931                                                NaN              1   \n",
       "1260932                                                NaN              0   \n",
       "1260933                                                NaN              0   \n",
       "1260934                                                NaN              0   \n",
       "\n",
       "         retweets_count  likes_count  \\\n",
       "0                     0            2   \n",
       "1                     0            1   \n",
       "2                     0            0   \n",
       "3                     2            2   \n",
       "4                     1            0   \n",
       "...                 ...          ...   \n",
       "1260930               0            1   \n",
       "1260931               6           10   \n",
       "1260932               0            0   \n",
       "1260933               1            1   \n",
       "1260934               0            0   \n",
       "\n",
       "                                                  hashtags  \\\n",
       "0        ['billionaires', 'taxpayers', 'cannabis', 'god...   \n",
       "1        ['amirite', 'whiteprivilege', 'whitesupremacy'...   \n",
       "2                                     ['blacklivesmatter']   \n",
       "3        ['ontario', 'lso', 'calltoaction', 'indigenous...   \n",
       "4        ['racism', 'crimesagainstblackchildren', 'blac...   \n",
       "...                                                    ...   \n",
       "1260930  ['blackhistory', 'blackhistorymonth', 'blackli...   \n",
       "1260931  ['blackhistory', 'civilrights', 'blacklivesmat...   \n",
       "1260932                 ['blacklivesmatter', 'txsthonors']   \n",
       "1260933  ['ahimsa', 'pacifism', 'progressive', 'lgbtq',...   \n",
       "1260934  ['pennstate', 'blacklivesmatter', 'justicefora...   \n",
       "\n",
       "                                                      link reply_to  \n",
       "0        https://twitter.com/MimiTexasAngel/status/1232...      NaN  \n",
       "1        https://twitter.com/SusanKBradford/status/1232...      NaN  \n",
       "2        https://twitter.com/HarbucksCoffee/status/1232...      NaN  \n",
       "3        https://twitter.com/cote_christal/status/12324...      NaN  \n",
       "4        https://twitter.com/Xpressionable/status/12324...      NaN  \n",
       "...                                                    ...      ...  \n",
       "1260930  https://twitter.com/SuperSoccerNY/status/13658...      NaN  \n",
       "1260931  https://twitter.com/SMHistoryMuseum/status/136...      NaN  \n",
       "1260932  https://twitter.com/TXSTHonors/status/13658141...      NaN  \n",
       "1260933  https://twitter.com/TheGr8Illusion/status/1365...      NaN  \n",
       "1260934  https://twitter.com/OldMainBell/status/1365813...      NaN  \n",
       "\n",
       "[1260935 rows x 16 columns]"
      ]
     },
     "execution_count": 20,
     "metadata": {},
     "output_type": "execute_result"
    }
   ],
   "source": [
    "df_definitivo"
   ]
  },
  {
   "cell_type": "code",
   "execution_count": 21,
   "metadata": {
    "id": "wrqWhiBgJmTz"
   },
   "outputs": [],
   "source": [
    "del df_definitivo[\"index\"]"
   ]
  },
  {
   "cell_type": "code",
   "execution_count": 22,
   "metadata": {
    "id": "irphUmprB8Wl"
   },
   "outputs": [],
   "source": [
    "df_definitivo = df_definitivo.dropna()"
   ]
  },
  {
   "cell_type": "code",
   "execution_count": 23,
   "metadata": {
    "colab": {
     "base_uri": "https://localhost:8080/"
    },
    "executionInfo": {
     "elapsed": 39,
     "status": "ok",
     "timestamp": 1633685133359,
     "user": {
      "displayName": "Erica Cau",
      "photoUrl": "https://lh3.googleusercontent.com/a-/AOh14GgaHAm9eb7IEPH3gg3F8-B7BnNNHRInIVeLzqUivA=s64",
      "userId": "14542953089584718764"
     },
     "user_tz": -120
    },
    "id": "VaYj41gmJjpK",
    "outputId": "f47c66bd-ee18-4c6b-ddb2-38e2eea3ff64"
   },
   "outputs": [
    {
     "data": {
      "text/plain": [
       "False    34558\n",
       "True      1116\n",
       "Name: date, dtype: int64"
      ]
     },
     "execution_count": 23,
     "metadata": {},
     "output_type": "execute_result"
    }
   ],
   "source": [
    "(df_definitivo[\"date\"] <= \"2020-05-25\").value_counts()"
   ]
  },
  {
   "cell_type": "code",
   "execution_count": 24,
   "metadata": {
    "colab": {
     "base_uri": "https://localhost:8080/"
    },
    "executionInfo": {
     "elapsed": 34,
     "status": "ok",
     "timestamp": 1633685133360,
     "user": {
      "displayName": "Erica Cau",
      "photoUrl": "https://lh3.googleusercontent.com/a-/AOh14GgaHAm9eb7IEPH3gg3F8-B7BnNNHRInIVeLzqUivA=s64",
      "userId": "14542953089584718764"
     },
     "user_tz": -120
    },
    "id": "zznmnjAJBlqp",
    "outputId": "11259952-f71e-4566-b919-66a99f39367c",
    "scrolled": true
   },
   "outputs": [
    {
     "data": {
      "text/plain": [
       "count   35674\n",
       "mean        1\n",
       "std         8\n",
       "min         0\n",
       "25%         0\n",
       "50%         0\n",
       "75%         0\n",
       "max       955\n",
       "Name: retweets_count, dtype: float64"
      ]
     },
     "execution_count": 24,
     "metadata": {},
     "output_type": "execute_result"
    }
   ],
   "source": [
    "df_definitivo[\"retweets_count\"].describe()"
   ]
  },
  {
   "cell_type": "code",
   "execution_count": 25,
   "metadata": {
    "colab": {
     "base_uri": "https://localhost:8080/"
    },
    "executionInfo": {
     "elapsed": 26,
     "status": "ok",
     "timestamp": 1633685133361,
     "user": {
      "displayName": "Erica Cau",
      "photoUrl": "https://lh3.googleusercontent.com/a-/AOh14GgaHAm9eb7IEPH3gg3F8-B7BnNNHRInIVeLzqUivA=s64",
      "userId": "14542953089584718764"
     },
     "user_tz": -120
    },
    "id": "yeNhEK21F0MJ",
    "outputId": "30464831-f72a-4573-b00e-5d1c9bbfc180"
   },
   "outputs": [
    {
     "data": {
      "text/plain": [
       "12912"
      ]
     },
     "execution_count": 25,
     "metadata": {},
     "output_type": "execute_result"
    }
   ],
   "source": [
    "len(df_definitivo[\"user_id\"].unique())"
   ]
  },
  {
   "cell_type": "code",
   "execution_count": 27,
   "metadata": {
    "colab": {
     "base_uri": "https://localhost:8080/"
    },
    "executionInfo": {
     "elapsed": 16,
     "status": "ok",
     "timestamp": 1633685133361,
     "user": {
      "displayName": "Erica Cau",
      "photoUrl": "https://lh3.googleusercontent.com/a-/AOh14GgaHAm9eb7IEPH3gg3F8-B7BnNNHRInIVeLzqUivA=s64",
      "userId": "14542953089584718764"
     },
     "user_tz": -120
    },
    "id": "eP721r47B8Wn",
    "outputId": "41158971-bdf2-453e-949f-1fff743decf8"
   },
   "outputs": [
    {
     "data": {
      "text/plain": [
       "100        [{'screen_name': 'MatthewJshow', 'name': 'Matt...\n",
       "132        [{'screen_name': 'JohnLegere', 'name': 'John L...\n",
       "157        [{'screen_name': 'moyazb', 'name': 'moyazb', '...\n",
       "183        [{'screen_name': 'sharon_inouye', 'name': 'Sha...\n",
       "200        [{'screen_name': 'daveanthony', 'name': 'Judge...\n",
       "                                 ...                        \n",
       "1260859    [{'screen_name': 'mikepfingston2', 'name': 'Pi...\n",
       "1260873    [{'screen_name': 'EngTechnow', 'name': 'Sir  D...\n",
       "1260882    [{'screen_name': 'TeamPelosi', 'name': 'Nancy ...\n",
       "1260906    [{'screen_name': 'Wideopenspace5', 'name': 'So...\n",
       "1260921    [{'screen_name': 'VP', 'name': 'Vice President...\n",
       "Name: reply_to, Length: 35674, dtype: object"
      ]
     },
     "execution_count": 27,
     "metadata": {},
     "output_type": "execute_result"
    }
   ],
   "source": [
    "df_definitivo[\"reply_to\"]"
   ]
  },
  {
   "cell_type": "code",
   "execution_count": 28,
   "metadata": {
    "id": "CsFccOKzB8Wn"
   },
   "outputs": [],
   "source": [
    "df_definitivo.reset_index(inplace=True)"
   ]
  },
  {
   "cell_type": "code",
   "execution_count": 29,
   "metadata": {
    "id": "5H2sXDExB8Wn"
   },
   "outputs": [],
   "source": [
    "del df_definitivo[\"index\"]"
   ]
  },
  {
   "cell_type": "markdown",
   "metadata": {},
   "source": [
    "## Network Preprocessing\n",
    "* we preprocess the data in order to extract the relationships between users using the _reply_to_ feature\n",
    "* then we create the edgelist and we assign to each interaction, a weight"
   ]
  },
  {
   "cell_type": "code",
   "execution_count": null,
   "metadata": {
    "id": "B2npqz093oUH"
   },
   "outputs": [],
   "source": [
    "df_definitivo['reply_to'] = df_definitivo['reply_to'].map(eval)"
   ]
  },
  {
   "cell_type": "code",
   "execution_count": 34,
   "metadata": {
    "id": "yBt0pYuz3-18"
   },
   "outputs": [],
   "source": [
    "tupla = []"
   ]
  },
  {
   "cell_type": "code",
   "execution_count": 35,
   "metadata": {
    "id": "pXiVEWy7B8Wv"
   },
   "outputs": [],
   "source": [
    "for index in range(0, len(df_definitivo)):\n",
    "    for dizionario in df_definitivo['reply_to'][index]:\n",
    " #     print(\"Mittente \",df_definitivo['user_id'][index], \"id \", dizionario['id'])\n",
    "      tupla.append((df_definitivo['username'][index], df_definitivo[\"user_id\"][index], dizionario['screen_name'], dizionario[\"id\"]))\n",
    "        \n",
    "  \n",
    "\n",
    "df_def = pd.DataFrame(tupla, columns = [\"source\", \"id_source\",\"target\", \"id_target\"])"
   ]
  },
  {
   "cell_type": "code",
   "execution_count": 36,
   "metadata": {
    "colab": {
     "base_uri": "https://localhost:8080/",
     "height": 424
    },
    "executionInfo": {
     "elapsed": 20,
     "status": "ok",
     "timestamp": 1633685154811,
     "user": {
      "displayName": "Erica Cau",
      "photoUrl": "https://lh3.googleusercontent.com/a-/AOh14GgaHAm9eb7IEPH3gg3F8-B7BnNNHRInIVeLzqUivA=s64",
      "userId": "14542953089584718764"
     },
     "user_tz": -120
    },
    "id": "WV0xUMk9AInu",
    "outputId": "05196566-e1ab-4fd7-b8b6-1433301c8d33"
   },
   "outputs": [
    {
     "data": {
      "text/html": [
       "<div>\n",
       "<style scoped>\n",
       "    .dataframe tbody tr th:only-of-type {\n",
       "        vertical-align: middle;\n",
       "    }\n",
       "\n",
       "    .dataframe tbody tr th {\n",
       "        vertical-align: top;\n",
       "    }\n",
       "\n",
       "    .dataframe thead th {\n",
       "        text-align: right;\n",
       "    }\n",
       "</style>\n",
       "<table border=\"1\" class=\"dataframe\">\n",
       "  <thead>\n",
       "    <tr style=\"text-align: right;\">\n",
       "      <th></th>\n",
       "      <th>source</th>\n",
       "      <th>id_source</th>\n",
       "      <th>target</th>\n",
       "      <th>id_target</th>\n",
       "    </tr>\n",
       "  </thead>\n",
       "  <tbody>\n",
       "    <tr>\n",
       "      <th>0</th>\n",
       "      <td>fun_horse</td>\n",
       "      <td>1489567152</td>\n",
       "      <td>MatthewJshow</td>\n",
       "      <td>762932101</td>\n",
       "    </tr>\n",
       "    <tr>\n",
       "      <th>1</th>\n",
       "      <td>fun_horse</td>\n",
       "      <td>1489567152</td>\n",
       "      <td>WhiteHouse</td>\n",
       "      <td>1323730225067339784</td>\n",
       "    </tr>\n",
       "    <tr>\n",
       "      <th>2</th>\n",
       "      <td>fun_horse</td>\n",
       "      <td>1489567152</td>\n",
       "      <td>MIT</td>\n",
       "      <td>15460048</td>\n",
       "    </tr>\n",
       "    <tr>\n",
       "      <th>3</th>\n",
       "      <td>fun_horse</td>\n",
       "      <td>1489567152</td>\n",
       "      <td>NRA</td>\n",
       "      <td>21829541</td>\n",
       "    </tr>\n",
       "    <tr>\n",
       "      <th>4</th>\n",
       "      <td>fun_horse</td>\n",
       "      <td>1489567152</td>\n",
       "      <td>ODNIgov</td>\n",
       "      <td>56838279</td>\n",
       "    </tr>\n",
       "    <tr>\n",
       "      <th>...</th>\n",
       "      <td>...</td>\n",
       "      <td>...</td>\n",
       "      <td>...</td>\n",
       "      <td>...</td>\n",
       "    </tr>\n",
       "    <tr>\n",
       "      <th>115662</th>\n",
       "      <td>crystalclean757</td>\n",
       "      <td>988937151843794944</td>\n",
       "      <td>Blackamazon</td>\n",
       "      <td>18052474</td>\n",
       "    </tr>\n",
       "    <tr>\n",
       "      <th>115663</th>\n",
       "      <td>hanifactor</td>\n",
       "      <td>860145770653155330</td>\n",
       "      <td>VP</td>\n",
       "      <td>803694179079458816</td>\n",
       "    </tr>\n",
       "    <tr>\n",
       "      <th>115664</th>\n",
       "      <td>hanifactor</td>\n",
       "      <td>860145770653155330</td>\n",
       "      <td>NASA</td>\n",
       "      <td>11348282</td>\n",
       "    </tr>\n",
       "    <tr>\n",
       "      <th>115665</th>\n",
       "      <td>hanifactor</td>\n",
       "      <td>860145770653155330</td>\n",
       "      <td>USNavy</td>\n",
       "      <td>54885400</td>\n",
       "    </tr>\n",
       "    <tr>\n",
       "      <th>115666</th>\n",
       "      <td>hanifactor</td>\n",
       "      <td>860145770653155330</td>\n",
       "      <td>AstroVicGlover</td>\n",
       "      <td>1024391197</td>\n",
       "    </tr>\n",
       "  </tbody>\n",
       "</table>\n",
       "<p>115667 rows × 4 columns</p>\n",
       "</div>"
      ],
      "text/plain": [
       "                 source           id_source          target  \\\n",
       "0             fun_horse          1489567152    MatthewJshow   \n",
       "1             fun_horse          1489567152      WhiteHouse   \n",
       "2             fun_horse          1489567152             MIT   \n",
       "3             fun_horse          1489567152             NRA   \n",
       "4             fun_horse          1489567152         ODNIgov   \n",
       "...                 ...                 ...             ...   \n",
       "115662  crystalclean757  988937151843794944     Blackamazon   \n",
       "115663       hanifactor  860145770653155330              VP   \n",
       "115664       hanifactor  860145770653155330            NASA   \n",
       "115665       hanifactor  860145770653155330          USNavy   \n",
       "115666       hanifactor  860145770653155330  AstroVicGlover   \n",
       "\n",
       "                  id_target  \n",
       "0                 762932101  \n",
       "1       1323730225067339784  \n",
       "2                  15460048  \n",
       "3                  21829541  \n",
       "4                  56838279  \n",
       "...                     ...  \n",
       "115662             18052474  \n",
       "115663   803694179079458816  \n",
       "115664             11348282  \n",
       "115665             54885400  \n",
       "115666           1024391197  \n",
       "\n",
       "[115667 rows x 4 columns]"
      ]
     },
     "execution_count": 36,
     "metadata": {},
     "output_type": "execute_result"
    }
   ],
   "source": [
    "df_def"
   ]
  },
  {
   "cell_type": "code",
   "execution_count": 37,
   "metadata": {
    "id": "XmTYHwh0B8Wv"
   },
   "outputs": [],
   "source": [
    "df_def.to_csv(\"../data_collection/data/df_per_grafo.csv\")"
   ]
  },
  {
   "cell_type": "code",
   "execution_count": 18,
   "metadata": {
    "id": "qyn-j0tXB8Wv"
   },
   "outputs": [],
   "source": [
    "df_def = pd.read_csv(\"../data_collection/data/df_per_grafo.csv\")\n"
   ]
  },
  {
   "cell_type": "code",
   "execution_count": 19,
   "metadata": {
    "colab": {
     "base_uri": "https://localhost:8080/",
     "height": 424
    },
    "executionInfo": {
     "elapsed": 10,
     "status": "ok",
     "timestamp": 1633689831258,
     "user": {
      "displayName": "Erica Cau",
      "photoUrl": "https://lh3.googleusercontent.com/a-/AOh14GgaHAm9eb7IEPH3gg3F8-B7BnNNHRInIVeLzqUivA=s64",
      "userId": "14542953089584718764"
     },
     "user_tz": -120
    },
    "id": "J_r0aoka8gJH",
    "outputId": "f728712f-662a-4e88-f0d9-903cd1bc40b2"
   },
   "outputs": [
    {
     "data": {
      "text/html": [
       "<div>\n",
       "<style scoped>\n",
       "    .dataframe tbody tr th:only-of-type {\n",
       "        vertical-align: middle;\n",
       "    }\n",
       "\n",
       "    .dataframe tbody tr th {\n",
       "        vertical-align: top;\n",
       "    }\n",
       "\n",
       "    .dataframe thead th {\n",
       "        text-align: right;\n",
       "    }\n",
       "</style>\n",
       "<table border=\"1\" class=\"dataframe\">\n",
       "  <thead>\n",
       "    <tr style=\"text-align: right;\">\n",
       "      <th></th>\n",
       "      <th>Unnamed: 0</th>\n",
       "      <th>source</th>\n",
       "      <th>id_source</th>\n",
       "      <th>target</th>\n",
       "      <th>id_target</th>\n",
       "    </tr>\n",
       "  </thead>\n",
       "  <tbody>\n",
       "    <tr>\n",
       "      <th>0</th>\n",
       "      <td>0</td>\n",
       "      <td>fun_horse</td>\n",
       "      <td>1489567152</td>\n",
       "      <td>MatthewJshow</td>\n",
       "      <td>762932101</td>\n",
       "    </tr>\n",
       "    <tr>\n",
       "      <th>1</th>\n",
       "      <td>1</td>\n",
       "      <td>fun_horse</td>\n",
       "      <td>1489567152</td>\n",
       "      <td>WhiteHouse</td>\n",
       "      <td>1323730225067339784</td>\n",
       "    </tr>\n",
       "    <tr>\n",
       "      <th>2</th>\n",
       "      <td>2</td>\n",
       "      <td>fun_horse</td>\n",
       "      <td>1489567152</td>\n",
       "      <td>MIT</td>\n",
       "      <td>15460048</td>\n",
       "    </tr>\n",
       "    <tr>\n",
       "      <th>3</th>\n",
       "      <td>3</td>\n",
       "      <td>fun_horse</td>\n",
       "      <td>1489567152</td>\n",
       "      <td>NRA</td>\n",
       "      <td>21829541</td>\n",
       "    </tr>\n",
       "    <tr>\n",
       "      <th>4</th>\n",
       "      <td>4</td>\n",
       "      <td>fun_horse</td>\n",
       "      <td>1489567152</td>\n",
       "      <td>ODNIgov</td>\n",
       "      <td>56838279</td>\n",
       "    </tr>\n",
       "    <tr>\n",
       "      <th>...</th>\n",
       "      <td>...</td>\n",
       "      <td>...</td>\n",
       "      <td>...</td>\n",
       "      <td>...</td>\n",
       "      <td>...</td>\n",
       "    </tr>\n",
       "    <tr>\n",
       "      <th>115662</th>\n",
       "      <td>115662</td>\n",
       "      <td>crystalclean757</td>\n",
       "      <td>988937151843794944</td>\n",
       "      <td>Blackamazon</td>\n",
       "      <td>18052474</td>\n",
       "    </tr>\n",
       "    <tr>\n",
       "      <th>115663</th>\n",
       "      <td>115663</td>\n",
       "      <td>hanifactor</td>\n",
       "      <td>860145770653155330</td>\n",
       "      <td>VP</td>\n",
       "      <td>803694179079458816</td>\n",
       "    </tr>\n",
       "    <tr>\n",
       "      <th>115664</th>\n",
       "      <td>115664</td>\n",
       "      <td>hanifactor</td>\n",
       "      <td>860145770653155330</td>\n",
       "      <td>NASA</td>\n",
       "      <td>11348282</td>\n",
       "    </tr>\n",
       "    <tr>\n",
       "      <th>115665</th>\n",
       "      <td>115665</td>\n",
       "      <td>hanifactor</td>\n",
       "      <td>860145770653155330</td>\n",
       "      <td>USNavy</td>\n",
       "      <td>54885400</td>\n",
       "    </tr>\n",
       "    <tr>\n",
       "      <th>115666</th>\n",
       "      <td>115666</td>\n",
       "      <td>hanifactor</td>\n",
       "      <td>860145770653155330</td>\n",
       "      <td>AstroVicGlover</td>\n",
       "      <td>1024391197</td>\n",
       "    </tr>\n",
       "  </tbody>\n",
       "</table>\n",
       "<p>115667 rows × 5 columns</p>\n",
       "</div>"
      ],
      "text/plain": [
       "        Unnamed: 0           source           id_source          target  \\\n",
       "0                0        fun_horse          1489567152    MatthewJshow   \n",
       "1                1        fun_horse          1489567152      WhiteHouse   \n",
       "2                2        fun_horse          1489567152             MIT   \n",
       "3                3        fun_horse          1489567152             NRA   \n",
       "4                4        fun_horse          1489567152         ODNIgov   \n",
       "...            ...              ...                 ...             ...   \n",
       "115662      115662  crystalclean757  988937151843794944     Blackamazon   \n",
       "115663      115663       hanifactor  860145770653155330              VP   \n",
       "115664      115664       hanifactor  860145770653155330            NASA   \n",
       "115665      115665       hanifactor  860145770653155330          USNavy   \n",
       "115666      115666       hanifactor  860145770653155330  AstroVicGlover   \n",
       "\n",
       "                  id_target  \n",
       "0                 762932101  \n",
       "1       1323730225067339784  \n",
       "2                  15460048  \n",
       "3                  21829541  \n",
       "4                  56838279  \n",
       "...                     ...  \n",
       "115662             18052474  \n",
       "115663   803694179079458816  \n",
       "115664             11348282  \n",
       "115665             54885400  \n",
       "115666           1024391197  \n",
       "\n",
       "[115667 rows x 5 columns]"
      ]
     },
     "execution_count": 19,
     "metadata": {},
     "output_type": "execute_result"
    }
   ],
   "source": [
    "df_def"
   ]
  },
  {
   "cell_type": "code",
   "execution_count": 20,
   "metadata": {
    "id": "8b40xuraB8Ww"
   },
   "outputs": [],
   "source": [
    "del df_def[\"Unnamed: 0\"]"
   ]
  },
  {
   "cell_type": "code",
   "execution_count": 23,
   "metadata": {
    "id": "Ef6cVUVXB8Wx"
   },
   "outputs": [],
   "source": [
    "df_def_weighted = df_def.value_counts().to_frame(\"weights\").reset_index()"
   ]
  },
  {
   "cell_type": "code",
   "execution_count": 27,
   "metadata": {
    "colab": {
     "base_uri": "https://localhost:8080/",
     "height": 424
    },
    "executionInfo": {
     "elapsed": 9,
     "status": "ok",
     "timestamp": 1633689832954,
     "user": {
      "displayName": "Erica Cau",
      "photoUrl": "https://lh3.googleusercontent.com/a-/AOh14GgaHAm9eb7IEPH3gg3F8-B7BnNNHRInIVeLzqUivA=s64",
      "userId": "14542953089584718764"
     },
     "user_tz": -120
    },
    "id": "b3SMO7UAnZCM",
    "outputId": "35083d39-d95c-4e56-bba2-743fa7e7277b"
   },
   "outputs": [
    {
     "data": {
      "text/html": [
       "<div>\n",
       "<style scoped>\n",
       "    .dataframe tbody tr th:only-of-type {\n",
       "        vertical-align: middle;\n",
       "    }\n",
       "\n",
       "    .dataframe tbody tr th {\n",
       "        vertical-align: top;\n",
       "    }\n",
       "\n",
       "    .dataframe thead th {\n",
       "        text-align: right;\n",
       "    }\n",
       "</style>\n",
       "<table border=\"1\" class=\"dataframe\">\n",
       "  <thead>\n",
       "    <tr style=\"text-align: right;\">\n",
       "      <th></th>\n",
       "      <th>source</th>\n",
       "      <th>id_source</th>\n",
       "      <th>target</th>\n",
       "      <th>id_target</th>\n",
       "      <th>weights</th>\n",
       "    </tr>\n",
       "  </thead>\n",
       "  <tbody>\n",
       "    <tr>\n",
       "      <th>0</th>\n",
       "      <td>motor_felipe</td>\n",
       "      <td>1236537956610887680</td>\n",
       "      <td>allanldsantos</td>\n",
       "      <td>52048790</td>\n",
       "      <td>155</td>\n",
       "    </tr>\n",
       "    <tr>\n",
       "      <th>1</th>\n",
       "      <td>pengologist</td>\n",
       "      <td>16548831</td>\n",
       "      <td>SeattlePD</td>\n",
       "      <td>25101704</td>\n",
       "      <td>100</td>\n",
       "    </tr>\n",
       "    <tr>\n",
       "      <th>2</th>\n",
       "      <td>info4u2know</td>\n",
       "      <td>47725408</td>\n",
       "      <td>thehill</td>\n",
       "      <td>1917731</td>\n",
       "      <td>99</td>\n",
       "    </tr>\n",
       "    <tr>\n",
       "      <th>3</th>\n",
       "      <td>soloyochapin</td>\n",
       "      <td>93071854</td>\n",
       "      <td>realDonaldTrump</td>\n",
       "      <td>25073877</td>\n",
       "      <td>83</td>\n",
       "    </tr>\n",
       "    <tr>\n",
       "      <th>4</th>\n",
       "      <td>info4u2know</td>\n",
       "      <td>47725408</td>\n",
       "      <td>realDonaldTrump</td>\n",
       "      <td>25073877</td>\n",
       "      <td>82</td>\n",
       "    </tr>\n",
       "    <tr>\n",
       "      <th>...</th>\n",
       "      <td>...</td>\n",
       "      <td>...</td>\n",
       "      <td>...</td>\n",
       "      <td>...</td>\n",
       "      <td>...</td>\n",
       "    </tr>\n",
       "    <tr>\n",
       "      <th>81058</th>\n",
       "      <td>mrsfosters4th</td>\n",
       "      <td>1177287673</td>\n",
       "      <td>CMcCabeWCPSS</td>\n",
       "      <td>1138145019024486400</td>\n",
       "      <td>1</td>\n",
       "    </tr>\n",
       "    <tr>\n",
       "      <th>81059</th>\n",
       "      <td>mrsesantamaria</td>\n",
       "      <td>337449425</td>\n",
       "      <td>blkeducator</td>\n",
       "      <td>170624419</td>\n",
       "      <td>1</td>\n",
       "    </tr>\n",
       "    <tr>\n",
       "      <th>81060</th>\n",
       "      <td>mrsefter</td>\n",
       "      <td>755904465765629952</td>\n",
       "      <td>vscouncil</td>\n",
       "      <td>2834551997</td>\n",
       "      <td>1</td>\n",
       "    </tr>\n",
       "    <tr>\n",
       "      <th>81061</th>\n",
       "      <td>mrsefter</td>\n",
       "      <td>755904465765629952</td>\n",
       "      <td>seydric7</td>\n",
       "      <td>150300335</td>\n",
       "      <td>1</td>\n",
       "    </tr>\n",
       "    <tr>\n",
       "      <th>81062</th>\n",
       "      <td>000hmy</td>\n",
       "      <td>22564173</td>\n",
       "      <td>PortlandPolice</td>\n",
       "      <td>14604442</td>\n",
       "      <td>1</td>\n",
       "    </tr>\n",
       "  </tbody>\n",
       "</table>\n",
       "<p>81063 rows × 5 columns</p>\n",
       "</div>"
      ],
      "text/plain": [
       "               source            id_source           target  \\\n",
       "0        motor_felipe  1236537956610887680    allanldsantos   \n",
       "1         pengologist             16548831        SeattlePD   \n",
       "2         info4u2know             47725408          thehill   \n",
       "3        soloyochapin             93071854  realDonaldTrump   \n",
       "4         info4u2know             47725408  realDonaldTrump   \n",
       "...               ...                  ...              ...   \n",
       "81058   mrsfosters4th           1177287673     CMcCabeWCPSS   \n",
       "81059  mrsesantamaria            337449425      blkeducator   \n",
       "81060        mrsefter   755904465765629952        vscouncil   \n",
       "81061        mrsefter   755904465765629952         seydric7   \n",
       "81062          000hmy             22564173   PortlandPolice   \n",
       "\n",
       "                 id_target  weights  \n",
       "0                 52048790      155  \n",
       "1                 25101704      100  \n",
       "2                  1917731       99  \n",
       "3                 25073877       83  \n",
       "4                 25073877       82  \n",
       "...                    ...      ...  \n",
       "81058  1138145019024486400        1  \n",
       "81059            170624419        1  \n",
       "81060           2834551997        1  \n",
       "81061            150300335        1  \n",
       "81062             14604442        1  \n",
       "\n",
       "[81063 rows x 5 columns]"
      ]
     },
     "execution_count": 27,
     "metadata": {},
     "output_type": "execute_result"
    }
   ],
   "source": [
    "df_def_weighted"
   ]
  },
  {
   "cell_type": "markdown",
   "metadata": {},
   "source": [
    "* normalize the weight value"
   ]
  },
  {
   "cell_type": "code",
   "execution_count": 29,
   "metadata": {
    "id": "JgariCOfB8Wx"
   },
   "outputs": [],
   "source": [
    "df_def_weighted[\"weights\"] = (df_def_weighted[\"weights\"] - (df_def_weighted[\"weights\"]).min())/((df_def_weighted[\"weights\"].max()-(df_def_weighted[\"weights\"]).min() ))"
   ]
  },
  {
   "cell_type": "code",
   "execution_count": 35,
   "metadata": {
    "id": "t7UmR-nXB8Wy"
   },
   "outputs": [],
   "source": [
    "df_def_weighted.to_csv(\"../data_collection/data/df_per_grafo_pesato.csv\")"
   ]
  },
  {
   "cell_type": "markdown",
   "metadata": {
    "id": "lQ7VzcenzHH3"
   },
   "source": [
    "## Data preprocessing for DCD\n",
    "\n",
    "* we also prepared a dataset containing the quarter information\n"
   ]
  },
  {
   "cell_type": "code",
   "execution_count": 1,
   "metadata": {
    "collapsed": true,
    "executionInfo": {
     "elapsed": 24882,
     "status": "ok",
     "timestamp": 1633795683456,
     "user": {
      "displayName": "Erica Cau",
      "photoUrl": "https://lh3.googleusercontent.com/a-/AOh14GgaHAm9eb7IEPH3gg3F8-B7BnNNHRInIVeLzqUivA=s64",
      "userId": "14542953089584718764"
     },
     "user_tz": -120
    },
    "id": "jCmDiohezGgf",
    "jupyter": {
     "outputs_hidden": true
    },
    "tags": []
   },
   "outputs": [
    {
     "ename": "NameError",
     "evalue": "name 'pd' is not defined",
     "output_type": "error",
     "traceback": [
      "\u001b[1;31m---------------------------------------------------------------------------\u001b[0m",
      "\u001b[1;31mNameError\u001b[0m                                 Traceback (most recent call last)",
      "\u001b[1;32m<ipython-input-1-67334c1ccef2>\u001b[0m in \u001b[0;36m<module>\u001b[1;34m\u001b[0m\n\u001b[1;32m----> 1\u001b[1;33m \u001b[0mdf_primo\u001b[0m \u001b[1;33m=\u001b[0m \u001b[0mpd\u001b[0m\u001b[1;33m.\u001b[0m\u001b[0mread_csv\u001b[0m\u001b[1;33m(\u001b[0m\u001b[1;34m\"../data_collection/data/prima-parte.csv\"\u001b[0m\u001b[1;33m,\u001b[0m \u001b[0mna_filter\u001b[0m\u001b[1;33m=\u001b[0m\u001b[1;32mTrue\u001b[0m\u001b[1;33m,\u001b[0m \u001b[0mna_values\u001b[0m\u001b[1;33m=\u001b[0m\u001b[1;34m'[]'\u001b[0m\u001b[1;33m)\u001b[0m\u001b[1;33m\u001b[0m\u001b[1;33m\u001b[0m\u001b[0m\n\u001b[0m\u001b[0;32m      2\u001b[0m \u001b[0mdf_secondo\u001b[0m \u001b[1;33m=\u001b[0m \u001b[0mpd\u001b[0m\u001b[1;33m.\u001b[0m\u001b[0mread_csv\u001b[0m\u001b[1;33m(\u001b[0m\u001b[1;34m\"../data_collection/data/SecondaParte.csv\"\u001b[0m\u001b[1;33m,\u001b[0m \u001b[0mna_filter\u001b[0m\u001b[1;33m=\u001b[0m\u001b[1;32mTrue\u001b[0m\u001b[1;33m,\u001b[0m \u001b[0mna_values\u001b[0m\u001b[1;33m=\u001b[0m\u001b[1;34m'[]'\u001b[0m\u001b[1;33m)\u001b[0m\u001b[1;33m\u001b[0m\u001b[1;33m\u001b[0m\u001b[0m\n\u001b[0;32m      3\u001b[0m \u001b[0mdf_terzo\u001b[0m \u001b[1;33m=\u001b[0m \u001b[0mpd\u001b[0m\u001b[1;33m.\u001b[0m\u001b[0mread_csv\u001b[0m\u001b[1;33m(\u001b[0m\u001b[1;34m\"../data_collection/data/terza-parte.csv\"\u001b[0m\u001b[1;33m,\u001b[0m \u001b[0mna_filter\u001b[0m\u001b[1;33m=\u001b[0m\u001b[1;32mTrue\u001b[0m\u001b[1;33m,\u001b[0m \u001b[0mna_values\u001b[0m\u001b[1;33m=\u001b[0m\u001b[1;34m'[]'\u001b[0m\u001b[1;33m)\u001b[0m\u001b[1;33m\u001b[0m\u001b[1;33m\u001b[0m\u001b[0m\n\u001b[0;32m      4\u001b[0m \u001b[0mdf_quarto\u001b[0m \u001b[1;33m=\u001b[0m \u001b[0mpd\u001b[0m\u001b[1;33m.\u001b[0m\u001b[0mread_csv\u001b[0m\u001b[1;33m(\u001b[0m\u001b[1;34m\"../data_collection/data/quarta_parte.csv\"\u001b[0m\u001b[1;33m,\u001b[0m \u001b[0mna_filter\u001b[0m\u001b[1;33m=\u001b[0m\u001b[1;32mTrue\u001b[0m\u001b[1;33m,\u001b[0m \u001b[0mna_values\u001b[0m\u001b[1;33m=\u001b[0m\u001b[1;34m'[]'\u001b[0m\u001b[1;33m)\u001b[0m\u001b[1;33m\u001b[0m\u001b[1;33m\u001b[0m\u001b[0m\n",
      "\u001b[1;31mNameError\u001b[0m: name 'pd' is not defined"
     ]
    }
   ],
   "source": [
    "df_primo = pd.read_csv(\"../data_collection/data/prima-parte.csv\", na_filter=True, na_values='[]')\n",
    "df_secondo = pd.read_csv(\"../data_collection/data/SecondaParte.csv\", na_filter=True, na_values='[]')\n",
    "df_terzo = pd.read_csv(\"../data_collection/data/terza-parte.csv\", na_filter=True, na_values='[]')\n",
    "df_quarto = pd.read_csv(\"../data_collection/data/quarta_parte.csv\", na_filter=True, na_values='[]')"
   ]
  },
  {
   "cell_type": "code",
   "execution_count": 8,
   "metadata": {
    "executionInfo": {
     "elapsed": 205,
     "status": "ok",
     "timestamp": 1633795693128,
     "user": {
      "displayName": "Erica Cau",
      "photoUrl": "https://lh3.googleusercontent.com/a-/AOh14GgaHAm9eb7IEPH3gg3F8-B7BnNNHRInIVeLzqUivA=s64",
      "userId": "14542953089584718764"
     },
     "user_tz": -120
    },
    "id": "QarpXTOJzOE7"
   },
   "outputs": [],
   "source": [
    "del df_primo[\"Unnamed: 0\"]\n",
    "del df_secondo[\"Unnamed: 0\"]\n",
    "del df_terzo[\"Unnamed: 0\"]\n",
    "del df_quarto[\"Unnamed: 0\"]"
   ]
  },
  {
   "cell_type": "code",
   "execution_count": 11,
   "metadata": {
    "executionInfo": {
     "elapsed": 340,
     "status": "ok",
     "timestamp": 1633795751817,
     "user": {
      "displayName": "Erica Cau",
      "photoUrl": "https://lh3.googleusercontent.com/a-/AOh14GgaHAm9eb7IEPH3gg3F8-B7BnNNHRInIVeLzqUivA=s64",
      "userId": "14542953089584718764"
     },
     "user_tz": -120
    },
    "id": "vYsbdWd6z-N-"
   },
   "outputs": [],
   "source": [
    "df_definitivo_1 = df_primo.drop([\"retweet_date\", \"translate\", \"trans_src\", \"trans_dest\", \"near\", \"geo\", \"source\", \"user_rt_id\",\"user_rt\", \"retweet_id\", \"place\", \"thumbnail\", \"video\", \"language\", \"photos\" , \"created_at\", \"timezone\", \"cashtags\", \"urls\", \"retweet\", \"quote_url\"], axis=1)\n",
    "df_definitivo_2 = df_secondo.drop([\"retweet_date\", \"translate\", \"trans_src\", \"trans_dest\", \"near\", \"geo\", \"source\", \"user_rt_id\",\"user_rt\", \"retweet_id\", \"place\", \"thumbnail\", \"video\", \"language\", \"photos\" , \"created_at\", \"timezone\", \"cashtags\", \"urls\", \"retweet\", \"quote_url\"], axis=1)\n",
    "df_definitivo_3 = df_terzo.drop([\"retweet_date\", \"translate\", \"trans_src\", \"trans_dest\", \"near\", \"geo\", \"source\", \"user_rt_id\",\"user_rt\", \"retweet_id\", \"place\", \"thumbnail\", \"video\", \"language\", \"photos\" , \"created_at\", \"timezone\", \"cashtags\", \"urls\", \"retweet\", \"quote_url\"], axis=1)\n",
    "df_definitivo_4 = df_quarto.drop([\"retweet_date\", \"translate\", \"trans_src\", \"trans_dest\", \"near\", \"geo\", \"source\", \"user_rt_id\",\"user_rt\", \"retweet_id\", \"place\", \"thumbnail\", \"video\", \"language\", \"photos\" , \"created_at\", \"timezone\", \"cashtags\", \"urls\", \"retweet\", \"quote_url\"], axis=1)"
   ]
  },
  {
   "cell_type": "code",
   "execution_count": 21,
   "metadata": {
    "executionInfo": {
     "elapsed": 212,
     "status": "ok",
     "timestamp": 1633796044176,
     "user": {
      "displayName": "Erica Cau",
      "photoUrl": "https://lh3.googleusercontent.com/a-/AOh14GgaHAm9eb7IEPH3gg3F8-B7BnNNHRInIVeLzqUivA=s64",
      "userId": "14542953089584718764"
     },
     "user_tz": -120
    },
    "id": "hYW2pCo-z-N-"
   },
   "outputs": [],
   "source": [
    "df_definitivo_1.reset_index(inplace=True)\n",
    "df_definitivo_2.reset_index(inplace=True)\n",
    "df_definitivo_3.reset_index(inplace=True)\n",
    "df_definitivo_4.reset_index(inplace=True)"
   ]
  },
  {
   "cell_type": "code",
   "execution_count": 22,
   "metadata": {
    "executionInfo": {
     "elapsed": 1,
     "status": "ok",
     "timestamp": 1633796044390,
     "user": {
      "displayName": "Erica Cau",
      "photoUrl": "https://lh3.googleusercontent.com/a-/AOh14GgaHAm9eb7IEPH3gg3F8-B7BnNNHRInIVeLzqUivA=s64",
      "userId": "14542953089584718764"
     },
     "user_tz": -120
    },
    "id": "E0vKL8720b2F"
   },
   "outputs": [],
   "source": [
    "del df_definitivo_1[\"index\"]\n",
    "del df_definitivo_2[\"index\"]\n",
    "del df_definitivo_3[\"index\"]\n",
    "del df_definitivo_4[\"index\"]\n"
   ]
  },
  {
   "cell_type": "code",
   "execution_count": 15,
   "metadata": {
    "executionInfo": {
     "elapsed": 1112,
     "status": "ok",
     "timestamp": 1633795886574,
     "user": {
      "displayName": "Erica Cau",
      "photoUrl": "https://lh3.googleusercontent.com/a-/AOh14GgaHAm9eb7IEPH3gg3F8-B7BnNNHRInIVeLzqUivA=s64",
      "userId": "14542953089584718764"
     },
     "user_tz": -120
    },
    "id": "D1Sg3k0k0b2I"
   },
   "outputs": [],
   "source": [
    "df_definitivo_1 = df_definitivo_1.dropna()\n",
    "df_definitivo_2 = df_definitivo_2.dropna()\n",
    "df_definitivo_3 = df_definitivo_3.dropna()\n",
    "df_definitivo_4 = df_definitivo_4.dropna()"
   ]
  },
  {
   "cell_type": "code",
   "execution_count": 17,
   "metadata": {
    "executionInfo": {
     "elapsed": 1707,
     "status": "ok",
     "timestamp": 1633795930731,
     "user": {
      "displayName": "Erica Cau",
      "photoUrl": "https://lh3.googleusercontent.com/a-/AOh14GgaHAm9eb7IEPH3gg3F8-B7BnNNHRInIVeLzqUivA=s64",
      "userId": "14542953089584718764"
     },
     "user_tz": -120
    },
    "id": "eTWV8iI-0b2J"
   },
   "outputs": [],
   "source": [
    "df_definitivo_1['reply_to'] = df_definitivo_1['reply_to'].map(eval)\n",
    "df_definitivo_2['reply_to'] = df_definitivo_2['reply_to'].map(eval)\n",
    "df_definitivo_3['reply_to'] = df_definitivo_3['reply_to'].map(eval)\n",
    "df_definitivo_4['reply_to'] = df_definitivo_4['reply_to'].map(eval)"
   ]
  },
  {
   "cell_type": "code",
   "execution_count": 24,
   "metadata": {
    "executionInfo": {
     "elapsed": 208,
     "status": "ok",
     "timestamp": 1633796049721,
     "user": {
      "displayName": "Erica Cau",
      "photoUrl": "https://lh3.googleusercontent.com/a-/AOh14GgaHAm9eb7IEPH3gg3F8-B7BnNNHRInIVeLzqUivA=s64",
      "userId": "14542953089584718764"
     },
     "user_tz": -120
    },
    "id": "FGa0WGnx0b2K"
   },
   "outputs": [],
   "source": [
    "lista1 = []\n",
    "lista2 = []\n",
    "lista3 = []\n",
    "lista4 = []"
   ]
  },
  {
   "cell_type": "code",
   "execution_count": 28,
   "metadata": {
    "executionInfo": {
     "elapsed": 284,
     "status": "ok",
     "timestamp": 1633796085393,
     "user": {
      "displayName": "Erica Cau",
      "photoUrl": "https://lh3.googleusercontent.com/a-/AOh14GgaHAm9eb7IEPH3gg3F8-B7BnNNHRInIVeLzqUivA=s64",
      "userId": "14542953089584718764"
     },
     "user_tz": -120
    },
    "id": "tLZuaa-x0b2K"
   },
   "outputs": [],
   "source": [
    "for index in range(0, len(df_definitivo_1)):\n",
    "    for dizionario in df_definitivo_1['reply_to'][index]:\n",
    "      lista1.append((df_definitivo_1['username'][index], df_definitivo_1[\"user_id\"][index], dizionario['screen_name'], dizionario[\"id\"], 1))\n",
    "        \n",
    "  \n",
    "\n",
    "df_Q1 = pd.DataFrame(lista1, columns = [\"username_mittente\", \"id_mittente\",\"username_ricevente\", \"id_ricevente\", \"quarter\"])"
   ]
  },
  {
   "cell_type": "code",
   "execution_count": 30,
   "metadata": {
    "executionInfo": {
     "elapsed": 2142,
     "status": "ok",
     "timestamp": 1633796198774,
     "user": {
      "displayName": "Erica Cau",
      "photoUrl": "https://lh3.googleusercontent.com/a-/AOh14GgaHAm9eb7IEPH3gg3F8-B7BnNNHRInIVeLzqUivA=s64",
      "userId": "14542953089584718764"
     },
     "user_tz": -120
    },
    "id": "0PtwBVnM0b2K"
   },
   "outputs": [],
   "source": [
    "for index in range(0, len(df_definitivo_2)):\n",
    "    for dizionario in df_definitivo_2['reply_to'][index]:\n",
    "      lista2.append((df_definitivo_2['username'][index], df_definitivo_2[\"user_id\"][index], dizionario['screen_name'], dizionario[\"id\"], 2))\n",
    "        \n",
    "  \n",
    "\n",
    "df_Q2 = pd.DataFrame(lista2, columns = [\"username_mittente\", \"id_mittente\",\"username_ricevente\", \"id_ricevente\", \"quarter\"])\n",
    "\n",
    "for index in range(0, len(df_definitivo_3)):\n",
    "    for dizionario in df_definitivo_3['reply_to'][index]:\n",
    "      lista3.append((df_definitivo_3['username'][index], df_definitivo_3[\"user_id\"][index], dizionario['screen_name'], dizionario[\"id\"], 3))\n",
    "        \n",
    "  \n",
    "\n",
    "df_Q3 = pd.DataFrame(lista3, columns = [\"username_mittente\", \"id_mittente\",\"username_ricevente\", \"id_ricevente\", \"quarter\"])\n",
    "\n",
    "for index in range(0, len(df_definitivo_4)):\n",
    "    for dizionario in df_definitivo_4['reply_to'][index]:\n",
    "      lista4.append((df_definitivo_4['username'][index], df_definitivo_4[\"user_id\"][index], dizionario['screen_name'], dizionario[\"id\"], 4))\n",
    "        \n",
    "df_Q4 = pd.DataFrame(lista4, columns = [\"username_mittente\", \"id_mittente\",\"username_ricevente\", \"id_ricevente\", \"quarter\"])"
   ]
  },
  {
   "cell_type": "code",
   "execution_count": 31,
   "metadata": {
    "executionInfo": {
     "elapsed": 560,
     "status": "ok",
     "timestamp": 1633796295645,
     "user": {
      "displayName": "Erica Cau",
      "photoUrl": "https://lh3.googleusercontent.com/a-/AOh14GgaHAm9eb7IEPH3gg3F8-B7BnNNHRInIVeLzqUivA=s64",
      "userId": "14542953089584718764"
     },
     "user_tz": -120
    },
    "id": "j_4J031M0b2L"
   },
   "outputs": [],
   "source": [
    "df_Q1_w = df_Q1.value_counts().to_frame(\"weights\").reset_index()\n",
    "df_Q2_w = df_Q2.value_counts().to_frame(\"weights\").reset_index()\n",
    "df_Q3_w = df_Q3.value_counts().to_frame(\"weights\").reset_index()\n",
    "df_Q4_w = df_Q4.value_counts().to_frame(\"weights\").reset_index()"
   ]
  },
  {
   "cell_type": "code",
   "execution_count": 32,
   "metadata": {
    "executionInfo": {
     "elapsed": 206,
     "status": "ok",
     "timestamp": 1633796342468,
     "user": {
      "displayName": "Erica Cau",
      "photoUrl": "https://lh3.googleusercontent.com/a-/AOh14GgaHAm9eb7IEPH3gg3F8-B7BnNNHRInIVeLzqUivA=s64",
      "userId": "14542953089584718764"
     },
     "user_tz": -120
    },
    "id": "kIxwcvBE0b2L"
   },
   "outputs": [],
   "source": [
    "df_Q1_w[\"weights\"] = (df_Q1_w[\"weights\"] - (df_Q1_w[\"weights\"]).min())/((df_Q1_w[\"weights\"].max()-(df_Q1_w[\"weights\"]).min() ))\n",
    "df_Q2_w[\"weights\"] = (df_Q2_w[\"weights\"] - (df_Q2_w[\"weights\"]).min())/((df_Q2_w[\"weights\"].max()-(df_Q2_w[\"weights\"]).min() ))\n",
    "df_Q3_w[\"weights\"] = (df_Q3_w[\"weights\"] - (df_Q3_w[\"weights\"]).min())/((df_Q3_w[\"weights\"].max()-(df_Q3_w[\"weights\"]).min() ))\n",
    "df_Q4_w[\"weights\"] = (df_Q4_w[\"weights\"] - (df_Q4_w[\"weights\"]).min())/((df_Q4_w[\"weights\"].max()-(df_Q4_w[\"weights\"]).min() ))"
   ]
  },
  {
   "cell_type": "code",
   "execution_count": 34,
   "metadata": {
    "executionInfo": {
     "elapsed": 2454,
     "status": "ok",
     "timestamp": 1633796416127,
     "user": {
      "displayName": "Erica Cau",
      "photoUrl": "https://lh3.googleusercontent.com/a-/AOh14GgaHAm9eb7IEPH3gg3F8-B7BnNNHRInIVeLzqUivA=s64",
      "userId": "14542953089584718764"
     },
     "user_tz": -120
    },
    "id": "IKJXnxab0b2L"
   },
   "outputs": [],
   "source": [
    "df_Q1_w.to_csv(\"../data_collection/data/df_Q1.csv\")\n",
    "df_Q2_w.to_csv(\"../data_collection/data/df_Q2.csv\")\n",
    "df_Q3_w.to_csv(\"../data_collection/data/df_Q3.csv\")\n",
    "df_Q4_w.to_csv(\"../data_collection/data/df_Q4.csv\")"
   ]
  },
  {
   "cell_type": "code",
   "execution_count": null,
   "metadata": {},
   "outputs": [],
   "source": []
  }
 ],
 "metadata": {
  "colab": {
   "collapsed_sections": [],
   "name": "1 - Preparazione dataset ",
   "provenance": []
  },
  "kernelspec": {
   "display_name": "Python 3",
   "language": "python",
   "name": "python3"
  },
  "language_info": {
   "codemirror_mode": {
    "name": "ipython",
    "version": 3
   },
   "file_extension": ".py",
   "mimetype": "text/x-python",
   "name": "python",
   "nbconvert_exporter": "python",
   "pygments_lexer": "ipython3",
   "version": "3.8.5"
  },
  "varInspector": {
   "cols": {
    "lenName": 16,
    "lenType": 16,
    "lenVar": 40
   },
   "kernels_config": {
    "python": {
     "delete_cmd_postfix": "",
     "delete_cmd_prefix": "del ",
     "library": "var_list.py",
     "varRefreshCmd": "print(var_dic_list())"
    },
    "r": {
     "delete_cmd_postfix": ") ",
     "delete_cmd_prefix": "rm(",
     "library": "var_list.r",
     "varRefreshCmd": "cat(var_dic_list()) "
    }
   },
   "types_to_exclude": [
    "module",
    "function",
    "builtin_function_or_method",
    "instance",
    "_Feature"
   ],
   "window_display": false
  }
 },
 "nbformat": 4,
 "nbformat_minor": 4
}
